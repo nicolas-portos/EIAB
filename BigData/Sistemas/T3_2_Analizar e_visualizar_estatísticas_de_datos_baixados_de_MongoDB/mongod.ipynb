{
 "cells": [
  {
   "cell_type": "markdown",
   "metadata": {},
   "source": [
    "mongodb+srv://nicolas:<password>@clase.2axjvot.mongodb.net/"
   ]
  },
  {
   "cell_type": "markdown",
   "metadata": {},
   "source": [
    "Por obvios motivos esto ya no funciona, esto era una db de pruebas"
   ]
  },
  {
   "cell_type": "code",
   "execution_count": 15,
   "metadata": {},
   "outputs": [],
   "source": [
    "# %conda install -y pymongo dnspython"
   ]
  },
  {
   "cell_type": "code",
   "execution_count": 16,
   "metadata": {},
   "outputs": [],
   "source": [
    "from pymongo import MongoClient\n",
    "\n",
    "HOST=\"clase.2axjvot.mongodb.net\"\n",
    "PORT=27017\n",
    "USERNAME=\"nicolas\"\n",
    "PASSWORD=\"YS9v3DIbkoTMQUxL\"\n",
    "\n",
    "if HOST == 'localhost':\n",
    "    if not USERNAME:\n",
    "        cli_mongo = MongoClient(HOST, PORT)\n",
    "    else:\n",
    "        cli_mongo = MongoClient(HOST, PORT, USERNAME, PASSWORD)\n",
    "else:\n",
    "    cli_mongo = MongoClient(f\"mongodb+srv://{USERNAME}:{PASSWORD}@{HOST}\")"
   ]
  },
  {
   "cell_type": "code",
   "execution_count": 17,
   "metadata": {},
   "outputs": [
    {
     "name": "stdout",
     "output_type": "stream",
     "text": [
      "['sample_airbnb', 'sample_analytics', 'sample_geospatial', 'sample_guides', 'sample_mflix', 'sample_restaurants', 'sample_supplies', 'sample_training', 'sample_weatherdata', 'admin', 'local']\n"
     ]
    }
   ],
   "source": [
    "print(cli_mongo.list_database_names())"
   ]
  },
  {
   "cell_type": "code",
   "execution_count": 18,
   "metadata": {},
   "outputs": [],
   "source": [
    "db_sample_mflix = cli_mongo[\"sample_mflix\"]\n",
    "collection_movies = db_sample_mflix[\"movies\"]"
   ]
  },
  {
   "cell_type": "markdown",
   "metadata": {},
   "source": [
    "## Contar o total de películas."
   ]
  },
  {
   "cell_type": "code",
   "execution_count": 21,
   "metadata": {},
   "outputs": [
    {
     "data": {
      "text/plain": [
       "21349"
      ]
     },
     "execution_count": 21,
     "metadata": {},
     "output_type": "execute_result"
    }
   ],
   "source": [
    "collection_movies.count_documents({})"
   ]
  },
  {
   "cell_type": "markdown",
   "metadata": {},
   "source": [
    "## Contar o número de películas de cada xénero."
   ]
  },
  {
   "cell_type": "code",
   "execution_count": null,
   "metadata": {},
   "outputs": [],
   "source": [
    "collection_movies.count_documents({})"
   ]
  }
 ],
 "metadata": {
  "kernelspec": {
   "display_name": "bigdata",
   "language": "python",
   "name": "python3"
  },
  "language_info": {
   "codemirror_mode": {
    "name": "ipython",
    "version": 3
   },
   "file_extension": ".py",
   "mimetype": "text/x-python",
   "name": "python",
   "nbconvert_exporter": "python",
   "pygments_lexer": "ipython3",
   "version": "3.8.18"
  }
 },
 "nbformat": 4,
 "nbformat_minor": 2
}
