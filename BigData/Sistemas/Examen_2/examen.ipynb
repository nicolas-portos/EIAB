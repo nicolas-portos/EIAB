{
 "cells": [
  {
   "cell_type": "code",
   "execution_count": 1,
   "metadata": {},
   "outputs": [],
   "source": [
    "from selenium import webdriver\n",
    "from selenium.webdriver.common.by import By\n",
    "from selenium.common.exceptions import NoSuchElementException\n",
    "from selenium.webdriver.support import expected_conditions as EC\n",
    "from selenium.webdriver.support.ui import WebDriverWait\n",
    "from webdriver_manager.firefox import GeckoDriverManager\n",
    "from bs4 import BeautifulSoup as bsp\n",
    "import pandas as pd\n",
    "import time, random"
   ]
  },
  {
   "cell_type": "code",
   "execution_count": 2,
   "metadata": {},
   "outputs": [],
   "source": [
    "URL = \"https://eumostwanted.eu/es\""
   ]
  },
  {
   "cell_type": "code",
   "execution_count": 3,
   "metadata": {},
   "outputs": [],
   "source": [
    "def waitFinishLoad(driver, byLoader=By.ID, valueLoader=None, dissapear=False, extra_wait=False):\n",
    "    if valueLoader is None: return\n",
    "    WebDriverWait(driver, 10).until(EC.presence_of_element_located((byLoader, valueLoader)))\n",
    "    if dissapear: WebDriverWait(driver, 10).until(EC.invisibility_of_element((byLoader, valueLoader)))\n",
    "    if extra_wait: time.sleep(random.choice([0.6, 0.5, 0.8, 0.7, 0.9, 0.4]))\n",
    "\n",
    "def get_elem(driver, by, value):\n",
    "    return driver.find_element(by, value)\n",
    "\n",
    "def get_elements(driver, by, value):\n",
    "    return driver.find_elements(by, value)\n",
    "\n",
    "def click(driver, by, value):\n",
    "    get_elem(driver, by, value).click()\n",
    "\n",
    "def click_script(driver, value, by=By.ID):\n",
    "    driver.execute_script(get_elem(driver, by, value).get_dom_attribute(\"onClick\"))"
   ]
  },
  {
   "cell_type": "code",
   "execution_count": 4,
   "metadata": {},
   "outputs": [],
   "source": [
    "GeckoDriverManager().install()\n",
    "driver = webdriver.Firefox()"
   ]
  },
  {
   "cell_type": "code",
   "execution_count": 5,
   "metadata": {},
   "outputs": [],
   "source": [
    "test = []\n",
    "try:\n",
    "    driver.get(URL)\n",
    "    waitFinishLoad(driver, byLoader=By.XPATH, valueLoader=\"//script[contains(@type, 'application/json')]\")\n",
    "    click(driver, By.ID, \"sort_checkbox\")\n",
    "    \n",
    "    for i in range(len(get_elements(driver, By.XPATH, \"//div[contains(@class, 'wantedItem')]\"))):\n",
    "\n",
    "        if \"arrested\" not in get_elem(driver, By.XPATH,f\"//div[contains(@class, 'wantedItem')][{i+1}]\").get_attribute(\"class\"):\n",
    "            click(driver, By.XPATH,f\"//div[contains(@class, 'wantedItem')][{i+1}]\")\n",
    "            test.append(get_elem(driver, By.CLASS_NAME,\"wanted_top_right\").text)\n",
    "            click(driver, By.CLASS_NAME, \"mobile\")\n",
    "        \n",
    "except NoSuchElementException as e:\n",
    "    print(\"Error\\n\", e)"
   ]
  },
  {
   "cell_type": "code",
   "execution_count": 6,
   "metadata": {},
   "outputs": [],
   "source": [
    "criminals = []\n",
    "for i in range(len(test)):\n",
    "    nombre = test[i].split(\"\\n\")[0].split(\"Wanted\")[0].split(\"PELIGROSO\")[0] \n",
    "    for linea in test[i].split(\"\\n\"):\n",
    "        if \"by\" in linea:\n",
    "            if \"by\" in linea.split(\"Wanted\")[0]:\n",
    "                buscado = linea.split(\"Wanted\")[0].split(\"by\")[1]\n",
    "            else:\n",
    "                buscado = linea.split(\"Wanted\")[1].split(\"by\")[1]\n",
    "        if \"FECHA\" in linea:\n",
    "            fecha = linea.split(\"NACIMIENTO\")[1]\n",
    "            edad = linea.split(\"NACIMIENTO\")[1].split(\"(\")[1].split(\" \")[0]\n",
    "        if \"NACIONALIDAD\" in linea:\n",
    "            nacionalidad = linea.split(\"NACIONALIDAD\")[1]\n",
    "        if \"ORIGEN\" in linea:\n",
    "            origen = linea.split(\"ÉTNICO\")[1]\n",
    "        if \"IDIOMAS\" in linea:\n",
    "            idiomas = linea.split(\"HABLADOS\")[1]\n",
    "    \n",
    "    criminals.append({\"nombre\": nombre, \"buscado\": buscado, \"fecha_nacimiento\": fecha, \"edad\": edad, \"nacionalidad\": nacionalidad, \"origen_etnico\": origen, \"idiomas\": idiomas})"
   ]
  },
  {
   "cell_type": "code",
   "execution_count": 7,
   "metadata": {},
   "outputs": [
    {
     "data": {
      "text/html": [
       "<div>\n",
       "<style scoped>\n",
       "    .dataframe tbody tr th:only-of-type {\n",
       "        vertical-align: middle;\n",
       "    }\n",
       "\n",
       "    .dataframe tbody tr th {\n",
       "        vertical-align: top;\n",
       "    }\n",
       "\n",
       "    .dataframe thead th {\n",
       "        text-align: right;\n",
       "    }\n",
       "</style>\n",
       "<table border=\"1\" class=\"dataframe\">\n",
       "  <thead>\n",
       "    <tr style=\"text-align: right;\">\n",
       "      <th></th>\n",
       "      <th>nombre</th>\n",
       "      <th>buscado</th>\n",
       "      <th>fecha_nacimiento</th>\n",
       "      <th>edad</th>\n",
       "      <th>nacionalidad</th>\n",
       "      <th>origen_etnico</th>\n",
       "      <th>idiomas</th>\n",
       "    </tr>\n",
       "  </thead>\n",
       "  <tbody>\n",
       "    <tr>\n",
       "      <th>0</th>\n",
       "      <td>GARWEG, Burkhard</td>\n",
       "      <td>Alemania</td>\n",
       "      <td>Septiembre 1, 1968 (55 years)</td>\n",
       "      <td>55</td>\n",
       "      <td>German</td>\n",
       "      <td>European</td>\n",
       "      <td>German</td>\n",
       "    </tr>\n",
       "    <tr>\n",
       "      <th>1</th>\n",
       "      <td>STAUB, Ernst-Volker</td>\n",
       "      <td>Alemania</td>\n",
       "      <td>Octubre 30, 1954 (69 years)</td>\n",
       "      <td>69</td>\n",
       "      <td>German</td>\n",
       "      <td>European</td>\n",
       "      <td>German</td>\n",
       "    </tr>\n",
       "    <tr>\n",
       "      <th>2</th>\n",
       "      <td>JANKEVICS, Māris</td>\n",
       "      <td>Letonia</td>\n",
       "      <td>Enero 24, 1979 (45 years)</td>\n",
       "      <td>45</td>\n",
       "      <td>Latvian</td>\n",
       "      <td>European</td>\n",
       "      <td>German</td>\n",
       "    </tr>\n",
       "    <tr>\n",
       "      <th>3</th>\n",
       "      <td>BURRELI, Aleks Καταζητούμενος by Κύπρος</td>\n",
       "      <td>Κύπρος</td>\n",
       "      <td>Febrero 1, 1968 (56 years)</td>\n",
       "      <td>56</td>\n",
       "      <td>Latvian</td>\n",
       "      <td>Ευρώπης</td>\n",
       "      <td>Albanian</td>\n",
       "    </tr>\n",
       "    <tr>\n",
       "      <th>4</th>\n",
       "      <td>LEIJDEKKERS, Joseph Johannes (Jos)</td>\n",
       "      <td>Holanda</td>\n",
       "      <td>Julio 1, 1991 (32 years)</td>\n",
       "      <td>32</td>\n",
       "      <td>Dutch</td>\n",
       "      <td>European</td>\n",
       "      <td>Albanian</td>\n",
       "    </tr>\n",
       "  </tbody>\n",
       "</table>\n",
       "</div>"
      ],
      "text/plain": [
       "                                    nombre    buscado  \\\n",
       "0                        GARWEG, Burkhard    Alemania   \n",
       "1                     STAUB, Ernst-Volker    Alemania   \n",
       "2                        JANKEVICS, Māris     Letonia   \n",
       "3  BURRELI, Aleks Καταζητούμενος by Κύπρος     Κύπρος   \n",
       "4      LEIJDEKKERS, Joseph Johannes (Jos)     Holanda   \n",
       "\n",
       "                 fecha_nacimiento edad nacionalidad origen_etnico    idiomas  \n",
       "0   Septiembre 1, 1968 (55 years)   55       German      European     German  \n",
       "1     Octubre 30, 1954 (69 years)   69       German      European     German  \n",
       "2       Enero 24, 1979 (45 years)   45      Latvian      European     German  \n",
       "3      Febrero 1, 1968 (56 years)   56      Latvian       Ευρώπης   Albanian  \n",
       "4        Julio 1, 1991 (32 years)   32        Dutch      European   Albanian  "
      ]
     },
     "execution_count": 7,
     "metadata": {},
     "output_type": "execute_result"
    }
   ],
   "source": [
    "df = pd.DataFrame(criminals)\n",
    "df.head()"
   ]
  },
  {
   "cell_type": "code",
   "execution_count": 8,
   "metadata": {},
   "outputs": [],
   "source": [
    "df[\"edad\"] = df[\"edad\"].astype(\"Int64\")"
   ]
  },
  {
   "cell_type": "markdown",
   "metadata": {},
   "source": [
    "# Cantos fuxitivos busca cada país."
   ]
  },
  {
   "cell_type": "code",
   "execution_count": 9,
   "metadata": {},
   "outputs": [
    {
     "data": {
      "text/plain": [
       "buscado\n",
       " Alemania           2\n",
       " Austria            2\n",
       " Bulgaria           2\n",
       " Bélgica            2\n",
       " Chipre             1\n",
       " Croacia            1\n",
       " Dinamarca          2\n",
       " Eslovaquia         3\n",
       " Eslovenia          2\n",
       " España             2\n",
       " Estonia            3\n",
       " Finlandia          2\n",
       " Francia            3\n",
       " Holanda            3\n",
       " Hungría            2\n",
       " Italia             2\n",
       " Letonia            2\n",
       " Lituania           3\n",
       " Luxemburgo         2\n",
       " Malta              2\n",
       " Polonia            2\n",
       " República Checa    3\n",
       " Rumanía            2\n",
       " Suecia             3\n",
       " Κύπρος             1\n",
       "an                  2\n",
       "Name: buscado, dtype: int64"
      ]
     },
     "execution_count": 9,
     "metadata": {},
     "output_type": "execute_result"
    }
   ],
   "source": [
    "df.groupby([\"buscado\"])[\"buscado\"].count()"
   ]
  },
  {
   "cell_type": "markdown",
   "metadata": {},
   "source": [
    "# A idade media, a mediana da idade e os valores extremos"
   ]
  },
  {
   "cell_type": "code",
   "execution_count": 10,
   "metadata": {},
   "outputs": [
    {
     "data": {
      "text/plain": [
       "mean      45.053571\n",
       "median    45.000000\n",
       "min       23.000000\n",
       "max       74.000000\n",
       "Name: edad, dtype: float64"
      ]
     },
     "execution_count": 10,
     "metadata": {},
     "output_type": "execute_result"
    }
   ],
   "source": [
    "df[\"edad\"].agg([\"mean\",\"median\",\"min\",\"max\"])"
   ]
  }
 ],
 "metadata": {
  "kernelspec": {
   "display_name": "bigdata",
   "language": "python",
   "name": "python3"
  },
  "language_info": {
   "codemirror_mode": {
    "name": "ipython",
    "version": 3
   },
   "file_extension": ".py",
   "mimetype": "text/x-python",
   "name": "python",
   "nbconvert_exporter": "python",
   "pygments_lexer": "ipython3",
   "version": "3.8.18"
  }
 },
 "nbformat": 4,
 "nbformat_minor": 2
}
