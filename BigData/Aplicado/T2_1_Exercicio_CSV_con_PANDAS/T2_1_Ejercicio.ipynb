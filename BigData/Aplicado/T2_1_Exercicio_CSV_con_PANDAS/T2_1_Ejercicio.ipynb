{
 "cells": [
  {
   "cell_type": "markdown",
   "metadata": {},
   "source": [
    "# T2.1: Exercicio CSV con PANDAS\n",
    "\n",
    "- Práctica de lectura de archivos CSV\n",
    "- Utiliza como dataset los archivos CSV de los centros educativos en Galicia.\n",
    "- https://www.edu.xunta.gal/centroseducativos/BuscaCentros.do"
   ]
  },
  {
   "cell_type": "markdown",
   "metadata": {},
   "source": [
    "[Link Imagen](https://stackoverflow.com/a/15943975)\n",
    "![Dataframe_times](images/dataframe_count.png)"
   ]
  },
  {
   "cell_type": "code",
   "execution_count": 1,
   "metadata": {},
   "outputs": [],
   "source": [
    "import pandas as pd\n",
    "import numpy as np"
   ]
  },
  {
   "cell_type": "code",
   "execution_count": 2,
   "metadata": {},
   "outputs": [
    {
     "data": {
      "text/html": [
       "<div>\n",
       "<style scoped>\n",
       "    .dataframe tbody tr th:only-of-type {\n",
       "        vertical-align: middle;\n",
       "    }\n",
       "\n",
       "    .dataframe tbody tr th {\n",
       "        vertical-align: top;\n",
       "    }\n",
       "\n",
       "    .dataframe thead th {\n",
       "        text-align: right;\n",
       "    }\n",
       "</style>\n",
       "<table border=\"1\" class=\"dataframe\">\n",
       "  <thead>\n",
       "    <tr style=\"text-align: right;\">\n",
       "      <th></th>\n",
       "      <th>Código</th>\n",
       "      <th>Nome</th>\n",
       "      <th>Enderezo</th>\n",
       "      <th>Concello</th>\n",
       "      <th>Provincia</th>\n",
       "      <th>Cód. postal</th>\n",
       "      <th>Teléfono</th>\n",
       "      <th>Tipo de centro</th>\n",
       "      <th>COORDENADA_X</th>\n",
       "      <th>COORDENADA_Y</th>\n",
       "      <th>TITULARIDADE</th>\n",
       "      <th>ENSINO_CONCERTADO</th>\n",
       "      <th>DEPENDENTE</th>\n",
       "    </tr>\n",
       "  </thead>\n",
       "  <tbody>\n",
       "    <tr>\n",
       "      <th>0</th>\n",
       "      <td>15000016</td>\n",
       "      <td>CEIP Plurilingüe San Marcos</td>\n",
       "      <td>Campo da Feira s/n</td>\n",
       "      <td>Abegondo</td>\n",
       "      <td>A Coruña</td>\n",
       "      <td>15318.0</td>\n",
       "      <td>881880201</td>\n",
       "      <td>CEIP</td>\n",
       "      <td>43.229183</td>\n",
       "      <td>-8.286580</td>\n",
       "      <td>Pública</td>\n",
       "      <td>Non</td>\n",
       "      <td>Si</td>\n",
       "    </tr>\n",
       "    <tr>\n",
       "      <th>1</th>\n",
       "      <td>15000107</td>\n",
       "      <td>CEIP A Maía</td>\n",
       "      <td>Rúa Peregrina, s/n (Bertamiráns)</td>\n",
       "      <td>Ames</td>\n",
       "      <td>A Coruña</td>\n",
       "      <td>15220.0</td>\n",
       "      <td>881866002</td>\n",
       "      <td>CEIP</td>\n",
       "      <td>42.867485</td>\n",
       "      <td>-8.657342</td>\n",
       "      <td>Pública</td>\n",
       "      <td>Non</td>\n",
       "      <td>Si</td>\n",
       "    </tr>\n",
       "    <tr>\n",
       "      <th>2</th>\n",
       "      <td>15000132</td>\n",
       "      <td>CPR Plurilingüe Alca</td>\n",
       "      <td>Lugar Biduído de Arriba 36</td>\n",
       "      <td>Ames</td>\n",
       "      <td>A Coruña</td>\n",
       "      <td>15895.0</td>\n",
       "      <td>981531103</td>\n",
       "      <td>CPR</td>\n",
       "      <td>42.846325</td>\n",
       "      <td>-8.600729</td>\n",
       "      <td>Privada</td>\n",
       "      <td>Si</td>\n",
       "      <td>Non</td>\n",
       "    </tr>\n",
       "    <tr>\n",
       "      <th>3</th>\n",
       "      <td>15000338</td>\n",
       "      <td>CPI As Mirandas</td>\n",
       "      <td>Avenida Celso Emilio Ferreiro 4</td>\n",
       "      <td>Ares</td>\n",
       "      <td>A Coruña</td>\n",
       "      <td>15624.0</td>\n",
       "      <td>881930020</td>\n",
       "      <td>CPI</td>\n",
       "      <td>43.429363</td>\n",
       "      <td>-8.246173</td>\n",
       "      <td>Pública</td>\n",
       "      <td>Non</td>\n",
       "      <td>Si</td>\n",
       "    </tr>\n",
       "    <tr>\n",
       "      <th>4</th>\n",
       "      <td>15000363</td>\n",
       "      <td>CEIP Ponte dos Brozos</td>\n",
       "      <td>Avenida Arsenio Iglesias, 34 (Sabon)</td>\n",
       "      <td>Arteixo</td>\n",
       "      <td>A Coruña</td>\n",
       "      <td>15142.0</td>\n",
       "      <td>881960506</td>\n",
       "      <td>CEIP</td>\n",
       "      <td>43.306938</td>\n",
       "      <td>-8.510333</td>\n",
       "      <td>Pública</td>\n",
       "      <td>Non</td>\n",
       "      <td>Si</td>\n",
       "    </tr>\n",
       "    <tr>\n",
       "      <th>...</th>\n",
       "      <td>...</td>\n",
       "      <td>...</td>\n",
       "      <td>...</td>\n",
       "      <td>...</td>\n",
       "      <td>...</td>\n",
       "      <td>...</td>\n",
       "      <td>...</td>\n",
       "      <td>...</td>\n",
       "      <td>...</td>\n",
       "      <td>...</td>\n",
       "      <td>...</td>\n",
       "      <td>...</td>\n",
       "      <td>...</td>\n",
       "    </tr>\n",
       "    <tr>\n",
       "      <th>611</th>\n",
       "      <td>36025189</td>\n",
       "      <td>EMUSPR Escola de Música da Banda Unión Musical...</td>\n",
       "      <td>Lugar Lugar de Covas 14 B</td>\n",
       "      <td>Cerdedo-Cotobade</td>\n",
       "      <td>Pontevedra</td>\n",
       "      <td>36120.0</td>\n",
       "      <td>NaN</td>\n",
       "      <td>EMUSPR</td>\n",
       "      <td>-13.488744</td>\n",
       "      <td>0.000000</td>\n",
       "      <td>Privada</td>\n",
       "      <td>Non</td>\n",
       "      <td>Non</td>\n",
       "    </tr>\n",
       "    <tr>\n",
       "      <th>612</th>\n",
       "      <td>36025190</td>\n",
       "      <td>EMUSPR Escola da Banda de Música Popular de Tui</td>\n",
       "      <td>Lugar Gándara s/n</td>\n",
       "      <td>Tui</td>\n",
       "      <td>Pontevedra</td>\n",
       "      <td>36720.0</td>\n",
       "      <td>NaN</td>\n",
       "      <td>EMUSPR</td>\n",
       "      <td>-8.623660</td>\n",
       "      <td>42.076248</td>\n",
       "      <td>Privada</td>\n",
       "      <td>Non</td>\n",
       "      <td>Non</td>\n",
       "    </tr>\n",
       "    <tr>\n",
       "      <th>613</th>\n",
       "      <td>36025207</td>\n",
       "      <td>EMUSPR Escola de Música Lira de San Miguel de Oia</td>\n",
       "      <td>Camiño de Currás 34</td>\n",
       "      <td>Vigo</td>\n",
       "      <td>Pontevedra</td>\n",
       "      <td>36390.0</td>\n",
       "      <td>NaN</td>\n",
       "      <td>EMUSPR</td>\n",
       "      <td>-13.488744</td>\n",
       "      <td>0.000000</td>\n",
       "      <td>Privada</td>\n",
       "      <td>Non</td>\n",
       "      <td>Non</td>\n",
       "    </tr>\n",
       "    <tr>\n",
       "      <th>614</th>\n",
       "      <td>36025219</td>\n",
       "      <td>Cen. Pub. Escola de Canteiros de Poio</td>\n",
       "      <td>Rúa Illa do Santo 2</td>\n",
       "      <td>Poio</td>\n",
       "      <td>Pontevedra</td>\n",
       "      <td>36005.0</td>\n",
       "      <td>NaN</td>\n",
       "      <td>Cen. Pub.</td>\n",
       "      <td>-8.663683</td>\n",
       "      <td>42.440247</td>\n",
       "      <td>Pública</td>\n",
       "      <td>Non</td>\n",
       "      <td>Si</td>\n",
       "    </tr>\n",
       "    <tr>\n",
       "      <th>615</th>\n",
       "      <td>36025220</td>\n",
       "      <td>CAD FDYE-Galicia</td>\n",
       "      <td>Avenida das Camelias 53</td>\n",
       "      <td>Vigo</td>\n",
       "      <td>Pontevedra</td>\n",
       "      <td>36211.0</td>\n",
       "      <td>680831166</td>\n",
       "      <td>CAD</td>\n",
       "      <td>-8.729750</td>\n",
       "      <td>42.229722</td>\n",
       "      <td>Privada</td>\n",
       "      <td>Non</td>\n",
       "      <td>Non</td>\n",
       "    </tr>\n",
       "  </tbody>\n",
       "</table>\n",
       "<p>1641 rows × 13 columns</p>\n",
       "</div>"
      ],
      "text/plain": [
       "       Código                                               Nome  \\\n",
       "0    15000016                        CEIP Plurilingüe San Marcos   \n",
       "1    15000107                                        CEIP A Maía   \n",
       "2    15000132                               CPR Plurilingüe Alca   \n",
       "3    15000338                                    CPI As Mirandas   \n",
       "4    15000363                              CEIP Ponte dos Brozos   \n",
       "..        ...                                                ...   \n",
       "611  36025189  EMUSPR Escola de Música da Banda Unión Musical...   \n",
       "612  36025190    EMUSPR Escola da Banda de Música Popular de Tui   \n",
       "613  36025207  EMUSPR Escola de Música Lira de San Miguel de Oia   \n",
       "614  36025219              Cen. Pub. Escola de Canteiros de Poio   \n",
       "615  36025220                                   CAD FDYE-Galicia   \n",
       "\n",
       "                                 Enderezo          Concello   Provincia  \\\n",
       "0                      Campo da Feira s/n          Abegondo    A Coruña   \n",
       "1        Rúa Peregrina, s/n (Bertamiráns)              Ames    A Coruña   \n",
       "2              Lugar Biduído de Arriba 36              Ames    A Coruña   \n",
       "3         Avenida Celso Emilio Ferreiro 4              Ares    A Coruña   \n",
       "4    Avenida Arsenio Iglesias, 34 (Sabon)           Arteixo    A Coruña   \n",
       "..                                    ...               ...         ...   \n",
       "611             Lugar Lugar de Covas 14 B  Cerdedo-Cotobade  Pontevedra   \n",
       "612                     Lugar Gándara s/n               Tui  Pontevedra   \n",
       "613                   Camiño de Currás 34              Vigo  Pontevedra   \n",
       "614                   Rúa Illa do Santo 2              Poio  Pontevedra   \n",
       "615               Avenida das Camelias 53              Vigo  Pontevedra   \n",
       "\n",
       "     Cód. postal   Teléfono Tipo de centro  COORDENADA_X  COORDENADA_Y  \\\n",
       "0        15318.0  881880201           CEIP     43.229183     -8.286580   \n",
       "1        15220.0  881866002           CEIP     42.867485     -8.657342   \n",
       "2        15895.0  981531103            CPR     42.846325     -8.600729   \n",
       "3        15624.0  881930020            CPI     43.429363     -8.246173   \n",
       "4        15142.0  881960506           CEIP     43.306938     -8.510333   \n",
       "..           ...        ...            ...           ...           ...   \n",
       "611      36120.0        NaN         EMUSPR    -13.488744      0.000000   \n",
       "612      36720.0        NaN         EMUSPR     -8.623660     42.076248   \n",
       "613      36390.0        NaN         EMUSPR    -13.488744      0.000000   \n",
       "614      36005.0        NaN      Cen. Pub.     -8.663683     42.440247   \n",
       "615      36211.0  680831166            CAD     -8.729750     42.229722   \n",
       "\n",
       "    TITULARIDADE ENSINO_CONCERTADO DEPENDENTE  \n",
       "0        Pública               Non         Si  \n",
       "1        Pública               Non         Si  \n",
       "2        Privada                Si        Non  \n",
       "3        Pública               Non         Si  \n",
       "4        Pública               Non         Si  \n",
       "..           ...               ...        ...  \n",
       "611      Privada               Non        Non  \n",
       "612      Privada               Non        Non  \n",
       "613      Privada               Non        Non  \n",
       "614      Pública               Non         Si  \n",
       "615      Privada               Non        Non  \n",
       "\n",
       "[1641 rows x 13 columns]"
      ]
     },
     "execution_count": 2,
     "metadata": {},
     "output_type": "execute_result"
    }
   ],
   "source": [
    "dfCoruna = pd.read_csv(\"archives/centros_educativos_Corunha.csv\")\n",
    "dfLugo = pd.read_csv(\"archives/centros_educativos_Lugo.csv\")\n",
    "dfOurense = pd.read_csv(\"archives/centros_educativos_Ourense.csv\")\n",
    "dfPontevedra = pd.read_csv(\"archives/centros_educativos_Pontevedra.csv\")\n",
    "\n",
    "dfTotal = pd.concat([dfCoruna,dfLugo,dfOurense,dfPontevedra])\n",
    "dfTotal"
   ]
  },
  {
   "cell_type": "markdown",
   "metadata": {},
   "source": [
    "[¿.isin es mas rápido que ==?](https://stackoverflow.com/questions/49275330/why-is-pandas-isin-method-faster-than)"
   ]
  },
  {
   "cell_type": "markdown",
   "metadata": {},
   "source": [
    "# Seleccionar centros que sexan de titularidade privada. Cantos hai?"
   ]
  },
  {
   "cell_type": "code",
   "execution_count": 3,
   "metadata": {},
   "outputs": [
    {
     "data": {
      "text/plain": [
       "424"
      ]
     },
     "execution_count": 3,
     "metadata": {},
     "output_type": "execute_result"
    }
   ],
   "source": [
    "#dfTotal[dfTotal.TITULARIDADE==\"Privada\"].shape[0]\n",
    "#dfTotal[dfTotal[\"TITULARIDADE\"]==\"Privada\"].shape[0]\n",
    "#len(dfTotal[dfTotal[\"TITULARIDADE\"]==\"Privada\"])\n",
    "len(dfTotal[dfTotal[\"TITULARIDADE\"].isin([\"Privada\"])])"
   ]
  },
  {
   "cell_type": "markdown",
   "metadata": {},
   "source": [
    "# Seleccionar centros que teñan ensinanzas concertados. Canto hai?"
   ]
  },
  {
   "cell_type": "code",
   "execution_count": 4,
   "metadata": {},
   "outputs": [
    {
     "data": {
      "text/plain": [
       "228"
      ]
     },
     "execution_count": 4,
     "metadata": {},
     "output_type": "execute_result"
    }
   ],
   "source": [
    "# len(dfTotal[dfTotal[\"ENSINO_CONCERTADO\"]== \"Si\"])\n",
    "#dfTotal[dfTotal[\"ENSINO_CONCERTADO\"]== \"Si\"].shape[0]\n",
    "#len(dfTotal[dfTotal[\"ENSINO_CONCERTADO\"]==\"Si\"])\n",
    "len(dfTotal[dfTotal[\"ENSINO_CONCERTADO\"].isin([\"Si\"])])"
   ]
  },
  {
   "cell_type": "markdown",
   "metadata": {},
   "source": [
    "# Seleccionar centros con ensinanzas concertadas dependente da Consellería?"
   ]
  },
  {
   "cell_type": "code",
   "execution_count": 5,
   "metadata": {},
   "outputs": [
    {
     "data": {
      "text/html": [
       "<div>\n",
       "<style scoped>\n",
       "    .dataframe tbody tr th:only-of-type {\n",
       "        vertical-align: middle;\n",
       "    }\n",
       "\n",
       "    .dataframe tbody tr th {\n",
       "        vertical-align: top;\n",
       "    }\n",
       "\n",
       "    .dataframe thead th {\n",
       "        text-align: right;\n",
       "    }\n",
       "</style>\n",
       "<table border=\"1\" class=\"dataframe\">\n",
       "  <thead>\n",
       "    <tr style=\"text-align: right;\">\n",
       "      <th></th>\n",
       "      <th>Código</th>\n",
       "      <th>Nome</th>\n",
       "      <th>Enderezo</th>\n",
       "      <th>Concello</th>\n",
       "      <th>Provincia</th>\n",
       "      <th>Cód. postal</th>\n",
       "      <th>Teléfono</th>\n",
       "      <th>Tipo de centro</th>\n",
       "      <th>COORDENADA_X</th>\n",
       "      <th>COORDENADA_Y</th>\n",
       "      <th>TITULARIDADE</th>\n",
       "      <th>ENSINO_CONCERTADO</th>\n",
       "      <th>DEPENDENTE</th>\n",
       "    </tr>\n",
       "  </thead>\n",
       "  <tbody>\n",
       "  </tbody>\n",
       "</table>\n",
       "</div>"
      ],
      "text/plain": [
       "Empty DataFrame\n",
       "Columns: [Código, Nome, Enderezo, Concello, Provincia, Cód. postal, Teléfono, Tipo de centro, COORDENADA_X, COORDENADA_Y, TITULARIDADE, ENSINO_CONCERTADO, DEPENDENTE]\n",
       "Index: []"
      ]
     },
     "execution_count": 5,
     "metadata": {},
     "output_type": "execute_result"
    }
   ],
   "source": [
    "#dfTotal[(dfTotal[\"ENSINO_CONCERTADO\"]== \"Si\") & (dfTotal[\"DEPENDENTE\"]==\"Si\")]\n",
    "dfTotal[(dfTotal[\"ENSINO_CONCERTADO\"].isin([\"Si\"])) & (dfTotal[\"DEPENDENTE\"].isin([\"Si\"]))]"
   ]
  },
  {
   "cell_type": "markdown",
   "metadata": {},
   "source": [
    "# Seleccionar centros de titularidade pública de Coruña. Cantos hai?"
   ]
  },
  {
   "cell_type": "code",
   "execution_count": 6,
   "metadata": {},
   "outputs": [
    {
     "data": {
      "text/plain": [
       "454"
      ]
     },
     "execution_count": 6,
     "metadata": {},
     "output_type": "execute_result"
    }
   ],
   "source": [
    "#dfCoruna[dfCoruna[\"TITULARIDADE\"]==\"Pública\"].shape[0]\n",
    "#len(dfCoruna[dfCoruna[\"TITULARIDADE\"]==\"Pública\"])\n",
    "len(dfCoruna[dfCoruna[\"TITULARIDADE\"].isin([\"Pública\"])])\n",
    "#dfTotal[(dfTotal[\"Provincia\"]==\"A Coruña\") & (dfTotal[\"TITULARIDADE\"]==\"Pública\")].shape[0]\n"
   ]
  },
  {
   "cell_type": "markdown",
   "metadata": {},
   "source": [
    "# Seleccionar centros de titularidade pública de Lugo. Cantos hai?"
   ]
  },
  {
   "cell_type": "code",
   "execution_count": 7,
   "metadata": {},
   "outputs": [
    {
     "data": {
      "text/plain": [
       "184"
      ]
     },
     "execution_count": 7,
     "metadata": {},
     "output_type": "execute_result"
    }
   ],
   "source": [
    "#dfLugo[dfLugo[\"TITULARIDADE\"]==\"Pública\"].shape[0]\n",
    "#len(dfLugo[dfLugo[\"TITULARIDADE\"]==\"Pública\"])\n",
    "len(dfLugo[dfLugo[\"TITULARIDADE\"].isin([\"Pública\"])])\n",
    "#dfTotal[(dfTotal[\"Provincia\"]==\"Lugo\") & (dfTotal[\"TITULARIDADE\"]==\"Pública\")].shape[0]"
   ]
  },
  {
   "cell_type": "markdown",
   "metadata": {},
   "source": [
    "# Seleccionar centros de titularidade pública de Ourense. Cantos hai?"
   ]
  },
  {
   "cell_type": "code",
   "execution_count": 8,
   "metadata": {},
   "outputs": [
    {
     "data": {
      "text/plain": [
       "148"
      ]
     },
     "execution_count": 8,
     "metadata": {},
     "output_type": "execute_result"
    }
   ],
   "source": [
    "#dfOurense[dfOurense[\"TITULARIDADE\"]==\"Pública\"].shape[0]\n",
    "#len(dfOurense[dfOurense[\"TITULARIDADE\"]==\"Pública\"])\n",
    "len(dfOurense[dfOurense[\"TITULARIDADE\"].isin([\"Pública\"])])\n",
    "#dfTotal[(dfTotal[\"Provincia\"]==\"Ourense\") & (dfTotal[\"TITULARIDADE\"]==\"Pública\")].shape[0]"
   ]
  },
  {
   "cell_type": "markdown",
   "metadata": {},
   "source": [
    "# Seleccionar centros de titularidade pública de Pontevedra. Cantos hai?"
   ]
  },
  {
   "cell_type": "code",
   "execution_count": 9,
   "metadata": {},
   "outputs": [
    {
     "data": {
      "text/plain": [
       "431"
      ]
     },
     "execution_count": 9,
     "metadata": {},
     "output_type": "execute_result"
    }
   ],
   "source": [
    "#dfPontevedra[dfPontevedra[\"TITULARIDADE\"]==\"Pública\"].shape[0]\n",
    "#len(dfPontevedra[dfPontevedra[\"TITULARIDADE\"]==\"Pública\"])\n",
    "len(dfPontevedra[dfPontevedra[\"TITULARIDADE\"].isin([\"Pública\"])])\n",
    "#dfTotal[(dfTotal[\"Provincia\"]==\"Pontevedra\") & (dfTotal[\"TITULARIDADE\"]==\"Pública\")].shape[0]"
   ]
  },
  {
   "cell_type": "markdown",
   "metadata": {},
   "source": [
    "# Seleccionar centros de tipo: CIFP de cada unha das catro provincias. Cantos hai?"
   ]
  },
  {
   "cell_type": "code",
   "execution_count": 10,
   "metadata": {},
   "outputs": [
    {
     "data": {
      "text/plain": [
       "Provincia\n",
       "A Coruña      13\n",
       "Lugo           3\n",
       "Ourense        5\n",
       "Pontevedra     9\n",
       "dtype: int64"
      ]
     },
     "execution_count": 10,
     "metadata": {},
     "output_type": "execute_result"
    }
   ],
   "source": [
    "dfTotal[dfTotal[\"Tipo de centro\"]==\"CIFP\"].groupby([\"Provincia\"]).size()\n",
    "#dfTotal[dfTotal[\"Tipo de centro\"].isin([\"CIFP\"])].groupby([\"Provincia\"]).size()"
   ]
  },
  {
   "cell_type": "markdown",
   "metadata": {},
   "source": [
    "# Seleccionar centros de tipo: CPI, CEIP e IES de cada unha das catro provincias. Cantos hai?"
   ]
  },
  {
   "cell_type": "code",
   "execution_count": 11,
   "metadata": {},
   "outputs": [
    {
     "data": {
      "text/plain": [
       "Provincia   Tipo de centro\n",
       "A Coruña    CEIP              200\n",
       "            CPI                28\n",
       "            IES               100\n",
       "Lugo        CEIP               85\n",
       "            CPI                12\n",
       "            IES                37\n",
       "Ourense     CEIP               81\n",
       "            CPI                 8\n",
       "            IES                26\n",
       "Pontevedra  CEIP              198\n",
       "            CPI                16\n",
       "            IES                84\n",
       "dtype: int64"
      ]
     },
     "execution_count": 11,
     "metadata": {},
     "output_type": "execute_result"
    }
   ],
   "source": [
    "#dfTotal[(dfTotal[\"Tipo de centro\"]==\"CPI\") | (dfTotal[\"Tipo de centro\"]==\"CEIP\") | (dfTotal[\"Tipo de centro\"]==\"IES\")].groupby([\"Provincia\", \"Tipo de centro\"]).size()\n",
    "dfTotal[dfTotal[\"Tipo de centro\"].isin([\"CPI\", \"CEIP\", \"IES\"])].groupby([\"Provincia\", \"Tipo de centro\"]).size()"
   ]
  },
  {
   "cell_type": "markdown",
   "metadata": {},
   "source": [
    "# Seleccionar o número de centros por concello."
   ]
  },
  {
   "cell_type": "code",
   "execution_count": 12,
   "metadata": {},
   "outputs": [
    {
     "data": {
      "text/plain": [
       "Concello\n",
       "A Arnoia                1\n",
       "A Baña                  2\n",
       "A Capela                1\n",
       "A Cañiza                3\n",
       "A Coruña              105\n",
       "                     ... \n",
       "Xermade                 1\n",
       "Xinzo de Limia          6\n",
       "Xove                    3\n",
       "Xunqueira de Ambía      1\n",
       "Zas                     3\n",
       "Length: 288, dtype: int64"
      ]
     },
     "execution_count": 12,
     "metadata": {},
     "output_type": "execute_result"
    }
   ],
   "source": [
    "dfTotal.groupby([\"Concello\"]).size()"
   ]
  },
  {
   "cell_type": "markdown",
   "metadata": {},
   "source": [
    "# Seleccionar o número de centros de cada tipo por concello."
   ]
  },
  {
   "cell_type": "code",
   "execution_count": 13,
   "metadata": {},
   "outputs": [
    {
     "data": {
      "text/plain": [
       "Concello            Tipo de centro\n",
       "A Arnoia            CEIP              1\n",
       "A Baña              CPI               1\n",
       "                    ESMU              1\n",
       "A Capela            CEIP              1\n",
       "A Cañiza            CEIP              1\n",
       "                                     ..\n",
       "Xove                IES               1\n",
       "Xunqueira de Ambía  CEIP              1\n",
       "Zas                 CEIP              1\n",
       "                    CPI               1\n",
       "                    IES               1\n",
       "Length: 864, dtype: int64"
      ]
     },
     "execution_count": 13,
     "metadata": {},
     "output_type": "execute_result"
    }
   ],
   "source": [
    "#for p in dfTotal[\"Concello\"].unique():\n",
    "#    for u in dfTotal[\"Tipo de centro\"].unique():\n",
    "#        print(f' {p} - {u} : {dfTotal[(dfTotal[\"Tipo de centro\"]==u) & (dfTotal[\"Provincia\"]==p)].shape[0]}')\n",
    "\n",
    "dfTotal.groupby([\"Concello\", \"Tipo de centro\"]).size()"
   ]
  },
  {
   "cell_type": "markdown",
   "metadata": {},
   "source": [
    "# Limpando datos con erros\n",
    "\n",
    "- Podemos ver con el primer comando las líneas donde existe un \"NaN\"\n",
    "- Con el segundo podemos ver si existe algún \"NaN\" en las tablas\n",
    "~~~\n",
    "dfTotal[dfTotal.isna().any(axis=1)]\n",
    "dfTotal.isna().any()\n",
    "~~~"
   ]
  },
  {
   "cell_type": "code",
   "execution_count": 14,
   "metadata": {},
   "outputs": [
    {
     "data": {
      "text/plain": [
       "Código               False\n",
       "Nome                 False\n",
       "Enderezo             False\n",
       "Concello             False\n",
       "Provincia            False\n",
       "Cód. postal           True\n",
       "Teléfono              True\n",
       "Tipo de centro       False\n",
       "COORDENADA_X         False\n",
       "COORDENADA_Y         False\n",
       "TITULARIDADE         False\n",
       "ENSINO_CONCERTADO    False\n",
       "DEPENDENTE           False\n",
       "dtype: bool"
      ]
     },
     "execution_count": 14,
     "metadata": {},
     "output_type": "execute_result"
    }
   ],
   "source": [
    "dfTotal[dfTotal.isna().any(axis=1)]\n",
    "dfTotal.isna().any()"
   ]
  },
  {
   "cell_type": "code",
   "execution_count": 15,
   "metadata": {},
   "outputs": [
    {
     "data": {
      "text/plain": [
       "False"
      ]
     },
     "execution_count": 15,
     "metadata": {},
     "output_type": "execute_result"
    }
   ],
   "source": [
    "# Con el siguiente comando podemos mirar si existe algún duplicado dentro de la tabla\n",
    "dfTotal.duplicated().any()"
   ]
  },
  {
   "cell_type": "code",
   "execution_count": 16,
   "metadata": {},
   "outputs": [
    {
     "data": {
      "text/html": [
       "<div>\n",
       "<style scoped>\n",
       "    .dataframe tbody tr th:only-of-type {\n",
       "        vertical-align: middle;\n",
       "    }\n",
       "\n",
       "    .dataframe tbody tr th {\n",
       "        vertical-align: top;\n",
       "    }\n",
       "\n",
       "    .dataframe thead th {\n",
       "        text-align: right;\n",
       "    }\n",
       "</style>\n",
       "<table border=\"1\" class=\"dataframe\">\n",
       "  <thead>\n",
       "    <tr style=\"text-align: right;\">\n",
       "      <th></th>\n",
       "      <th>Código</th>\n",
       "      <th>Nome</th>\n",
       "      <th>Enderezo</th>\n",
       "      <th>Concello</th>\n",
       "      <th>Provincia</th>\n",
       "      <th>Cód. postal</th>\n",
       "      <th>Teléfono</th>\n",
       "      <th>Tipo de centro</th>\n",
       "      <th>COORDENADA_X</th>\n",
       "      <th>COORDENADA_Y</th>\n",
       "      <th>TITULARIDADE</th>\n",
       "      <th>ENSINO_CONCERTADO</th>\n",
       "      <th>DEPENDENTE</th>\n",
       "    </tr>\n",
       "  </thead>\n",
       "  <tbody>\n",
       "    <tr>\n",
       "      <th>611</th>\n",
       "      <td>36025189</td>\n",
       "      <td>EMUSPR Escola de Música da Banda Unión Musical...</td>\n",
       "      <td>Lugar Lugar de Covas 14 B</td>\n",
       "      <td>Cerdedo-Cotobade</td>\n",
       "      <td>Pontevedra</td>\n",
       "      <td>36120.0</td>\n",
       "      <td>NaN</td>\n",
       "      <td>EMUSPR</td>\n",
       "      <td>-13.488744</td>\n",
       "      <td>0.000000</td>\n",
       "      <td>Privada</td>\n",
       "      <td>Non</td>\n",
       "      <td>Non</td>\n",
       "    </tr>\n",
       "    <tr>\n",
       "      <th>612</th>\n",
       "      <td>36025190</td>\n",
       "      <td>EMUSPR Escola da Banda de Música Popular de Tui</td>\n",
       "      <td>Lugar Gándara s/n</td>\n",
       "      <td>Tui</td>\n",
       "      <td>Pontevedra</td>\n",
       "      <td>36720.0</td>\n",
       "      <td>NaN</td>\n",
       "      <td>EMUSPR</td>\n",
       "      <td>-8.623660</td>\n",
       "      <td>42.076248</td>\n",
       "      <td>Privada</td>\n",
       "      <td>Non</td>\n",
       "      <td>Non</td>\n",
       "    </tr>\n",
       "    <tr>\n",
       "      <th>613</th>\n",
       "      <td>36025207</td>\n",
       "      <td>EMUSPR Escola de Música Lira de San Miguel de Oia</td>\n",
       "      <td>Camiño de Currás 34</td>\n",
       "      <td>Vigo</td>\n",
       "      <td>Pontevedra</td>\n",
       "      <td>36390.0</td>\n",
       "      <td>NaN</td>\n",
       "      <td>EMUSPR</td>\n",
       "      <td>-13.488744</td>\n",
       "      <td>0.000000</td>\n",
       "      <td>Privada</td>\n",
       "      <td>Non</td>\n",
       "      <td>Non</td>\n",
       "    </tr>\n",
       "    <tr>\n",
       "      <th>614</th>\n",
       "      <td>36025219</td>\n",
       "      <td>Cen. Pub. Escola de Canteiros de Poio</td>\n",
       "      <td>Rúa Illa do Santo 2</td>\n",
       "      <td>Poio</td>\n",
       "      <td>Pontevedra</td>\n",
       "      <td>36005.0</td>\n",
       "      <td>NaN</td>\n",
       "      <td>Cen. Pub.</td>\n",
       "      <td>-8.663683</td>\n",
       "      <td>42.440247</td>\n",
       "      <td>Pública</td>\n",
       "      <td>Non</td>\n",
       "      <td>Si</td>\n",
       "    </tr>\n",
       "    <tr>\n",
       "      <th>615</th>\n",
       "      <td>36025220</td>\n",
       "      <td>CAD FDYE-Galicia</td>\n",
       "      <td>Avenida das Camelias 53</td>\n",
       "      <td>Vigo</td>\n",
       "      <td>Pontevedra</td>\n",
       "      <td>36211.0</td>\n",
       "      <td>680831166</td>\n",
       "      <td>CAD</td>\n",
       "      <td>-8.729750</td>\n",
       "      <td>42.229722</td>\n",
       "      <td>Privada</td>\n",
       "      <td>Non</td>\n",
       "      <td>Non</td>\n",
       "    </tr>\n",
       "  </tbody>\n",
       "</table>\n",
       "</div>"
      ],
      "text/plain": [
       "       Código                                               Nome  \\\n",
       "611  36025189  EMUSPR Escola de Música da Banda Unión Musical...   \n",
       "612  36025190    EMUSPR Escola da Banda de Música Popular de Tui   \n",
       "613  36025207  EMUSPR Escola de Música Lira de San Miguel de Oia   \n",
       "614  36025219              Cen. Pub. Escola de Canteiros de Poio   \n",
       "615  36025220                                   CAD FDYE-Galicia   \n",
       "\n",
       "                      Enderezo          Concello   Provincia  Cód. postal  \\\n",
       "611  Lugar Lugar de Covas 14 B  Cerdedo-Cotobade  Pontevedra      36120.0   \n",
       "612          Lugar Gándara s/n               Tui  Pontevedra      36720.0   \n",
       "613        Camiño de Currás 34              Vigo  Pontevedra      36390.0   \n",
       "614        Rúa Illa do Santo 2              Poio  Pontevedra      36005.0   \n",
       "615    Avenida das Camelias 53              Vigo  Pontevedra      36211.0   \n",
       "\n",
       "      Teléfono Tipo de centro  COORDENADA_X  COORDENADA_Y TITULARIDADE  \\\n",
       "611        NaN         EMUSPR    -13.488744      0.000000      Privada   \n",
       "612        NaN         EMUSPR     -8.623660     42.076248      Privada   \n",
       "613        NaN         EMUSPR    -13.488744      0.000000      Privada   \n",
       "614        NaN      Cen. Pub.     -8.663683     42.440247      Pública   \n",
       "615  680831166            CAD     -8.729750     42.229722      Privada   \n",
       "\n",
       "    ENSINO_CONCERTADO DEPENDENTE  \n",
       "611               Non        Non  \n",
       "612               Non        Non  \n",
       "613               Non        Non  \n",
       "614               Non         Si  \n",
       "615               Non        Non  "
      ]
     },
     "execution_count": 16,
     "metadata": {},
     "output_type": "execute_result"
    }
   ],
   "source": [
    "dfTotal.tail()"
   ]
  },
  {
   "cell_type": "markdown",
   "metadata": {},
   "source": [
    "- Con fillna podemos cambiar los NaN por lo que nosotros queramos\n",
    "- Dado que hay NaN en varias columnas no nos deja exportar a parquet ya que habría que poner un tipo especifico en cada una de esas columnas (double, object)\n",
    "- dfTotal.fillna(value=0, inplace=True) dfTotal.fillna(value=\"None\", inplace=True)"
   ]
  },
  {
   "cell_type": "code",
   "execution_count": 17,
   "metadata": {},
   "outputs": [],
   "source": [
    "# cambiamos el nan por none pero no es necesario para exportarlo\n",
    "dfTotal = dfTotal.replace(np.nan,None)"
   ]
  },
  {
   "cell_type": "code",
   "execution_count": 18,
   "metadata": {},
   "outputs": [
    {
     "data": {
      "text/html": [
       "<div>\n",
       "<style scoped>\n",
       "    .dataframe tbody tr th:only-of-type {\n",
       "        vertical-align: middle;\n",
       "    }\n",
       "\n",
       "    .dataframe tbody tr th {\n",
       "        vertical-align: top;\n",
       "    }\n",
       "\n",
       "    .dataframe thead th {\n",
       "        text-align: right;\n",
       "    }\n",
       "</style>\n",
       "<table border=\"1\" class=\"dataframe\">\n",
       "  <thead>\n",
       "    <tr style=\"text-align: right;\">\n",
       "      <th></th>\n",
       "      <th>Código</th>\n",
       "      <th>Nome</th>\n",
       "      <th>Enderezo</th>\n",
       "      <th>Concello</th>\n",
       "      <th>Provincia</th>\n",
       "      <th>Cód. postal</th>\n",
       "      <th>Teléfono</th>\n",
       "      <th>Tipo de centro</th>\n",
       "      <th>COORDENADA_X</th>\n",
       "      <th>COORDENADA_Y</th>\n",
       "      <th>TITULARIDADE</th>\n",
       "      <th>ENSINO_CONCERTADO</th>\n",
       "      <th>DEPENDENTE</th>\n",
       "    </tr>\n",
       "  </thead>\n",
       "  <tbody>\n",
       "    <tr>\n",
       "      <th>611</th>\n",
       "      <td>36025189</td>\n",
       "      <td>EMUSPR Escola de Música da Banda Unión Musical...</td>\n",
       "      <td>Lugar Lugar de Covas 14 B</td>\n",
       "      <td>Cerdedo-Cotobade</td>\n",
       "      <td>Pontevedra</td>\n",
       "      <td>36120.0</td>\n",
       "      <td>None</td>\n",
       "      <td>EMUSPR</td>\n",
       "      <td>-13.488744</td>\n",
       "      <td>0.000000</td>\n",
       "      <td>Privada</td>\n",
       "      <td>Non</td>\n",
       "      <td>Non</td>\n",
       "    </tr>\n",
       "    <tr>\n",
       "      <th>612</th>\n",
       "      <td>36025190</td>\n",
       "      <td>EMUSPR Escola da Banda de Música Popular de Tui</td>\n",
       "      <td>Lugar Gándara s/n</td>\n",
       "      <td>Tui</td>\n",
       "      <td>Pontevedra</td>\n",
       "      <td>36720.0</td>\n",
       "      <td>None</td>\n",
       "      <td>EMUSPR</td>\n",
       "      <td>-8.623660</td>\n",
       "      <td>42.076248</td>\n",
       "      <td>Privada</td>\n",
       "      <td>Non</td>\n",
       "      <td>Non</td>\n",
       "    </tr>\n",
       "    <tr>\n",
       "      <th>613</th>\n",
       "      <td>36025207</td>\n",
       "      <td>EMUSPR Escola de Música Lira de San Miguel de Oia</td>\n",
       "      <td>Camiño de Currás 34</td>\n",
       "      <td>Vigo</td>\n",
       "      <td>Pontevedra</td>\n",
       "      <td>36390.0</td>\n",
       "      <td>None</td>\n",
       "      <td>EMUSPR</td>\n",
       "      <td>-13.488744</td>\n",
       "      <td>0.000000</td>\n",
       "      <td>Privada</td>\n",
       "      <td>Non</td>\n",
       "      <td>Non</td>\n",
       "    </tr>\n",
       "    <tr>\n",
       "      <th>614</th>\n",
       "      <td>36025219</td>\n",
       "      <td>Cen. Pub. Escola de Canteiros de Poio</td>\n",
       "      <td>Rúa Illa do Santo 2</td>\n",
       "      <td>Poio</td>\n",
       "      <td>Pontevedra</td>\n",
       "      <td>36005.0</td>\n",
       "      <td>None</td>\n",
       "      <td>Cen. Pub.</td>\n",
       "      <td>-8.663683</td>\n",
       "      <td>42.440247</td>\n",
       "      <td>Pública</td>\n",
       "      <td>Non</td>\n",
       "      <td>Si</td>\n",
       "    </tr>\n",
       "    <tr>\n",
       "      <th>615</th>\n",
       "      <td>36025220</td>\n",
       "      <td>CAD FDYE-Galicia</td>\n",
       "      <td>Avenida das Camelias 53</td>\n",
       "      <td>Vigo</td>\n",
       "      <td>Pontevedra</td>\n",
       "      <td>36211.0</td>\n",
       "      <td>680831166</td>\n",
       "      <td>CAD</td>\n",
       "      <td>-8.729750</td>\n",
       "      <td>42.229722</td>\n",
       "      <td>Privada</td>\n",
       "      <td>Non</td>\n",
       "      <td>Non</td>\n",
       "    </tr>\n",
       "  </tbody>\n",
       "</table>\n",
       "</div>"
      ],
      "text/plain": [
       "       Código                                               Nome  \\\n",
       "611  36025189  EMUSPR Escola de Música da Banda Unión Musical...   \n",
       "612  36025190    EMUSPR Escola da Banda de Música Popular de Tui   \n",
       "613  36025207  EMUSPR Escola de Música Lira de San Miguel de Oia   \n",
       "614  36025219              Cen. Pub. Escola de Canteiros de Poio   \n",
       "615  36025220                                   CAD FDYE-Galicia   \n",
       "\n",
       "                      Enderezo          Concello   Provincia Cód. postal  \\\n",
       "611  Lugar Lugar de Covas 14 B  Cerdedo-Cotobade  Pontevedra     36120.0   \n",
       "612          Lugar Gándara s/n               Tui  Pontevedra     36720.0   \n",
       "613        Camiño de Currás 34              Vigo  Pontevedra     36390.0   \n",
       "614        Rúa Illa do Santo 2              Poio  Pontevedra     36005.0   \n",
       "615    Avenida das Camelias 53              Vigo  Pontevedra     36211.0   \n",
       "\n",
       "      Teléfono Tipo de centro  COORDENADA_X  COORDENADA_Y TITULARIDADE  \\\n",
       "611       None         EMUSPR    -13.488744      0.000000      Privada   \n",
       "612       None         EMUSPR     -8.623660     42.076248      Privada   \n",
       "613       None         EMUSPR    -13.488744      0.000000      Privada   \n",
       "614       None      Cen. Pub.     -8.663683     42.440247      Pública   \n",
       "615  680831166            CAD     -8.729750     42.229722      Privada   \n",
       "\n",
       "    ENSINO_CONCERTADO DEPENDENTE  \n",
       "611               Non        Non  \n",
       "612               Non        Non  \n",
       "613               Non        Non  \n",
       "614               Non         Si  \n",
       "615               Non        Non  "
      ]
     },
     "execution_count": 18,
     "metadata": {},
     "output_type": "execute_result"
    }
   ],
   "source": [
    "dfTotal.tail()"
   ]
  },
  {
   "cell_type": "markdown",
   "metadata": {},
   "source": [
    "# Exportar\n",
    "\n",
    "- Para exportar a excel falta una libreria\n",
    "~~~ \n",
    "conda install openpyx \n",
    "~~~\n",
    "- Para exportar a xml, tendremos que quitar los espacios de los nombres de las columnas\n",
    "~~~\n",
    "dfTotal.rename(columns={\"Cód. postal\":\"Cód_Postal\", \"Tipo de centro\":\"Tipo_de_centro\"},inplace=True)\n",
    "conda install lxml\n",
    "~~~\n",
    "- Da el siguiente error al intentar exportar a parquet, dice que son opcionales pero es mentira\n",
    "~~~ \n",
    "conda install pyarrow \n",
    "conda install fastparquet\n",
    "~~~\n",
    "\n",
    "- Missing optional dependency 'pyarrow'. pyarrow is required for parquet support. Use pip or conda to install pyarrow. \n",
    "- Missing optional dependency 'fastparquet'. fastparquet is required for parquet support. Use pip or conda to install fastparquet."
   ]
  },
  {
   "cell_type": "code",
   "execution_count": 21,
   "metadata": {},
   "outputs": [],
   "source": [
    "dfTotal.to_csv(\"archives/centros_total.csv\")\n",
    "dfTotal.to_excel(\"archives/centros_total.xlsx\")\n",
    "\n",
    "dfTotal.reset_index(drop=True, inplace=True)\n",
    "dfTotal.to_json(\"archives/centros_total.json\")\n",
    "\n",
    "#dfTotal.rename(columns={\"Código\":\"Codigo\", \"Cód. postal\":\"Cod_Postal\", \"Teléfono\":\"Telefono\", \"Tipo de centro\":\"Tipo_de_centro\"},inplace=True)\n",
    "dfTotal.rename(columns={\"Cód. postal\":\"Cód_Postal\", \"Tipo de centro\":\"Tipo_de_centro\"},inplace=True)\n",
    "dfTotal.to_xml(\"archives/centros_total.xml\")\n",
    "dfTotal.to_parquet(\"archives/centros_total.parquet\")"
   ]
  }
 ],
 "metadata": {
  "kernelspec": {
   "display_name": "bigdata",
   "language": "python",
   "name": "python3"
  },
  "language_info": {
   "codemirror_mode": {
    "name": "ipython",
    "version": 3
   },
   "file_extension": ".py",
   "mimetype": "text/x-python",
   "name": "python",
   "nbconvert_exporter": "python",
   "pygments_lexer": "ipython3",
   "version": "3.10.14"
  }
 },
 "nbformat": 4,
 "nbformat_minor": 2
}
