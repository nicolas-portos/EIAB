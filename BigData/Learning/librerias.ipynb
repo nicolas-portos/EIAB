{
 "cells": [
  {
   "cell_type": "markdown",
   "metadata": {},
   "source": [
    "# Estatística básica con Python\n",
    "## Capítulo 1: Medidas de tendencia\n",
    "### Media, mediana, moda e cuartiles\n",
    "\n",
    "**AVISO**: Para os exemplos empregamos numpy e pandas, para instalalos dende conda"
   ]
  },
  {
   "cell_type": "code",
   "execution_count": 1,
   "metadata": {},
   "outputs": [
    {
     "name": "stdout",
     "output_type": "stream",
     "text": [
      "81.0909090909091\n"
     ]
    }
   ],
   "source": [
    "pesos_estudantes = [87, 83, 90, 65, 58, 67, 88, 87, 90, 89, 88]\n",
    "total_pesos = 0\n",
    "for peso in pesos_estudantes:\n",
    "    total_pesos += peso\n",
    "\n",
    "media_pesos = total_pesos / len(pesos_estudantes)\n",
    "print(media_pesos)"
   ]
  },
  {
   "cell_type": "code",
   "execution_count": 2,
   "metadata": {},
   "outputs": [
    {
     "name": "stdout",
     "output_type": "stream",
     "text": [
      "81.0909090909091\n"
     ]
    }
   ],
   "source": [
    "pesos_estudantes = [87, 83, 90, 65, 58, 67, 88, 87, 90, 89, 88]\n",
    "media_pesos = sum(pesos_estudantes) / len(pesos_estudantes)\n",
    "print(media_pesos)"
   ]
  },
  {
   "cell_type": "code",
   "execution_count": 3,
   "metadata": {},
   "outputs": [
    {
     "name": "stdout",
     "output_type": "stream",
     "text": [
      "81.0909090909091\n"
     ]
    }
   ],
   "source": [
    "from statistics import mean\n",
    "\n",
    "pesos_estudantes = [87, 83, 90, 65, 58, 67, 88, 87, 90, 89, 88]\n",
    "media_pesos = mean(pesos_estudantes)\n",
    "print(media_pesos)"
   ]
  },
  {
   "cell_type": "code",
   "execution_count": 4,
   "metadata": {},
   "outputs": [
    {
     "name": "stdout",
     "output_type": "stream",
     "text": [
      "81.0909090909091\n"
     ]
    }
   ],
   "source": [
    "import numpy\n",
    "\n",
    "pesos_estudantes = [87, 83, 90, 65, 58, 67, 88, 87, 90, 89, 88]\n",
    "media_pesos = numpy.mean(pesos_estudantes)\n",
    "print(media_pesos)"
   ]
  },
  {
   "cell_type": "code",
   "execution_count": 5,
   "metadata": {},
   "outputs": [
    {
     "data": {
      "text/html": [
       "<div>\n",
       "<style scoped>\n",
       "    .dataframe tbody tr th:only-of-type {\n",
       "        vertical-align: middle;\n",
       "    }\n",
       "\n",
       "    .dataframe tbody tr th {\n",
       "        vertical-align: top;\n",
       "    }\n",
       "\n",
       "    .dataframe thead th {\n",
       "        text-align: right;\n",
       "    }\n",
       "</style>\n",
       "<table border=\"1\" class=\"dataframe\">\n",
       "  <thead>\n",
       "    <tr style=\"text-align: right;\">\n",
       "      <th></th>\n",
       "      <th>Nomes</th>\n",
       "      <th>Pesos</th>\n",
       "      <th>Notas</th>\n",
       "    </tr>\n",
       "  </thead>\n",
       "  <tbody>\n",
       "    <tr>\n",
       "      <th>0</th>\n",
       "      <td>Fulano</td>\n",
       "      <td>83</td>\n",
       "      <td>7</td>\n",
       "    </tr>\n",
       "    <tr>\n",
       "      <th>1</th>\n",
       "      <td>Mengana</td>\n",
       "      <td>45</td>\n",
       "      <td>8</td>\n",
       "    </tr>\n",
       "    <tr>\n",
       "      <th>2</th>\n",
       "      <td>Zutano</td>\n",
       "      <td>68</td>\n",
       "      <td>9</td>\n",
       "    </tr>\n",
       "    <tr>\n",
       "      <th>3</th>\n",
       "      <td>Perengana</td>\n",
       "      <td>97</td>\n",
       "      <td>5</td>\n",
       "    </tr>\n",
       "  </tbody>\n",
       "</table>\n",
       "</div>"
      ],
      "text/plain": [
       "       Nomes  Pesos  Notas\n",
       "0     Fulano     83      7\n",
       "1    Mengana     45      8\n",
       "2     Zutano     68      9\n",
       "3  Perengana     97      5"
      ]
     },
     "execution_count": 5,
     "metadata": {},
     "output_type": "execute_result"
    }
   ],
   "source": [
    "import pandas as pd\n",
    "\n",
    "datos_estudantes = ({\n",
    "    'Nomes':[\"Fulano\", \"Mengana\", \"Zutano\", \"Perengana\"],\n",
    "    'Pesos':[83,45,68,97],\n",
    "    'Notas':[7,8,9,5]\n",
    "})\n",
    "\n",
    "# No funciona si lo almacenas como un set si no esta ordenado\n",
    "# datos_estudantes = ({\n",
    "#     'Nomes':{\"Fulano\", \"Mengana\", \"Zutano\", \"Perengana\"},\n",
    "#     'Pesos':{83,45,68,97},\n",
    "#     'Notas':{7,8,9,5}\n",
    "# })\n",
    "\n",
    "df = pd.DataFrame(datos_estudantes)\n",
    "df"
   ]
  }
 ],
 "metadata": {
  "kernelspec": {
   "display_name": "bigdata",
   "language": "python",
   "name": "python3"
  },
  "language_info": {
   "codemirror_mode": {
    "name": "ipython",
    "version": 3
   },
   "file_extension": ".py",
   "mimetype": "text/x-python",
   "name": "python",
   "nbconvert_exporter": "python",
   "pygments_lexer": "ipython3",
   "version": "3.10.14"
  }
 },
 "nbformat": 4,
 "nbformat_minor": 2
}
