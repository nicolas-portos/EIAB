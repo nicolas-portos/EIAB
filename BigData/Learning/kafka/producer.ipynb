{
 "cells": [
  {
   "cell_type": "code",
   "execution_count": 1,
   "metadata": {},
   "outputs": [],
   "source": [
    "from kafka import KafkaProducer\n",
    "from json import dumps\n",
    "import time\n",
    "\n",
    "producer = KafkaProducer(\n",
    "    value_serializer=lambda m: dumps(m).encode('utf-8'),\n",
    "    # bootstrap_servers=['10.133.29.238:9092']) # si abrimos el puerto en la maquina\n",
    "    bootstrap_servers=['127.0.0.1:9092']) # Si redireccionamos con ssh -l\n",
    "\n",
    "for i in range(10):\n",
    "    producer.send(\"iabd-topic\", value={\"nombre\": \"producer \" + str(i)})\n",
    "# Como el envío es asíncrono, para que no se salga del programa antes de enviar el mensaje, esperamos 1 seg\n",
    "time.sleep(1)\n",
    "# producer.flush()"
   ]
  }
 ],
 "metadata": {
  "kernelspec": {
   "display_name": "bigdata",
   "language": "python",
   "name": "python3"
  },
  "language_info": {
   "codemirror_mode": {
    "name": "ipython",
    "version": 3
   },
   "file_extension": ".py",
   "mimetype": "text/x-python",
   "name": "python",
   "nbconvert_exporter": "python",
   "pygments_lexer": "ipython3",
   "version": "3.8.18"
  }
 },
 "nbformat": 4,
 "nbformat_minor": 2
}
