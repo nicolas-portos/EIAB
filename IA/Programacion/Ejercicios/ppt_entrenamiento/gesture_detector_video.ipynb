{
 "cells": [
  {
   "cell_type": "code",
   "execution_count": 1,
   "metadata": {},
   "outputs": [],
   "source": [
    "from matplotlib import pyplot as plt\n",
    "import mediapipe as mp\n",
    "from mediapipe.tasks import python\n",
    "from mediapipe.tasks.python import vision\n",
    "from mediapipe.framework.formats import landmark_pb2\n",
    "from mediapipe import solutions\n",
    "import cv2 as cv\n",
    "import numpy as np\n",
    "import time"
   ]
  },
  {
   "cell_type": "code",
   "execution_count": 2,
   "metadata": {},
   "outputs": [],
   "source": [
    "RPS_MARGIN = 40\n",
    "FONT_SIZE = 1\n",
    "FONT_THICKNESS = 1\n",
    "HANDEDNESS_TEXT_COLOR = (88, 205, 54) # vibrant green"
   ]
  },
  {
   "cell_type": "code",
   "execution_count": 3,
   "metadata": {},
   "outputs": [],
   "source": [
    "plt.rcParams.update({\n",
    "    'axes.spines.top': False,\n",
    "    'axes.spines.right': False,\n",
    "    'axes.spines.left': False,\n",
    "    'axes.spines.bottom': False,\n",
    "    'xtick.labelbottom': False,\n",
    "    'xtick.bottom': False,\n",
    "    'ytick.labelleft': False,\n",
    "    'ytick.left': False,\n",
    "    'xtick.labeltop': False,\n",
    "    'xtick.top': False,\n",
    "    'ytick.labelright': False,\n",
    "    'ytick.right': False\n",
    "})\n",
    "\n",
    "mp_hands = solutions.hands\n",
    "mp_drawing = solutions.drawing_utils\n",
    "mp_drawing_styles = solutions.drawing_styles"
   ]
  },
  {
   "cell_type": "code",
   "execution_count": 4,
   "metadata": {},
   "outputs": [],
   "source": [
    "def draw_landmarks_on_image(rgb_image, detection_result, result):\n",
    "    hand_landmarks_list = detection_result.hand_landmarks\n",
    "    annotated_image = np.copy(rgb_image)\n",
    "    \n",
    "    # Loop through the detected hands to visualize.\n",
    "    for idx in range(len(hand_landmarks_list)):\n",
    "        hand_landmarks = hand_landmarks_list[idx]\n",
    "\n",
    "        # Draw the hand landmarks.\n",
    "        hand_landmarks_proto = landmark_pb2.NormalizedLandmarkList()\n",
    "        hand_landmarks_proto.landmark.extend([\n",
    "            landmark_pb2.NormalizedLandmark(x=landmark.x, y=landmark.y, z=landmark.z) for landmark in hand_landmarks\n",
    "        ])\n",
    "        solutions.drawing_utils.draw_landmarks(\n",
    "              annotated_image,\n",
    "              hand_landmarks_proto,\n",
    "              solutions.hands.HAND_CONNECTIONS,\n",
    "              solutions.drawing_styles.get_default_hand_landmarks_style(),\n",
    "              solutions.drawing_styles.get_default_hand_connections_style())\n",
    "    \n",
    "        # Get the top left corner of the detected hand's bounding box.\n",
    "        height, width, _ = annotated_image.shape\n",
    "        x_coordinates = [landmark.x for landmark in hand_landmarks]\n",
    "        y_coordinates = [landmark.y for landmark in hand_landmarks]\n",
    "                \n",
    "        # Draw rock, paper or scissor\n",
    "        text_x = int(min(x_coordinates) * width) \n",
    "        text_y = int(min(y_coordinates) * height) - RPS_MARGIN\n",
    "        cv.putText(annotated_image, f\"{result[0][0].category_name}\",\n",
    "                    (text_x, text_y), cv.FONT_HERSHEY_DUPLEX,\n",
    "                    FONT_SIZE, HANDEDNESS_TEXT_COLOR, FONT_THICKNESS, cv.LINE_AA)\n",
    "    \n",
    "    return annotated_image"
   ]
  },
  {
   "cell_type": "code",
   "execution_count": 5,
   "metadata": {},
   "outputs": [],
   "source": [
    "# STEP 2: Create an GestureRecognizer object.\n",
    "BaseOptions = mp.tasks.BaseOptions\n",
    "GestureRecognizer = mp.tasks.vision.GestureRecognizer\n",
    "GestureRecognizerOptions = mp.tasks.vision.GestureRecognizerOptions\n",
    "VisionRunningMode = mp.tasks.vision.RunningMode\n",
    "\n",
    "# Create a gesture recognizer instance with the video mode:\n",
    "options = GestureRecognizerOptions(\n",
    "    base_options=BaseOptions(model_asset_path='model/exported_model_no_flip/gesture_recognizer.task'),\n",
    "    # base_options=BaseOptions(model_asset_path='model/exported_model/gesture_recognizer.task'),\n",
    "    running_mode=VisionRunningMode.VIDEO)"
   ]
  },
  {
   "cell_type": "code",
   "execution_count": 6,
   "metadata": {},
   "outputs": [],
   "source": [
    "cam = cv.VideoCapture(0) \n",
    "cv.namedWindow(\"Cam\")    \n",
    "\n",
    "with GestureRecognizer.create_from_options(options) as recognizer:\n",
    "    while cam.isOpened():\n",
    "            \n",
    "        _, frame = cam.read()\n",
    "        cv.imshow(\"Cam\", frame)\n",
    "        mp_image = mp.Image(image_format=mp.ImageFormat.SRGB, data=frame)\n",
    "        gesture_recognition_result = recognizer.recognize_for_video(mp_image, int(round(time.time() * 100)))\n",
    "        annotated_image = mp_image.numpy_view()\n",
    "\n",
    "        if len(gesture_recognition_result.gestures)>0:\n",
    "            top_gesture = gesture_recognition_result.gestures[0][0]\n",
    "            hand_landmarks = gesture_recognition_result.hand_landmarks\n",
    "            result = [(top_gesture,hand_landmarks)]\n",
    "            annotated_image = draw_landmarks_on_image(annotated_image, gesture_recognition_result, result)\n",
    "\n",
    "        cv.imshow(\"Salida\", annotated_image)\n",
    "\n",
    "        if cv.waitKey(10) & 0xFF == 27: cam.release()\n",
    "    \n",
    "    cv.destroyAllWindows()"
   ]
  }
 ],
 "metadata": {
  "kernelspec": {
   "display_name": "ia",
   "language": "python",
   "name": "python3"
  },
  "language_info": {
   "codemirror_mode": {
    "name": "ipython",
    "version": 3
   },
   "file_extension": ".py",
   "mimetype": "text/x-python",
   "name": "python",
   "nbconvert_exporter": "python",
   "pygments_lexer": "ipython3",
   "version": "3.10.14"
  }
 },
 "nbformat": 4,
 "nbformat_minor": 2
}
