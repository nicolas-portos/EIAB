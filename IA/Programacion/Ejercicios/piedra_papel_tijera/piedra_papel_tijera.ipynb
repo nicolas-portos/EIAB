{
 "cells": [
  {
   "cell_type": "markdown",
   "metadata": {},
   "source": [
    "![HandLandMarks](images/handlandmarker.jpg)"
   ]
  },
  {
   "cell_type": "code",
   "execution_count": 1,
   "metadata": {},
   "outputs": [],
   "source": [
    "import mediapipe as mp\n",
    "from mediapipe import solutions\n",
    "from mediapipe.tasks import python\n",
    "from mediapipe.tasks.python import vision\n",
    "from mediapipe.framework.formats import landmark_pb2\n",
    "import cv2 as cv\n",
    "import numpy as np\n",
    "import time, math"
   ]
  },
  {
   "cell_type": "code",
   "execution_count": 2,
   "metadata": {},
   "outputs": [],
   "source": [
    "HANDEDNESS_MARGIN = 10  # pixels\n",
    "RPS_MARGIN = 40\n",
    "FONT_SIZE = 1\n",
    "FONT_THICKNESS = 1\n",
    "# BGR COLOR\n",
    "HANDEDNESS_TEXT_COLOR = (88, 205, 54) # vibrant green\n",
    "RPS_TEXT_COLOR = (255, 0, 0) # blue"
   ]
  },
  {
   "cell_type": "code",
   "execution_count": 3,
   "metadata": {},
   "outputs": [],
   "source": [
    "def calc_distance(origen, destino):\n",
    "    return math.sqrt((origen.x-destino.x)**2 + (origen.y-destino.y)**2 + (origen.z-destino.z)**2) \n",
    "\n",
    "def is_figner_up(finger_pip, finger_tip, wrist):\n",
    "    dist_pip = calc_distance(wrist,finger_pip)\n",
    "    dist_tip = calc_distance(wrist,finger_tip)\n",
    "\n",
    "    return dist_tip > dist_pip\n",
    "\n",
    "def draw_landmarks_on_image(rgb_image, detection_result):\n",
    "    hand_landmarks_list = detection_result.hand_landmarks\n",
    "    annotated_image = np.copy(rgb_image)\n",
    "    \n",
    "    # Loop through the detected hands to visualize.\n",
    "    for idx in range(len(hand_landmarks_list)):\n",
    "        rps = \"\"\n",
    "        hand_landmarks = hand_landmarks_list[idx]\n",
    "\n",
    "        # Create bool for each finger if its up (pip and tip) [see image]\n",
    "        wrist = hand_landmarks_list[idx][0]\n",
    "        index = is_figner_up(hand_landmarks_list[idx][6],\n",
    "                            hand_landmarks_list[idx][8],\n",
    "                            wrist)\n",
    "        middle = is_figner_up(hand_landmarks_list[idx][10],\n",
    "                            hand_landmarks_list[idx][12],\n",
    "                            wrist)\n",
    "        ring = is_figner_up(hand_landmarks_list[idx][14],\n",
    "                            hand_landmarks_list[idx][16],\n",
    "                            wrist)\n",
    "        pinky = is_figner_up(hand_landmarks_list[idx][18],\n",
    "                            hand_landmarks_list[idx][20],\n",
    "                            wrist)\n",
    "\n",
    "        if index and middle and ring and pinky: rps = \"papel\"\n",
    "        elif index and middle: rps = \"tijera\"\n",
    "        elif not index and not middle and not ring and not pinky: rps = \"piedra\"\n",
    "\n",
    "        # Draw the hand landmarks.\n",
    "        hand_landmarks_proto = landmark_pb2.NormalizedLandmarkList()\n",
    "        hand_landmarks_proto.landmark.extend([\n",
    "            landmark_pb2.NormalizedLandmark(x=landmark.x, y=landmark.y, z=landmark.z) for landmark in hand_landmarks\n",
    "        ])\n",
    "        solutions.drawing_utils.draw_landmarks(\n",
    "              annotated_image,\n",
    "              hand_landmarks_proto,\n",
    "              solutions.hands.HAND_CONNECTIONS,\n",
    "              solutions.drawing_styles.get_default_hand_landmarks_style(),\n",
    "              solutions.drawing_styles.get_default_hand_connections_style())\n",
    "    \n",
    "        # Get the top left corner of the detected hand's bounding box.\n",
    "        height, width, _ = annotated_image.shape\n",
    "        x_coordinates = [landmark.x for landmark in hand_landmarks]\n",
    "        y_coordinates = [landmark.y for landmark in hand_landmarks]\n",
    "                \n",
    "        # Draw rock, paper or scissor\n",
    "        text_x = int(min(x_coordinates) * width) \n",
    "        text_y = int(min(y_coordinates) * height) - RPS_MARGIN\n",
    "        cv.putText(annotated_image, f\"{rps}\",\n",
    "                    (text_x, text_y), cv.FONT_HERSHEY_DUPLEX,\n",
    "                    FONT_SIZE, HANDEDNESS_TEXT_COLOR, FONT_THICKNESS, cv.LINE_AA)\n",
    "    \n",
    "    return annotated_image"
   ]
  },
  {
   "cell_type": "code",
   "execution_count": 4,
   "metadata": {},
   "outputs": [],
   "source": [
    "BaseOptions = mp.tasks.BaseOptions\n",
    "HandLandmarker = mp.tasks.vision.HandLandmarker\n",
    "HandLandmarkerOptions = mp.tasks.vision.HandLandmarkerOptions\n",
    "VisionRunningMode = mp.tasks.vision.RunningMode\n",
    "\n",
    "options = HandLandmarkerOptions(\n",
    "    base_options=BaseOptions(model_asset_path=\"model/hand_landmarker.task\"),\n",
    "    running_mode=VisionRunningMode.VIDEO,\n",
    "    num_hands=2)"
   ]
  },
  {
   "cell_type": "code",
   "execution_count": 5,
   "metadata": {},
   "outputs": [
    {
     "name": "stderr",
     "output_type": "stream",
     "text": [
      "c:\\Users\\nicol\\miniconda3\\envs\\ia\\lib\\site-packages\\google\\protobuf\\symbol_database.py:55: UserWarning: SymbolDatabase.GetPrototype() is deprecated. Please use message_factory.GetMessageClass() instead. SymbolDatabase.GetPrototype() will be removed soon.\n",
      "  warnings.warn('SymbolDatabase.GetPrototype() is deprecated. Please '\n"
     ]
    }
   ],
   "source": [
    "cam = cv.VideoCapture(0) \n",
    "cv.namedWindow(\"Cam\") \n",
    "\n",
    "with HandLandmarker.create_from_options(options) as landmarker:\n",
    "\n",
    "    while cam.isOpened():  \n",
    "        # Read frames from videoCaptura and show\n",
    "        _, frame = cam.read() \n",
    "        cv.imshow(\"Cam\", frame)\n",
    "\n",
    "        # The landmarker is initialized. \n",
    "        mp_image = mp.Image(image_format=mp.ImageFormat.SRGB, data=frame)\n",
    "        hand_landmarker_result = landmarker.detect_for_video(mp_image, int(round(time.time() * 100)))\n",
    "        annotated_image = draw_landmarks_on_image(mp_image.numpy_view(), hand_landmarker_result)\n",
    "        cv.imshow(\"Salida\", annotated_image)\n",
    "\n",
    "        # Press esc to exit\n",
    "        if cv.waitKey(10) & 0xFF == 27: cam.release()\n",
    "    \n",
    "    cv.destroyAllWindows()"
   ]
  }
 ],
 "metadata": {
  "kernelspec": {
   "display_name": "Python 3",
   "language": "python",
   "name": "python3"
  },
  "language_info": {
   "codemirror_mode": {
    "name": "ipython",
    "version": 3
   },
   "file_extension": ".py",
   "mimetype": "text/x-python",
   "name": "python",
   "nbconvert_exporter": "python",
   "pygments_lexer": "ipython3",
   "version": "3.10.14"
  }
 },
 "nbformat": 4,
 "nbformat_minor": 2
}
