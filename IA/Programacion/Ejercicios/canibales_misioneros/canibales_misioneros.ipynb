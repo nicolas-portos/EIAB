{
 "cells": [
  {
   "cell_type": "code",
   "execution_count": 1,
   "metadata": {},
   "outputs": [],
   "source": [
    "import pprint\n",
    "import matplotlib.pyplot as plt\n",
    "import numpy as np\n",
    "\n",
    "from Grafo import Grafo"
   ]
  },
  {
   "cell_type": "code",
   "execution_count": 2,
   "metadata": {},
   "outputs": [],
   "source": [
    "class Canibales(Grafo):\n",
    "    def es_posicion_valida(self, nodo, salida):       \n",
    "\n",
    "        # Cuenta el la diferencia del nodo de entrada y del de salida\n",
    "        def moves(nodo,salida):\n",
    "            # count = sum(1 for a, b in zip(nodo[0:6], salida[0:6]) if a != b)\n",
    "            count = 0\n",
    "            for a, b in zip(nodo[0:6], salida[0:6]):\n",
    "                if a != b: \n",
    "                    # solo se puede subir si la barca esta de su lado\n",
    "                    if a != nodo[6]: return True\n",
    "                    count += 1\n",
    "            \n",
    "            if count > 2: return True\n",
    "        \n",
    "        # Mapeo los nodos a listas para que sea más sencillo su validacion\n",
    "        nodo = list(map(int, nodo))\n",
    "        salida = list(map(int, salida))\n",
    "\n",
    "        # no puede no moverse la barca\n",
    "        if nodo[6] == salida[6]: return False \n",
    "\n",
    "        # no puede no moverse nadie\n",
    "        if nodo[0:6] == salida[0:6]: return False \n",
    "\n",
    "        # No es necesaria al comprobar si se han movido los que saben remar    \n",
    "        # No pueden moverse juntos los canibales 4 y 5\n",
    "        # if (nodo[4] == nodo[5] and salida[4] == salida[5]) and nodo[4:6]!=salida[4:6]: return False\n",
    "\n",
    "        # No se puede mover el canibal 4 o 5 ellos solos\n",
    "        # Para ello comprobamos si alguno de los que pueden remas se han movido\n",
    "        if nodo[:4] == salida[:4] and (salida[4] != nodo[4] or salida[5] != nodo [5]): return False\n",
    "\n",
    "        # No puede haber mas canibales de un lado que misioneres de ese(si es que estan)\n",
    "        if ((salida[0:3].count(0) < salida[3:6].count(0)) and salida[0:3].count(0) != 0) or \\\n",
    "            ((salida[0:3].count(1) < salida[3:6].count(1)) and salida[0:3].count(1) != 0): return False\n",
    "        \n",
    "        # En la barca solo entran dos personas\n",
    "        if moves(nodo, salida): return False\n",
    "\n",
    "        return True  \n",
    "\n",
    "    def genera_sucesores(self, nodo):\n",
    "        hijos = []\n",
    "\n",
    "        for i in range(128):\n",
    "            salida = format(i, \"07b\")\n",
    "            if (self.es_posicion_valida(nodo,salida)):\n",
    "                hijos.append(salida)\n",
    "\n",
    "        return hijos\n",
    "    \n",
    "    def es_solucion(self, nodo):\n",
    "        return nodo == \"1111111\"\n"
   ]
  },
  {
   "cell_type": "code",
   "execution_count": 3,
   "metadata": {},
   "outputs": [
    {
     "name": "stdout",
     "output_type": "stream",
     "text": [
      "['0000000', '0001011', '0000010', '0001111', '0000110', '0110111', '0010010', '0111011', '0011000', '1111001', '1110000', '1111011', '0111010', '1111111']\n"
     ]
    }
   ],
   "source": [
    "g = Canibales()\n",
    "g.recorre_grafo(nodo_inicial=\"0000000\", modo=\"anchura\")\n",
    "ruta = g.genera_ruta(\"1111111\")\n",
    "print(ruta[::-1])"
   ]
  }
 ],
 "metadata": {
  "kernelspec": {
   "display_name": "ia",
   "language": "python",
   "name": "python3"
  },
  "language_info": {
   "codemirror_mode": {
    "name": "ipython",
    "version": 3
   },
   "file_extension": ".py",
   "mimetype": "text/x-python",
   "name": "python",
   "nbconvert_exporter": "python",
   "pygments_lexer": "ipython3",
   "version": "3.10.14"
  }
 },
 "nbformat": 4,
 "nbformat_minor": 2
}
