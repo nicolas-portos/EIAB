{
 "cells": [
  {
   "cell_type": "code",
   "execution_count": 1,
   "metadata": {},
   "outputs": [
    {
     "data": {
      "text/plain": [
       "['\\ufeffFunes el memorioso',\n",
       " 'Jorge Luis Borges\\xa0',\n",
       " '\\tLo recuerdo (yo no tengo derecho a pronunciar ese verbo sagrado, sólo un hombre en la tierra tuvo derecho y ese hombre ha muerto) con una oscura pasionaria en la mano, viéndola como nadie la ha visto, aunque la mirara desde el crepúsculo del día hasta el de la noche, toda una vida entera. Lo recuerdo, la cara taciturna y aindiada y singularmente remota, detrás del cigarrillo. Recuerdo (creo) sus manos afiladas de trenzado. Recuerdo cerca de esas manos un mate, con las armas de la Banda Oriental; recuerdo en la ventana de la casa una estera amarilla, con un vago paisaje lacustre. Recuerdo claramente su voz; la voz pausada, resentida y nasal del orillero antiguo, sin los silbidos italianos de ahora. Más de tres veces no lo vi; la última, en 1887... Me parece muy feliz el proyecto de que todos aquellos que lo trataron escriban sobre él; mi testimonio será acaso el más breve y sin duda el más pobre, pero no el menos imparcial del volumen que editarán ustedes.',\n",
       " '\\tMi deplorable condición de argentino me impedirá incurrir en el ditirambo -género obligatorio en el Uruguay, cuando el tema es un uruguayo. Literato, cajetilla, porteño; Funes no dijo esas injuriosas palabras, pero de un modo suficiente me consta que yo representaba para él esas desventuras. Pedro Leandro Ipuche ha escrito que Funes era un precursor de los superhombres, \"un Zarathustra cimarrón y vernáculo \"; no lo discuto, pero no hay que olvidar que era también un compadrito de Fray Bentos, con ciertas incurables limitaciones.',\n",
       " '\\tMi primer recuerdo de Funes es muy perspicuo. Lo veo en un atardecer de marzo o febrero del año 84. Mi padre, ese año, me había llevado a veranear a Fray Bentos. Yo volvía con mi primo Bernardo Haedo de la estancia de San Francisco. Volvíamos cantando, a caballo, y ésa no era la única circunstancia de mi felicidad. Después de un día bochornoso, una enorme tormenta color pizarra había escondido el cielo. La alentaba el viento del Sur, ya se enloquecían los árboles; yo tenía el temor la esperanza) de que nos sorprendiera en un descampado el agua elemental. Corrimos una especie de carrera con la tormenta.',\n",
       " '\\tEntramos en un callejón que se ahondaba entre dos veredas altísimas de ladrillo. Había oscurecido de golpe; oí rápidos y casi secretos pasos en lo alto; alcé los ojos y vi un muchacho que corría por la estrecha y rota vereda como por una estrecha y rota pared. Recuerdo la bombacha, las alpargatas, recuerdo el cigarrillo en el duro rostro, contra el nubarrón ya sin límites. Bernardo le gritó imprevisiblemente: \"¿Qué horas son, Ireneo?\"\". Sin consultar el cielo, sin detenerse, el otro respondió: \\'Faltan cuatro minutos para las ocho, joven Bernardo Juan Francisco\". La voz era aguda, burlona. Yo soy tan distraído que el diálogo que acabo de referir no me hubiera llamado la atención si no lo hubiera recalcado mi primo, a quien estimulaban creo) cierto orgullo local, y el deseo de mostrarse indiferente a la réplica tripartita del otro.',\n",
       " \"\\tMe dijo que el muchacho del callejón era un tal Ireneo Funes, mentado por algunas rarezas como la de no darse con nadie y la de saber siempre la hora, como un reloj. Agregó que era hijo de una planchadora del pueblo, María Clementina Funes, y que algunos decían que su padre era un médico del saladero, un inglés O'Connor, y otros un domador o rastreador del departamento del Salto.\",\n",
       " '\\tVivía con su madre, a la vuelta de la quinta de los Laureles. Los años 85 y 86 veraneamos en la ciudad de Montevideo. El 87 volví a Fray Bentos. Pregunté, como es natural, por todos los conocidos y, finalmente, por el \"cronométrico Funes\". Me contestaron que lo había volteado un redomón en la estancia de San Francisco, y que había quedado tullido, sin esperanza.',\n",
       " '\\tRecuerdo la impresión de incómoda magia que la noticia me produjo: la única vez que yo lo vi, veníamos a caballo de San Francisco y él andaba en un lugar alto; el hecho, en boca de mi primo Bernardo, tenía mucho de sueño elaborado con elementos anteriores.',\n",
       " '\\tMe dijeron que no se movía del catre, puestos los ojos en la higuera del fondo o en una telaraña. En los atardeceres, permitía que lo sacaran a la ventana. Llevaba la soberbia hasta el punto de simular que era benéfico el golpe que lo había fulminado... Dos veces lo vi atrás de la reja, que burdamente recalcaba su',\n",
       " ' condición de eterno prisionero: una, inmóvil, con los ojos cerrados; otra, inmóvil también, absorto en la contemplación de un oloroso gajo de santonina. No sin alguna vanagloria yo había iniciado en aquel tiempo el estudio metódico del latín. Mi valija incluía el De viris illustribus de Lhomond, el Thesaurus de Quicherat, los Comentarios de Julio César y un volumen impar de la Naturalis historia de Plinio, que excedía (y sigue excediendo) mis módicas virtudes de latinista. Todo se propala en un pueblo chico; Ireneo, en su rancho de las orillas, no tardó en enterarse del arribo de esos libros anómalos. Me dirigió una carta florida y ceremoniosa, en la que recordaba nuestro encuentro, desdichadamente fugaz, del día 7 de febrero del año 84\", ponderaba los gloriosos servicios que don Gregorio Haedo, mi tío, finado ese mismo año, \"había prestado a las dos patrias en la valerosa jornada de Ituzaingó \", y me solicitaba el préstamo de cualquiera de los volúmenes, acompañado de un diccionario para la buena inteligencia del texto original, porque todavía ignoro el latín\".',\n",
       " '\\tPrometía devolverlos en buen estado, casi inmediatamente. La letra era perfecta, muy perfilada; la ortografía, del tipo que Andrés Bello preconizó: i por y, f por g. Al principio, temí naturalmente una broma. Mis primos me aseguraron que no, que eran cosas de Ireneo. No supe si atribuir a descaro, a ignorancia o a estupidez la idea de que el arduo latín no requería más instrumento que un diccionario; para desengañarlo con plenitud le mandé el Gradus ad Parnassum de Quicherat y la obra de Plinio.',\n",
       " '\\tEl 14 de febrero me telegrafiaron de Buenos Aires que volviera inmediatamente, porque mi padre no estaba \"nada bien\". Dios me perdone; el prestigio de ser el destinatario de un telegrama urgente, el deseo de comunicar a todo Fray Bentos la contradicción entre la forma negativa de la noticia y el perentorio adverbio, la tentación de dramatizar mi dolor, fingiendo un viril estoicismo, tal vez me distrajeron de toda posibilidad de dolor. Al hacer la valija, noté que me faltaban el Gradus y el primer tomo de la Naturalis historia. El Saturno\" zarpaba al día siguiente, por la mañana; esa noche, después de cenar, me encaminé a casa de Funes. Me asombró que la noche fuera no menos pesada que el día. En el decente rancho, la madre de Funes me recibió. Me dijo que Ireneo estaba en la pieza del fondo y que no me extrañara encontrarla a oscuras, porque ireneo sabía pasarse las horas muertas sin encender la vela. Atravesé el patio de baldosa, el corredorcito; llegué al segundo patio. Había una parra; la oscuridad pudo parecerme total. Oí de pronto la alta y burlona voz de Ireneo. Esa voz hablaba en latín; esa voz (que venía de la tiniebla) articulaba con moroso deleite un discurso o plegaria o incantación. Resonaron las sílabas romanas en el patio de tierra; mi temor las creía indescifrables, interminables; después, en el enorme diálogo de esa noche, supe que formaban el primer párrafo del capítulo XXIV del libro vii de la Naturalis historia. La materia de ese capítulo es la memoria; las palabras últimas fueron ut nihil non iisdern verbis redderetur audíturn. Sin el menor cambio de voz, Ireneo me dijo que pasara. Estaba en el catre, fumando. Me parece que no le vi la cara hasta el alba; creo rememorar el ascua momentánea del cigarrillo. La pieza olía vagamente a humedad. Me senté; repetí la historia del telegrama y de la enfermedad de mi padre. Arribo, ahora, al más difícil punto de mi relato. Éste (bueno es que ya lo sepa el lector) no tiene otro argumento que ese diálogo de hace ya medio siglo. No trataré de reproducir sus palabras, irrecuperables ahora. Prefiero resumir con veracidad las muchas cosas que me dijo Ireneo. El estilo indirecto es remoto y débil; yo sé que sacrifico la eficacia de mi relato; que mis lectores se imaginen los entrecortados períodos que me abrumaron esa noche. Ireneo empezó por enumerar, en latín y español, los casos de memoria prodigiosa registrados por la Naturalis historia: Ciro, rey de los persas, que sabía llamar por su nombre a todos los soldados de sus ejércitos; Mitrídates Eupator, que administraba la justicia en los veintidós idiomas de su imperio; Simónides, inventor de la mnemotecnia; Metrodoro, que profesaba el arte de repetir con fidelidad lo escuchado una sola vez. Con evidente buena fe se maravilló de que tales casos maravillaran. Me dijo que antes de esa tarde lluviosa en que lo volteó el azulejo, él había sido lo que son todos los cristianos: un ciego, un sordo, un abombado, un desmemoriado. (Traté de recordarle su percepción exacta del tiempo, su memoria de nombres propios; no me hizo caso.) Diecinueve años había vivido como quien sueña: miraba sin ver, oía sin oír, se olvidaba de todo, de casi todo. Al caer, perdió el conocimiento; cuando lo recobró, el presente era casi intolerable de tan rico y tan nítido, y también las memorias más antiguas y más triviales. Poco después averiguó que estaba tullido. El hecho apenas le interesó. Razonó (sintió) que la inmovilidad era un precio mínimo. Ahora su percepción y su memoria eran infalibles. Nosotros, de un vistazo, percibimos tres copas en una mesa; Funes, todos los vástagos y racimos y frutos que comprende una parra. Sabía las formas de las nubes australes del amanecer del 30 de abril de 1882 y podía compararlas en el recuerdo con las vetas de un libro en pasta española que sólo había mirado una vez y con las líneas de la espuma que un remo levantó en el Río Negro la víspera de la acción del Quebracho. Esos recuerdos no eran simples; cada imagen visual estaba ligada a sensaciones musculares, térmicas, etcétera. Podía reconstruir todos los sueños, todos los entre sueños. Dos o tres veces había reconstruido un día entero; no había dudado nunca, pero cada reconstrucción había requerido un día entero. Me dijo: \"Más recuerdos tengo yo solo que los que habrán tenido todos los hombres desde que el mundo es mundo\". Y también: \"Mis sueños son como la vigilia de ustedes\". Y también, hacia el alba: \"Mi memoria, señor, es como vaciadero de basuras\". Una circunferencia en un pizarrón, un triángulo rectángulo, un rombo, son formas que podemos intuir plenamente; lo mismo le pasaba a Ireneo con las aborrascadas crines de un potro, con una punta de ganado en una cuchilla, con el fuego cambiante y con la innumerable ceniza, con las muchas caras de un muerto en un largo velorio. No sé cuántas estrellas veía en el cielo. Esas cosas me dijo; ni entonces ni después las he puesto en duda. En aquel tiempo no había cinematógrafos ni fonógrafos; es, sin embargo, inverosímil y hasta increíble que nadie hiciera un experimento con Funes. Lo cierto es que vivimos postergando todo lo postergable; tal vez todos sabemos profundamente que somos inmortales y que tarde o temprano, todo hombre hará todas las cosas y sabrá todo. La voz de Funes, desde la oscuridad, seguía hablando. Me dijo que hacia 1886 había discurrido un sistema original de numeración y que en muy pocos días había rebasado el veinticuatro mil. No lo había escrito, porque lo pensado una sola vez ya no podía borrársele. Su primer estímulo, creo, fue el desagrado de que los treinta y tres orientales requirieran dos signos y tres palabras, en lugar de una sola palabra y un solo signo. Aplicó luego ese disparatado principio a los otros números. En lugar de siete mil trece, decía (por ejemplo) Máximo Pérez; en lugar de siete mil catorce, El Ferrocarril; otros números eran Luis Melián Lafinur, Olimar, azufre, los bastos, la ballena, el gas, la caldera, Napoléon, Agustín de Vedía. En lugar de quinientos, decía nueve. Cada palabra tenía un signo particular, una especie de marca; las últimas eran muy complicadas... Yo traté de explicarle que esa rapsodia de voces inconexas era precisamente lo contrario de un sistema de numeración. Le dije que decir 365 era decir tres centenas, seis decenas, cinco unidades: análisis que no existe en los números\" El Negro Timoteo o manta de carne. Funes no me entendió o no quiso entenderme. Locke, en el siglo XVII, postuló (y reprobó) un idioma imposible en el que cada cosa individual, cada piedra, cada pájaro y cada rama tuviera un nombre propio; Funes proyectó alguna vez un idioma análogo, pero lo desechó por parecerle demasiado general, demasiado ambiguo. En efecto, Funes no sólo recordaba cada hoja de cada árbol de cada monte, sino cada una de las veces que la había percibido o imaginado. Resolvió reducir cada una de sus jornadas pretéritas a unos setenta mil recuerdos, que definiría luego por cifras. Lo disuadieron dos consideraciones: la conciencia de que la tarea era interminable, la conciencia de que era inútil. Pensó que en la hora de la muerte no habría acabado aún de clasificar todos los recuerdos de la niñez. Los dos proyectos que he indicado (un vocabulario infinito para la serie natural de los números, un inútil catálogo mental de todas las imágenes del recuerdo) son insensatos, pero revelan cierta balbuciente',\n",
       " ' grandeza. Nos dejan vislumbrar o inferír el vertiginoso mundo de Funes. Éste, no lo olvidemos, era casi incapaz de ideas generales, platónicas. No sólo le costaba comprender que el símbolo genérico perro abarcara tantos individuos dispares de diversos tamaños y diversa forma; le molestaba que el perro de las tres y catorce (visto de perfil) tuviera el mismo nombre que el perro de las tres y cuarto visto de frente). Su propia cara en el espejo, sus propias manos, lo sorprendían cada vez. Refiere Swift que el emperador de Lilliput discernía el movimiento del minutero; Funes discernía continuamente los tranquilos avances de la corrupción, de las caries, de la fatiga. Notaba los progresos de la muerte, de la humedad. Era el solitario y lúcido espectador de un mundo multiforme, instantáneo y casi intolerablemente preciso. Babilonia, Londres y Nueva York han abrumado con feroz esplendor la imaginación de los hombres; nadie, en sus torres populosas o en sus avenidas urgentes, ha sentido el calor y la presión de una realidad tan infatigable como la que día y noche convergía sobre el infeliz Ireneo, en su pobre arrabal sudamericano. Le era muy difícil dormir. Dormir es distraerse del mundo; Funes, de espaldas en el catre, en la sombra, se figuraba cada grieta y cada moldura de las casas precisas que lo rodeaban. (Repito que el menos importante de sus recuerdos era más minucioso y más vivo que nuestra percepción de un goce físico o de un tormento físico.) Hacia el Este, en un trecho no amanzanado, había casas nuevas, desconocidas. Funes las imaginaba negras, compactas, hechas de tiniebla homogénea; en esa dirección volvía la cara para dormir. También solía imaginarse en el fondo del río, mecido y anulado por la corriente. Había aprendido sin esfuerzo el inglés, el francés, el portugués, el latín. Sospecho, sin embargo, que no era muy capaz de pensar. Pensar es olvidar diferencias, es generalizar, abstraer. En el abarrotado mundo de Funes no había sino detalles, casi',\n",
       " ' inmediatos. La recelosa claridad de la madrugada entró por el patio de tierra. Entonces vi la cara de la voz que toda la noche había hablado. Ireneo tenía diecinueve años; había nacido en 1868; me pareció monumental como el bronce, más antiguo que Egipto, anterior a las profecías y a las pirámides. Pensé que cada una de mis palabras (que cada uno de mis gestos) perduraría en su implacable memoria; me entorpeció el temor de multiplicar ademanes inútiles. ',\n",
       " '\\tIreneo Funes murió en 1889, de una congestión pulmonar.',\n",
       " 'http://www.angelfire.com/la2/pnascimento/latinoamericanos.html']"
      ]
     },
     "execution_count": 1,
     "metadata": {},
     "output_type": "execute_result"
    }
   ],
   "source": [
    "with open(\"archives/funes.txt\") as f: txt = f.read().splitlines()\n",
    "while \"\" in txt: txt.remove(\"\")\n",
    "\n",
    "txt"
   ]
  },
  {
   "cell_type": "code",
   "execution_count": 2,
   "metadata": {},
   "outputs": [],
   "source": [
    "# %pip install -U sentence-transformers"
   ]
  },
  {
   "cell_type": "code",
   "execution_count": 3,
   "metadata": {},
   "outputs": [
    {
     "name": "stderr",
     "output_type": "stream",
     "text": [
      "c:\\Users\\nicol\\miniconda3\\envs\\ia\\lib\\site-packages\\sentence_transformers\\cross_encoder\\CrossEncoder.py:13: TqdmExperimentalWarning: Using `tqdm.autonotebook.tqdm` in notebook mode. Use `tqdm.tqdm` instead to force console mode (e.g. in jupyter console)\n",
      "  from tqdm.autonotebook import tqdm, trange\n",
      "c:\\Users\\nicol\\miniconda3\\envs\\ia\\lib\\site-packages\\transformers\\tokenization_utils_base.py:1601: FutureWarning: `clean_up_tokenization_spaces` was not set. It will be set to `True` by default. This behavior will be depracted in transformers v4.45, and will be then set to `False` by default. For more details check this issue: https://github.com/huggingface/transformers/issues/31884\n",
      "  warnings.warn(\n"
     ]
    },
    {
     "data": {
      "text/plain": [
       "array([[ 1.1161916 , -0.5944312 , -0.16006903, ...,  0.04201887,\n",
       "         0.1745641 , -0.13278355],\n",
       "       [ 0.7258061 , -0.29302803,  0.15734741, ..., -0.5328277 ,\n",
       "        -1.0715348 , -0.32097504],\n",
       "       [-0.24173339, -0.39351282, -0.00498039, ..., -0.3861189 ,\n",
       "        -0.3745569 , -0.16619876],\n",
       "       ...,\n",
       "       [-0.276651  ,  0.38812798,  0.12186418, ..., -0.56073517,\n",
       "        -0.44604817,  0.1073512 ],\n",
       "       [ 1.034237  ,  0.01015016, -0.1277492 , ..., -0.087633  ,\n",
       "        -0.02246984,  0.08189754],\n",
       "       [-0.6909963 , -0.35155368, -0.6079376 , ...,  0.7914548 ,\n",
       "         0.2633531 , -0.21762164]], dtype=float32)"
      ]
     },
     "execution_count": 3,
     "metadata": {},
     "output_type": "execute_result"
    }
   ],
   "source": [
    "import sentence_transformers\n",
    "from sentence_transformers import SentenceTransformer\n",
    "\n",
    "model = SentenceTransformer('hiiamsid/sentence_similarity_spanish_es')\n",
    "embeddings = model.encode(txt)\n",
    "embeddings"
   ]
  },
  {
   "cell_type": "code",
   "execution_count": 4,
   "metadata": {},
   "outputs": [
    {
     "name": "stdout",
     "output_type": "stream",
     "text": [
      "Sentence embeddings: \n",
      "tensor([[ 1.1162, -0.5944, -0.1601,  ...,  0.0420,  0.1746, -0.1328],\n",
      "        [ 0.7258, -0.2930,  0.1573,  ..., -0.5328, -1.0715, -0.3210],\n",
      "        [-0.2417, -0.3935, -0.0050,  ..., -0.3861, -0.3746, -0.1662],\n",
      "        ...,\n",
      "        [-0.2767,  0.3881,  0.1219,  ..., -0.5607, -0.4460,  0.1074],\n",
      "        [ 1.0342,  0.0102, -0.1277,  ..., -0.0876, -0.0225,  0.0819],\n",
      "        [-0.6910, -0.3516, -0.6079,  ...,  0.7915,  0.2634, -0.2176]])\n"
     ]
    }
   ],
   "source": [
    "from transformers import AutoTokenizer, AutoModel\n",
    "import torch\n",
    "\n",
    "#Mean Pooling - Take attention mask into account for correct averaging\n",
    "def mean_pooling(model_output, attention_mask):\n",
    "    token_embeddings = model_output[0] #First element of model_output contains all token embeddings\n",
    "    input_mask_expanded = attention_mask.unsqueeze(-1).expand(token_embeddings.size()).float()\n",
    "    return torch.sum(token_embeddings * input_mask_expanded, 1) / torch.clamp(input_mask_expanded.sum(1), min=1e-9)\n",
    "\n",
    "# Sentences we want sentence embeddings for\n",
    "def get_sentence_embedding(sentences):\n",
    "    # Load model from HuggingFace Hub\n",
    "    tokenizer = AutoTokenizer.from_pretrained('hiiamsid/sentence_similarity_spanish_es')\n",
    "    model = AutoModel.from_pretrained('hiiamsid/sentence_similarity_spanish_es')\n",
    "\n",
    "    # Tokenize sentences\n",
    "    encoded_input = tokenizer(sentences, padding=True, truncation=True, return_tensors='pt')\n",
    "\n",
    "    # Compute token embeddings\n",
    "    with torch.no_grad():\n",
    "        model_output = model(**encoded_input)\n",
    "\n",
    "    # Perform pooling. In this case, max pooling.\n",
    "    return mean_pooling(model_output, encoded_input['attention_mask'])\n",
    "\n",
    "org_embeddings = get_sentence_embedding(txt)\n",
    "print(f\"Sentence embeddings: \\n{org_embeddings}\")"
   ]
  },
  {
   "cell_type": "code",
   "execution_count": 5,
   "metadata": {},
   "outputs": [],
   "source": [
    "TextBuscar=\"muchacho del callejón\""
   ]
  },
  {
   "cell_type": "code",
   "execution_count": 6,
   "metadata": {},
   "outputs": [],
   "source": [
    "new_embedding = get_sentence_embedding([TextBuscar])\n",
    "\n",
    "# Calcular la similitud entre el texto nuevo y el texto original\n",
    "similarities = torch.nn.functional.cosine_similarity(new_embedding, org_embeddings)\n",
    "\n",
    "# Encuentra el párrafo más similar\n",
    "index = torch.argmax(similarities)\n",
    "most_similar = txt[index]"
   ]
  },
  {
   "cell_type": "code",
   "execution_count": 7,
   "metadata": {},
   "outputs": [
    {
     "data": {
      "text/plain": [
       "\"Me dijo que el muchacho del callejón era un tal Ireneo Funes, mentado por algunas rarezas como la de no darse con nadie y la de saber siempre la hora, como un reloj. Agregó que era hijo de una planchadora del pueblo, María Clementina Funes, y que algunos decían que su padre era un médico del saladero, un inglés O'Connor, y otros un domador o rastreador del departamento del Salto.\""
      ]
     },
     "execution_count": 7,
     "metadata": {},
     "output_type": "execute_result"
    }
   ],
   "source": [
    "most_similar.strip()"
   ]
  }
 ],
 "metadata": {
  "kernelspec": {
   "display_name": "pipelines",
   "language": "python",
   "name": "python3"
  },
  "language_info": {
   "codemirror_mode": {
    "name": "ipython",
    "version": 3
   },
   "file_extension": ".py",
   "mimetype": "text/x-python",
   "name": "python",
   "nbconvert_exporter": "python",
   "pygments_lexer": "ipython3",
   "version": "3.10.14"
  }
 },
 "nbformat": 4,
 "nbformat_minor": 2
}
