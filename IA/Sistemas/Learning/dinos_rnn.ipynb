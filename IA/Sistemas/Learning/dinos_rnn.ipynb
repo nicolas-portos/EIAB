{
  "cells": [
    {
      "cell_type": "code",
      "execution_count": 9,
      "metadata": {
        "colab": {
          "base_uri": "https://localhost:8080/"
        },
        "id": "3G-o3HkUx-Fw",
        "outputId": "ac861487-7713-4478-f23b-90dc27ef2754"
      },
      "outputs": [],
      "source": [
        "# import sys\n",
        "# try:\n",
        "#   import google.colab\n",
        "#   IN_COLAB = True\n",
        "# except:\n",
        "#   IN_COLAB = False\n",
        "\n",
        "# if IN_COLAB:\n",
        "#     # montar el drive, que es donde tenemos el dataset\n",
        "#     from google.colab import drive\n",
        "#     drive.mount(\"/content/drive\")\n",
        "#     data_dir = \"/content/drive/MyDrive/Colab Notebooks/datasets/\"\n",
        "#     sys.path.append(data_dir)\n",
        "# else:\n",
        "#     import os\n",
        "#     data_dir = os.path.dirname(__file__) + \"/\""
      ]
    },
    {
      "cell_type": "code",
      "execution_count": 10,
      "metadata": {
        "id": "cDjO3_IL1YuT"
      },
      "outputs": [],
      "source": [
        "import numpy as np\n",
        "np.random.seed(5)\n",
        "\n",
        "from keras.layers import Input, Dense, SimpleRNN\n",
        "from keras.models import Model\n",
        "from keras.optimizers import SGD\n",
        "from keras.utils import to_categorical\n",
        "\n",
        "from keras import backend as K\n",
        "import tensorflow as tf\n",
        "from tensorflow import keras"
      ]
    },
    {
      "cell_type": "code",
      "execution_count": 11,
      "metadata": {
        "colab": {
          "base_uri": "https://localhost:8080/"
        },
        "id": "NuI5rKHC1bUo",
        "outputId": "d65c80f1-b723-46c2-feff-8c7503518da6"
      },
      "outputs": [
        {
          "name": "stdout",
          "output_type": "stream",
          "text": [
            "En total hay 19909 caracteres, y el diccionario tiene un tamaño de 27 caracteres.\n",
            "{'\\n': 0, 'a': 1, 'b': 2, 'c': 3, 'd': 4, 'e': 5, 'f': 6, 'g': 7, 'h': 8, 'i': 9, 'j': 10, 'k': 11, 'l': 12, 'm': 13, 'n': 14, 'o': 15, 'p': 16, 'q': 17, 'r': 18, 's': 19, 't': 20, 'u': 21, 'v': 22, 'w': 23, 'x': 24, 'y': 25, 'z': 26}\n",
            "{0: '\\n', 1: 'a', 2: 'b', 3: 'c', 4: 'd', 5: 'e', 6: 'f', 7: 'g', 8: 'h', 9: 'i', 10: 'j', 11: 'k', 12: 'l', 13: 'm', 14: 'n', 15: 'o', 16: 'p', 17: 'q', 18: 'r', 19: 's', 20: 't', 21: 'u', 22: 'v', 23: 'w', 24: 'x', 25: 'y', 26: 'z'}\n"
          ]
        }
      ],
      "source": [
        "# 1. LECTURA DEL SET DE DATOS\n",
        "# ===========================================================\n",
        "nombres = open('archives/nombres_dinosaurios.txt','r').read()\n",
        "nombres = nombres.lower()\n",
        "\n",
        "# Crear diccionario (listado de caracteres que no se repiten)\n",
        "alfabeto = list(set(nombres))\n",
        "tam_datos, tam_alfabeto = len(nombres), len(alfabeto)\n",
        "print(\"En total hay %d caracteres, y el diccionario tiene un tamaño de %d caracteres.\" % (tam_datos, tam_alfabeto))\n",
        "\n",
        "# Conversión de caracteres a índices y viceversa\n",
        "car_a_ind = { car:ind for ind,car in enumerate(sorted(alfabeto))}\n",
        "ind_a_car = { ind:car for ind,car in enumerate(sorted(alfabeto))}\n",
        "print(car_a_ind)\n",
        "print(ind_a_car)"
      ]
    },
    {
      "cell_type": "code",
      "execution_count": 12,
      "metadata": {
        "id": "Iw7YhJBM1pWr"
      },
      "outputs": [
        {
          "data": {
            "text/html": [
              "<pre style=\"white-space:pre;overflow-x:auto;line-height:normal;font-family:Menlo,'DejaVu Sans Mono',consolas,'Courier New',monospace\"><span style=\"font-weight: bold\">Model: \"sequential_1\"</span>\n",
              "</pre>\n"
            ],
            "text/plain": [
              "\u001b[1mModel: \"sequential_1\"\u001b[0m\n"
            ]
          },
          "metadata": {},
          "output_type": "display_data"
        },
        {
          "data": {
            "text/html": [
              "<pre style=\"white-space:pre;overflow-x:auto;line-height:normal;font-family:Menlo,'DejaVu Sans Mono',consolas,'Courier New',monospace\">┏━━━━━━━━━━━━━━━━━━━━━━━━━━━━━━━━━┳━━━━━━━━━━━━━━━━━━━━━━━━┳━━━━━━━━━━━━━━━┓\n",
              "┃<span style=\"font-weight: bold\"> Layer (type)                    </span>┃<span style=\"font-weight: bold\"> Output Shape           </span>┃<span style=\"font-weight: bold\">       Param # </span>┃\n",
              "┡━━━━━━━━━━━━━━━━━━━━━━━━━━━━━━━━━╇━━━━━━━━━━━━━━━━━━━━━━━━╇━━━━━━━━━━━━━━━┩\n",
              "│ simple_rnn_2 (<span style=\"color: #0087ff; text-decoration-color: #0087ff\">SimpleRNN</span>)        │ (<span style=\"color: #00d7ff; text-decoration-color: #00d7ff\">None</span>, <span style=\"color: #00d7ff; text-decoration-color: #00d7ff\">None</span>, <span style=\"color: #00af00; text-decoration-color: #00af00\">128</span>)      │        <span style=\"color: #00af00; text-decoration-color: #00af00\">19,968</span> │\n",
              "├─────────────────────────────────┼────────────────────────┼───────────────┤\n",
              "│ simple_rnn_3 (<span style=\"color: #0087ff; text-decoration-color: #0087ff\">SimpleRNN</span>)        │ (<span style=\"color: #00d7ff; text-decoration-color: #00d7ff\">None</span>, <span style=\"color: #00d7ff; text-decoration-color: #00d7ff\">None</span>, <span style=\"color: #00af00; text-decoration-color: #00af00\">128</span>)      │        <span style=\"color: #00af00; text-decoration-color: #00af00\">32,896</span> │\n",
              "├─────────────────────────────────┼────────────────────────┼───────────────┤\n",
              "│ dense_1 (<span style=\"color: #0087ff; text-decoration-color: #0087ff\">Dense</span>)                 │ (<span style=\"color: #00d7ff; text-decoration-color: #00d7ff\">None</span>, <span style=\"color: #00d7ff; text-decoration-color: #00d7ff\">None</span>, <span style=\"color: #00af00; text-decoration-color: #00af00\">27</span>)       │         <span style=\"color: #00af00; text-decoration-color: #00af00\">3,483</span> │\n",
              "└─────────────────────────────────┴────────────────────────┴───────────────┘\n",
              "</pre>\n"
            ],
            "text/plain": [
              "┏━━━━━━━━━━━━━━━━━━━━━━━━━━━━━━━━━┳━━━━━━━━━━━━━━━━━━━━━━━━┳━━━━━━━━━━━━━━━┓\n",
              "┃\u001b[1m \u001b[0m\u001b[1mLayer (type)                   \u001b[0m\u001b[1m \u001b[0m┃\u001b[1m \u001b[0m\u001b[1mOutput Shape          \u001b[0m\u001b[1m \u001b[0m┃\u001b[1m \u001b[0m\u001b[1m      Param #\u001b[0m\u001b[1m \u001b[0m┃\n",
              "┡━━━━━━━━━━━━━━━━━━━━━━━━━━━━━━━━━╇━━━━━━━━━━━━━━━━━━━━━━━━╇━━━━━━━━━━━━━━━┩\n",
              "│ simple_rnn_2 (\u001b[38;5;33mSimpleRNN\u001b[0m)        │ (\u001b[38;5;45mNone\u001b[0m, \u001b[38;5;45mNone\u001b[0m, \u001b[38;5;34m128\u001b[0m)      │        \u001b[38;5;34m19,968\u001b[0m │\n",
              "├─────────────────────────────────┼────────────────────────┼───────────────┤\n",
              "│ simple_rnn_3 (\u001b[38;5;33mSimpleRNN\u001b[0m)        │ (\u001b[38;5;45mNone\u001b[0m, \u001b[38;5;45mNone\u001b[0m, \u001b[38;5;34m128\u001b[0m)      │        \u001b[38;5;34m32,896\u001b[0m │\n",
              "├─────────────────────────────────┼────────────────────────┼───────────────┤\n",
              "│ dense_1 (\u001b[38;5;33mDense\u001b[0m)                 │ (\u001b[38;5;45mNone\u001b[0m, \u001b[38;5;45mNone\u001b[0m, \u001b[38;5;34m27\u001b[0m)       │         \u001b[38;5;34m3,483\u001b[0m │\n",
              "└─────────────────────────────────┴────────────────────────┴───────────────┘\n"
            ]
          },
          "metadata": {},
          "output_type": "display_data"
        },
        {
          "data": {
            "text/html": [
              "<pre style=\"white-space:pre;overflow-x:auto;line-height:normal;font-family:Menlo,'DejaVu Sans Mono',consolas,'Courier New',monospace\"><span style=\"font-weight: bold\"> Total params: </span><span style=\"color: #00af00; text-decoration-color: #00af00\">56,347</span> (220.11 KB)\n",
              "</pre>\n"
            ],
            "text/plain": [
              "\u001b[1m Total params: \u001b[0m\u001b[38;5;34m56,347\u001b[0m (220.11 KB)\n"
            ]
          },
          "metadata": {},
          "output_type": "display_data"
        },
        {
          "data": {
            "text/html": [
              "<pre style=\"white-space:pre;overflow-x:auto;line-height:normal;font-family:Menlo,'DejaVu Sans Mono',consolas,'Courier New',monospace\"><span style=\"font-weight: bold\"> Trainable params: </span><span style=\"color: #00af00; text-decoration-color: #00af00\">56,347</span> (220.11 KB)\n",
              "</pre>\n"
            ],
            "text/plain": [
              "\u001b[1m Trainable params: \u001b[0m\u001b[38;5;34m56,347\u001b[0m (220.11 KB)\n"
            ]
          },
          "metadata": {},
          "output_type": "display_data"
        },
        {
          "data": {
            "text/html": [
              "<pre style=\"white-space:pre;overflow-x:auto;line-height:normal;font-family:Menlo,'DejaVu Sans Mono',consolas,'Courier New',monospace\"><span style=\"font-weight: bold\"> Non-trainable params: </span><span style=\"color: #00af00; text-decoration-color: #00af00\">0</span> (0.00 B)\n",
              "</pre>\n"
            ],
            "text/plain": [
              "\u001b[1m Non-trainable params: \u001b[0m\u001b[38;5;34m0\u001b[0m (0.00 B)\n"
            ]
          },
          "metadata": {},
          "output_type": "display_data"
        }
      ],
      "source": [
        "nneuronas = 128\n",
        "model = keras.models.Sequential([\n",
        "    keras.layers.SimpleRNN(nneuronas, return_sequences=True,\n",
        "                           input_shape=(None, tam_alfabeto)),\n",
        "    keras.layers.SimpleRNN(nneuronas, return_sequences=True),\n",
        "    keras.layers.Dense(tam_alfabeto, activation=\"softmax\")\n",
        "])\n",
        "model.compile(loss=\"categorical_crossentropy\", optimizer=\"adam\")\n",
        "model.summary()"
      ]
    },
    {
      "cell_type": "code",
      "execution_count": 13,
      "metadata": {},
      "outputs": [
        {
          "name": "stdout",
          "output_type": "stream",
          "text": [
            "You must install pydot (`pip install pydot`) for `plot_model` to work.\n"
          ]
        }
      ],
      "source": [
        "keras.utils.plot_model(model, \"dinos.png\", show_shapes=True)"
      ]
    },
    {
      "cell_type": "code",
      "execution_count": 14,
      "metadata": {},
      "outputs": [],
      "source": [
        "with open(\"archives/nombres_dinosaurios.txt\") as f:\n",
        "    ejemplos = f.readlines()\n",
        "ejemplos = [x.lower().strip() for x in ejemplos]"
      ]
    },
    {
      "cell_type": "code",
      "execution_count": 15,
      "metadata": {},
      "outputs": [],
      "source": [
        "def genera_train():\n",
        "    rx = []\n",
        "    ry = []\n",
        "    ejemplo = ejemplos[np.random.randint(0, len(ejemplos))]\n",
        "    X = [None] + [car_a_ind[c] for c in ejemplo]\n",
        "    Y = X[1:] + [car_a_ind[\"\\n\"]]\n",
        "    onehot = to_categorical(X[1:], tam_alfabeto)\n",
        "    x = np.zeros((len(X), tam_alfabeto))\n",
        "    x[1:] = onehot.astype(\"float32\")\n",
        "    y = to_categorical(Y, tam_alfabeto).reshape(len(X), tam_alfabeto)\n",
        "    rx.append(x)\n",
        "    ry.append(y)\n",
        "    return np.array(rx), np.array(ry)"
      ]
    },
    {
      "cell_type": "code",
      "execution_count": 16,
      "metadata": {},
      "outputs": [
        {
          "name": "stdout",
          "output_type": "stream",
          "text": [
            "Iter: 0 loss: 3.3510124683380127\n",
            "Iter: 100 loss: 2.513373851776123\n",
            "Iter: 200 loss: 2.3573315143585205\n",
            "Iter: 300 loss: 2.2978711128234863\n",
            "Iter: 400 loss: 2.2578601837158203\n",
            "Iter: 500 loss: 2.23634934425354\n",
            "Iter: 600 loss: 2.2041220664978027\n",
            "Iter: 700 loss: 2.181370735168457\n",
            "Iter: 800 loss: 2.1443049907684326\n",
            "Iter: 900 loss: 2.118657112121582\n"
          ]
        }
      ],
      "source": [
        "niters = 1000\n",
        "for j in range(niters):\n",
        "    rx, ry = genera_train()\n",
        "    historia = model.train_on_batch(rx, ry)\n",
        "    if j%100 == 0: print(f\"Iter: {j} loss: {historia}\")"
      ]
    },
    {
      "cell_type": "code",
      "execution_count": 17,
      "metadata": {},
      "outputs": [],
      "source": [
        "def genera_nombre():\n",
        "    x = np.zeros((1,1,tam_alfabeto))\n",
        "    nombre = \"\"\n",
        "    car = -1\n",
        "    count = 0\n",
        "    while car != \"\\n\":\n",
        "        pred = model.predict(x, verbose=0)\n",
        "        ultimo = pred[0:, -1:, :]\n",
        "        ix = np.random.choice(list(range(tam_alfabeto)),\n",
        "                              p=ultimo.ravel())\n",
        "        car = ind_a_car[ix]\n",
        "        nombre += car\n",
        "        x1 = to_categorical(ix, tam_alfabeto)\n",
        "        x = x.reshape(-1, 27)\n",
        "        x1 = x1.reshape(-1, 27)\n",
        "        x = np.append(x, x1)\n",
        "        x = x.reshape(1, -1, 27)\n",
        "        count += 1\n",
        "\n",
        "    print(nombre)"
      ]
    },
    {
      "cell_type": "code",
      "execution_count": 18,
      "metadata": {},
      "outputs": [
        {
          "name": "stdout",
          "output_type": "stream",
          "text": [
            "galtodia\n",
            "\n",
            "fcerldopusus\n",
            "\n",
            "hygcerotonusus\n",
            "\n",
            "aurivos\n",
            "\n",
            "nucoociten\n",
            "\n",
            "emvitateus\n",
            "\n",
            "byleggaur\n",
            "\n",
            "dexisaunus\n",
            "\n",
            "jronongsas\n",
            "\n",
            "saurusauruh\n",
            "\n",
            "tuauruo\n",
            "\n",
            "kungtyttos\n",
            "\n",
            "rhbfodis\n",
            "\n",
            "bheodon\n",
            "\n",
            "hondadanalus\n",
            "\n",
            "tyina\n",
            "\n",
            "xebattong\n",
            "\n",
            "euteradestosuu\n",
            "\n",
            "eutorus\n",
            "\n",
            "lantolus\n",
            "\n"
          ]
        }
      ],
      "source": [
        "for i in range(20):\n",
        "    genera_nombre()"
      ]
    }
  ],
  "metadata": {
    "accelerator": "GPU",
    "colab": {
      "gpuType": "T4",
      "provenance": []
    },
    "kernelspec": {
      "display_name": "Python 3",
      "name": "python3"
    },
    "language_info": {
      "codemirror_mode": {
        "name": "ipython",
        "version": 3
      },
      "file_extension": ".py",
      "mimetype": "text/x-python",
      "name": "python",
      "nbconvert_exporter": "python",
      "pygments_lexer": "ipython3",
      "version": "3.10.14"
    }
  },
  "nbformat": 4,
  "nbformat_minor": 0
}
