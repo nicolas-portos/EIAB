{
 "cells": [
  {
   "cell_type": "code",
   "execution_count": 1,
   "metadata": {},
   "outputs": [],
   "source": [
    "import matplotlib.pyplot as plt\n",
    "import numpy as np\n",
    "import random"
   ]
  },
  {
   "cell_type": "markdown",
   "metadata": {},
   "source": [
    "![imagen.png](images/sumatorio.png)\n",
    "![imagen.png](images/funcion.png)\n",
    "![imagen.png](images/sigmoide.png)\n",
    "![imagen.png](images/sumatorio_errores.png)\n",
    "![imagen.png](images/neurona.png)"
   ]
  },
  {
   "cell_type": "code",
   "execution_count": 2,
   "metadata": {},
   "outputs": [],
   "source": [
    "# Variables globales\n",
    "# z = Salida sumatorio\n",
    "# y_hat = sigmoide de z\n",
    "b = 4\n",
    "w1 = 2\n",
    "w2 = 3\n",
    "# w_mn =[[w1], [w2]. [b]]\n",
    "\n"
   ]
  },
  {
   "cell_type": "code",
   "execution_count": 3,
   "metadata": {},
   "outputs": [],
   "source": [
    "def sigmoide(x):\n",
    "    return 1 / (1 + np.exp(-x))\n",
    "\n",
    "# porque patata\n",
    "def sigmoide_derivada_respecto_z(z):\n",
    "    return sigmoide(z)*(1-sigmoide(z))\n",
    "\n",
    "# Salida z (funcion.png para este caso en especifio no es general)\n",
    "def salida_sumatorio(x):\n",
    "    # x1 = x[:, [0]]; x2 = x[:, [1]]; return w1 * x1 + w2 * x2 + b\n",
    "    return b + w1 * x[:, [0]] + w2 * x[:, [1]]\n",
    "\n",
    "def salida_sumatorio(x):\n",
    "    array_unos = np.ones((len(x), 1))\n",
    "    x_nueva = np.append(x, array_unos, 1)\n",
    "    # x_nueva = np.hstack((x, array_unos))\n",
    "    ret = np.dot(x_nueva, w) # x @ w\n",
    "    return ret\n",
    "\n",
    "def sigmoide_activacion(x):\n",
    "    z = salida_sumatorio(x)\n",
    "    y_hat = sigmoide(z)\n",
    "    return y_hat\n",
    "\n",
    "# error = y_hat -y\n",
    "def error(x, y):\n",
    "    y_hat = sigmoide_activacion(x)\n",
    "    err = y_hat - y\n",
    "    return err\n",
    "\n",
    "# coste = 1/2 * (Σ(y_hat - y)^2)/ num of Σ(y_hat - y)^2 (mean)\n",
    "# sumatorio errores, le hacemos la media para que me devuelva un valor simple\n",
    "def coste (x, y):\n",
    "    # err = error(x,y); err = err**2; err = err/2; c = err.mean()\n",
    "    c = 1/2 * (error(x, y)**2).mean()\n",
    "    return c\n",
    "\n",
    "# d(coste)/d(y_hat) = Σ(y_hat - y)\n",
    "def derivada_coste_respecto_y_hat(x, y):\n",
    "    # err = error(x,y); return err\n",
    "    return error(x, y)\n",
    "\n",
    "# derivda de y_hat respecto a z\n",
    "def derivada_y_hat_respecto_salida_sumatorio(x):\n",
    "    z = salida_sumatorio(x)\n",
    "    d = sigmoide_derivada_respecto_z(z)\n",
    "    return d\n",
    "\n",
    "def derivada_z_respecto_w1(x):\n",
    "    x1 = x[:, [0]]\n",
    "    return x1    \n",
    "    \n",
    "# z = w2 * x2 + ....0\n",
    "# dw2 = 1\n",
    "# dz = dw2*x2\n",
    "# dz = x2 \n",
    "def derivada_z_respecto_w2(x):\n",
    "    x2 = x[:, [1]]\n",
    "    return x2\n",
    "\n",
    "def derivada_z_respecto_bias():\n",
    "    return 1\n",
    "\n",
    "def derivada_sumatorio_respecto_w(x):\n",
    "    array_unos = np.ones((len(x), 1))\n",
    "    x_nueva = np.append(x, array_unos, 1)\n",
    "    return x_nueva\n",
    "\n",
    "def predice(x):\n",
    "    y_hat = sigmoide_activacion(x)\n",
    "    return y_hat"
   ]
  },
  {
   "cell_type": "code",
   "execution_count": 4,
   "metadata": {},
   "outputs": [
    {
     "data": {
      "text/plain": [
       "[<matplotlib.lines.Line2D at 0x20c3e4216f0>]"
      ]
     },
     "execution_count": 4,
     "metadata": {},
     "output_type": "execute_result"
    },
    {
     "data": {
      "image/png": "[encoded data removed]",
      "text/plain": [
       "<Figure size 640x480 with 1 Axes>"
      ]
     },
     "metadata": {},
     "output_type": "display_data"
    }
   ],
   "source": [
    "xs = np.linspace(-10, 10, 200)\n",
    "ys = sigmoide(xs)\n",
    "plt.plot(xs, ys)"
   ]
  },
  {
   "cell_type": "code",
   "execution_count": 5,
   "metadata": {},
   "outputs": [],
   "source": [
    "def calcular_media(x, lr, dc, dy, dx):\n",
    "        return x - (lr*dc*dy*dx).mean()\n",
    "\n",
    "def fit(x, y, epochs = 100, lr = 0.01):\n",
    "    # global w1, w2, b\n",
    "    global w\n",
    "    lloss = []\n",
    "    for _ in range(epochs):\n",
    "        dc = derivada_coste_respecto_y_hat(x, y)\n",
    "        dy = derivada_y_hat_respecto_salida_sumatorio(x)\n",
    "        # dw1 = derivada_z_respecto_w1(x)\n",
    "        # dw2 = derivada_z_respecto_w2(x)\n",
    "        # db = derivada_z_respecto_bias()\n",
    "        dw = derivada_sumatorio_respecto_w(x)\n",
    "\n",
    "        # w1 = calcular_media(w1, lr, dc, dy, dw1)\n",
    "        # w2 = calcular_media(w1, lr, dc, dy, dw2)\n",
    "        # b = calcular_media(b, lr, dc, dy, db)\n",
    "\n",
    "        d1 = dy * dc\n",
    "        d2 = d1 * dw\n",
    "        dt = d2.T\n",
    "        dmedia = dt.mean(axis=1, keepdims=True)\n",
    "        w = w - lr*dmedia\n",
    "\n",
    "        # w1 = w1 - (lr*dc*dy*dw1).mean()\n",
    "        # w2 = w2 - (lr*dc*dy*dw2).mean()\n",
    "        # b = b - (lr*dc*dy*db).mean()\n",
    "\n",
    "        loss = coste(x, y)\n",
    "        # print(f\"loss: {loss} w1: {w1} w2: {w2} b: {b}\")\n",
    "        lloss.append(loss)\n",
    "    return lloss"
   ]
  },
  {
   "cell_type": "code",
   "execution_count": 6,
   "metadata": {},
   "outputs": [
    {
     "name": "stdout",
     "output_type": "stream",
     "text": [
      "[[0 0 0]\n",
      " [0 1 1]\n",
      " [1 0 1]\n",
      " [1 1 1]]\n",
      "[[0 0]\n",
      " [0 1]\n",
      " [1 0]\n",
      " [1 1]]\n",
      "[[0]\n",
      " [1]\n",
      " [1]\n",
      " [1]]\n"
     ]
    }
   ],
   "source": [
    "# dataset or\n",
    "dt = [[0,0,0], [0,1,1], [1,0,1], [1,1,1]]\n",
    "# dataset and\n",
    "#dt = [[0, 0, 0],[0, 1, 0],[1, 0, 0],[1, 1, 1]]\n",
    "# dataset xor\n",
    "#dt = [[0,0,0], [0,1,1], [1,0,1], [1,1,0]]\n",
    "\n",
    "dt = np.array(dt)\n",
    "print(dt)\n",
    "x = dt[:, [0, 1]]\n",
    "y = dt[:, [2]]\n",
    "print(x)\n",
    "print(y)"
   ]
  },
  {
   "cell_type": "code",
   "execution_count": 7,
   "metadata": {},
   "outputs": [
    {
     "name": "stdout",
     "output_type": "stream",
     "text": [
      "loss: 0.03355243088106464 w: [[ 1.63531525]\n",
      " [ 1.63531525]\n",
      " [-0.32988622]]\n",
      "[[0.41826831]\n",
      " [0.78674726]\n",
      " [0.78674726]\n",
      " [0.94982421]]\n"
     ]
    },
    {
     "data": {
      "text/plain": [
       "[<matplotlib.lines.Line2D at 0x20c3e65b5e0>]"
      ]
     },
     "execution_count": 7,
     "metadata": {},
     "output_type": "execute_result"
    },
    {
     "data": {
      "image/png": "[encoded data removed]",
      "text/plain": [
       "<Figure size 640x480 with 1 Axes>"
      ]
     },
     "metadata": {},
     "output_type": "display_data"
    }
   ],
   "source": [
    "# w1 = 0; w2 = 0; b = 0\n",
    "w = np.array([[0],[0],[0]])\n",
    "lloss = fit(x, y, epochs = 200, lr=0.5)\n",
    "# print(f\"loss: {lloss[-1]} w1: {w1} w2: {w2} b: {b}\")\n",
    "print(f\"loss: {lloss[-1]} w: {w}\")\n",
    "ret = predice(x)\n",
    "print(ret)\n",
    "plt.plot([i for i in range(len(lloss))], lloss)"
   ]
  }
 ],
 "metadata": {
  "kernelspec": {
   "display_name": "ia",
   "language": "python",
   "name": "python3"
  },
  "language_info": {
   "codemirror_mode": {
    "name": "ipython",
    "version": 3
   },
   "file_extension": ".py",
   "mimetype": "text/x-python",
   "name": "python",
   "nbconvert_exporter": "python",
   "pygments_lexer": "ipython3",
   "version": "3.10.14"
  }
 },
 "nbformat": 4,
 "nbformat_minor": 2
}
