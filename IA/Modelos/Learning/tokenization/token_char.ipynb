{
 "cells": [
  {
   "cell_type": "code",
   "execution_count": 1,
   "metadata": {},
   "outputs": [],
   "source": [
    "txt = \"\"\"Podemos pensar al texto como una secuencia de caracteres, de palabras, de frases y\n",
    "entidades nombradas, de oraciones, pá rrafos, etc. Vamos a empezar por las má s bá sicas.\n",
    "Podemos pensar en un texto como una secuencia de palabras y a la palabra como una\n",
    "secuencia de letras que juntas le dan forma y nos remiten a algun concepto. Varias palabras,\n",
    "junto con algunos símbolos como signos de puntuaci n, interrogaci n o exclamaci n\n",
    "terminan por otorgarle el significado. Supongamos que tenemos las siguientes secuencias:\"\"\""
   ]
  },
  {
   "cell_type": "code",
   "execution_count": 2,
   "metadata": {},
   "outputs": [
    {
     "name": "stdout",
     "output_type": "stream",
     "text": [
      "518\n"
     ]
    }
   ],
   "source": [
    "print(len(txt))"
   ]
  },
  {
   "cell_type": "code",
   "execution_count": 3,
   "metadata": {},
   "outputs": [
    {
     "name": "stdout",
     "output_type": "stream",
     "text": [
      " Vocabulario: \n",
      " ,.:PSVabcdefgijlmnopqrstuxyzáí tamaño: 32\n"
     ]
    }
   ],
   "source": [
    "vocabulario = sorted(list(set(txt)))\n",
    "print(f' Vocabulario: {\"\".join(vocabulario)} tamaño: {len(vocabulario)}')"
   ]
  },
  {
   "cell_type": "code",
   "execution_count": 4,
   "metadata": {},
   "outputs": [
    {
     "name": "stdout",
     "output_type": "stream",
     "text": [
      "{'\\n': 0, ' ': 1, ',': 2, '.': 3, ':': 4, 'P': 5, 'S': 6, 'V': 7, 'a': 8, 'b': 9, 'c': 10, 'd': 11, 'e': 12, 'f': 13, 'g': 14, 'i': 15, 'j': 16, 'l': 17, 'm': 18, 'n': 19, 'o': 20, 'p': 21, 'q': 22, 'r': 23, 's': 24, 't': 25, 'u': 26, 'x': 27, 'y': 28, 'z': 29, 'á': 30, 'í': 31}\n",
      "{0: '\\n', 1: ' ', 2: ',', 3: '.', 4: ':', 5: 'P', 6: 'S', 7: 'V', 8: 'a', 9: 'b', 10: 'c', 11: 'd', 12: 'e', 13: 'f', 14: 'g', 15: 'i', 16: 'j', 17: 'l', 18: 'm', 19: 'n', 20: 'o', 21: 'p', 22: 'q', 23: 'r', 24: 's', 25: 't', 26: 'u', 27: 'x', 28: 'y', 29: 'z', 30: 'á', 31: 'í'}\n"
     ]
    }
   ],
   "source": [
    "stoi = {ch:i for i,ch in enumerate(vocabulario)}\n",
    "print(stoi)\n",
    "itos = {i:ch for i,ch in enumerate(vocabulario)}\n",
    "print(itos)"
   ]
  },
  {
   "cell_type": "code",
   "execution_count": 5,
   "metadata": {},
   "outputs": [],
   "source": [
    "def tokeniza(s):\n",
    "  ret = [stoi[c] for c in s]\n",
    "  return ret\n",
    "def destokeniza(ltokens):\n",
    "  ret = \"\".join([itos[i] for i in ltokens])\n",
    "  return ret"
   ]
  },
  {
   "cell_type": "code",
   "execution_count": 6,
   "metadata": {},
   "outputs": [
    {
     "name": "stdout",
     "output_type": "stream",
     "text": [
      "[21, 12, 21, 15, 25, 20]\n",
      "pepito\n"
     ]
    }
   ],
   "source": [
    "print(tokeniza(\"pepito\"))\n",
    "print(destokeniza([21, 12, 21, 15, 25, 20]))"
   ]
  }
 ],
 "metadata": {
  "kernelspec": {
   "display_name": "ia",
   "language": "python",
   "name": "python3"
  },
  "language_info": {
   "codemirror_mode": {
    "name": "ipython",
    "version": 3
   },
   "file_extension": ".py",
   "mimetype": "text/x-python",
   "name": "python",
   "nbconvert_exporter": "python",
   "pygments_lexer": "ipython3",
   "version": "3.8.18"
  }
 },
 "nbformat": 4,
 "nbformat_minor": 2
}
