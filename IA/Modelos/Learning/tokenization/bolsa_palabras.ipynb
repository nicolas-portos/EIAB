{
 "cells": [
  {
   "cell_type": "code",
   "execution_count": 26,
   "metadata": {},
   "outputs": [
    {
     "name": "stdout",
     "output_type": "stream",
     "text": [
      "Note: you may need to restart the kernel to use updated packages.\n"
     ]
    }
   ],
   "source": [
    "%pip install -q transformers"
   ]
  },
  {
   "cell_type": "code",
   "execution_count": 27,
   "metadata": {},
   "outputs": [],
   "source": [
    "import re\n",
    "from collections import Counter"
   ]
  },
  {
   "cell_type": "markdown",
   "metadata": {},
   "source": [
    "$$\\text{Distancia Jacard} = 1-\\frac{\\text{Intersección}}{\\text{Unión}}"
   ]
  },
  {
   "cell_type": "code",
   "execution_count": 28,
   "metadata": {},
   "outputs": [],
   "source": [
    "def txt_to_bag_of_words(text:str) -> Counter:\n",
    "    text = text.lower()\n",
    "    text = re.sub(r\"[^\\w\\s]\", \" \", text)\n",
    "    words = text.split()\n",
    "    bag = Counter(words)\n",
    "\n",
    "    return bag\n",
    "\n",
    "def distancia_jacard(bag1:Counter, bag2:Counter) -> float:\n",
    "    keys1 = set(bag1.keys())\n",
    "    keys2 = set(bag2.keys())\n",
    "    interseccion = keys1.intersection(keys2)\n",
    "    union = keys1.union(keys2)\n",
    "    distancia = 1 - (len(interseccion) / len(union))\n",
    "\n",
    "    return distancia"
   ]
  },
  {
   "cell_type": "code",
   "execution_count": 29,
   "metadata": {},
   "outputs": [
    {
     "data": {
      "text/plain": [
       "Counter({'esto': 1, 'es': 2, 'una': 1, 'prueba': 2, 'y': 1, 'otra': 1})"
      ]
     },
     "execution_count": 29,
     "metadata": {},
     "output_type": "execute_result"
    }
   ],
   "source": [
    "txt = \"esto es una prueba y otra prueba es\"\n",
    "bag = txt_to_bag_of_words(txt)\n",
    "bag"
   ]
  },
  {
   "cell_type": "code",
   "execution_count": 30,
   "metadata": {},
   "outputs": [],
   "source": [
    "txt1 = \"\"\"\n",
    " Una unidad de procesamiento gráfico (del inglés graphics processing unit, GPU)\n",
    " o procesador gráfico es un coprocesador dedicado al procesamiento de gráficos\n",
    " u operaciones de coma flotante, para aligerar la carga de trabajo del\n",
    " procesador/CPU central en aplicaciones como los videojuegos o aplicaciones\n",
    " 3D interactivas.\n",
    " \"\"\""
   ]
  },
  {
   "cell_type": "code",
   "execution_count": 31,
   "metadata": {},
   "outputs": [],
   "source": [
    "txt2 = \"\"\"\n",
    "La GPU es un procesador formado por muchos núcleos más pequeños y especializados.\n",
    "Al trabajar juntos, los núcleos aumentan el desempeño de forma considerable\n",
    "cuando una tarea de procesamiento puede dividirse entre varios núcleos al\n",
    "mismo tiempo (o en paralelo). La GPU es un componente esencial del gaming\n",
    "moderno, ya que permite obtener imágenes de mejor calidad y una mayor fluidez\n",
    "en el juego. Las GPUs también son útiles en la IA.\n",
    "\"\"\""
   ]
  },
  {
   "cell_type": "code",
   "execution_count": 32,
   "metadata": {},
   "outputs": [],
   "source": [
    "txt3 = \"\"\"\n",
    "El Juez Disciplinario Único castigó al equipo vizcaíno con dos partidos sin\n",
    "público en su campo en las sanciones con motivo del partido contra el\n",
    "Majadahonda\n",
    "\"\"\""
   ]
  },
  {
   "cell_type": "code",
   "execution_count": 33,
   "metadata": {},
   "outputs": [
    {
     "name": "stdout",
     "output_type": "stream",
     "text": [
      "0.8395061728395061 0.9473684210526316 0.9333333333333333\n"
     ]
    }
   ],
   "source": [
    "bow1 = txt_to_bag_of_words(txt1)\n",
    "bow2 = txt_to_bag_of_words(txt2)\n",
    "bow3 = txt_to_bag_of_words(txt3)\n",
    "d12 = distancia_jacard(bow1, bow2)\n",
    "d13 = distancia_jacard(bow1, bow3)\n",
    "d23 = distancia_jacard(bow2, bow3)\n",
    "print(d12, d13, d23)"
   ]
  }
 ],
 "metadata": {
  "kernelspec": {
   "display_name": "ia",
   "language": "python",
   "name": "python3"
  },
  "language_info": {
   "codemirror_mode": {
    "name": "ipython",
    "version": 3
   },
   "file_extension": ".py",
   "mimetype": "text/x-python",
   "name": "python",
   "nbconvert_exporter": "python",
   "pygments_lexer": "ipython3",
   "version": "3.8.12"
  }
 },
 "nbformat": 4,
 "nbformat_minor": 2
}
