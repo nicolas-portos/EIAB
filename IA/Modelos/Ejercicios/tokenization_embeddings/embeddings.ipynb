{
 "cells": [
  {
   "cell_type": "markdown",
   "metadata": {},
   "source": [
    "# Tokenización"
   ]
  },
  {
   "cell_type": "code",
   "execution_count": 1,
   "metadata": {},
   "outputs": [],
   "source": [
    "from gensim.models import Word2Vec\n",
    "from nltk.tokenize import word_tokenize\n",
    "import nltk\n",
    "import numpy as np"
   ]
  },
  {
   "cell_type": "code",
   "execution_count": 2,
   "metadata": {},
   "outputs": [
    {
     "name": "stderr",
     "output_type": "stream",
     "text": [
      "[nltk_data] Downloading package punkt to\n",
      "[nltk_data]     C:\\Users\\nicolas.portossaaved\\AppData\\Roaming\\nltk_dat\n",
      "[nltk_data]     a...\n",
      "[nltk_data]   Package punkt is already up-to-date!\n"
     ]
    },
    {
     "data": {
      "text/plain": [
       "True"
      ]
     },
     "execution_count": 2,
     "metadata": {},
     "output_type": "execute_result"
    }
   ],
   "source": [
    "nltk.download(\"punkt\")"
   ]
  },
  {
   "cell_type": "code",
   "execution_count": 3,
   "metadata": {},
   "outputs": [],
   "source": [
    "text1 = 'Lo recuerdo (yo no tengo derecho a pronunciar ese verbo sagrado, sólo un hombre en la tierra tuvo derecho y ese hombre ha muerto) con una oscura pasionaria en la mano, viéndola como nadie la ha visto, aunque la mirara desde el crepúsculo del día hasta el de la noche, toda una vida entera. Lo recuerdo, la cara taciturna y aindiada y singularmente remota, detrás del cigarrillo. Recuerdo (creo) sus manos afiladas de trenzado. Recuerdo cerca de esas manos un mate, con las armas de la Banda Oriental; recuerdo en la ventana de la casa una estera amarilla, con un vago paisaje lacustre. Recuerdo claramente su voz; la voz pausada, resentida y nasal del orillero antiguo, sin los silbidos italianos de ahora. Más de tres veces no lo vi; la última, en 1887... Me parece muy feliz el proyecto de que todos aquellos que lo trataron escriban sobre él; mi testimonio será acaso el más breve y sin duda el más pobre, pero no el menos imparcial del volumen que editarán ustedes.'\n",
    "text2 = 'Mi deplorable condición de argentino me impedirá incurrir en el ditirambo -género obligatorio en el Uruguay, cuando el tema es un uruguayo. Literato, cajetilla, porteño; Funes no dijo esas injuriosas palabras, pero de un modo suficiente me consta que yo representaba para él esas desventuras. Pedro Leandro Ipuche ha escrito que Funes era un precursor de los superhombres, \"un Zarathustra cimarrón y vernáculo \"; no lo discuto, pero no hay que olvidar que era también un compadrito de Fray Bentos, con ciertas incurables limitaciones.'\n",
    "text3 = 'Mi primer recuerdo de Funes es muy perspicuo. Lo veo en un atardecer de marzo o febrero del año 84. Mi padre, ese año, me había llevado a veranear a Fray Bentos. Yo volvía con mi primo Bernardo Haedo de la estancia de San Francisco. Volvíamos cantando, a caballo, y ésa no era la única circunstancia de mi felicidad. Después de un día bochornoso, una enorme tormenta color pizarra había escondido el cielo. La alentaba el viento del Sur, ya se enloquecían los árboles; yo tenía el temor la esperanza) de que nos sorprendiera en un descampado el agua elemental. Corrimos una especie de carrera con la tormenta.'\n",
    "\n",
    "token1 = word_tokenize(text1.lower())\n",
    "token2 = word_tokenize(text2.lower())\n",
    "token3 = word_tokenize(text3.lower())"
   ]
  },
  {
   "cell_type": "code",
   "execution_count": 4,
   "metadata": {},
   "outputs": [],
   "source": [
    "model = Word2Vec([token1, token2, token3], vector_size=10, \n",
    "                 window=5, min_count=1,\n",
    "                 sg=0)"
   ]
  },
  {
   "cell_type": "code",
   "execution_count": 5,
   "metadata": {},
   "outputs": [
    {
     "data": {
      "text/plain": [
       "[',',\n",
       " 'de',\n",
       " '.',\n",
       " 'la',\n",
       " 'el',\n",
       " 'un',\n",
       " 'que',\n",
       " 'en',\n",
       " 'recuerdo',\n",
       " ';',\n",
       " 'no',\n",
       " 'y',\n",
       " 'con',\n",
       " 'del',\n",
       " 'lo',\n",
       " 'mi',\n",
       " 'una',\n",
       " 'me',\n",
       " 'yo',\n",
       " 'a',\n",
       " 'más',\n",
       " ')',\n",
       " 'esas',\n",
       " 'era',\n",
       " 'ha',\n",
       " 'funes',\n",
       " 'ese',\n",
       " 'pero',\n",
       " 'los',\n",
       " 'bentos',\n",
       " 'año',\n",
       " 'había',\n",
       " 'es',\n",
       " 'manos',\n",
       " '``',\n",
       " 'voz',\n",
       " 'sin',\n",
       " 'muy',\n",
       " 'él',\n",
       " 'día',\n",
       " 'fray',\n",
       " 'tormenta',\n",
       " '(',\n",
       " 'hombre',\n",
       " 'derecho',\n",
       " 'resentida',\n",
       " 'tierra',\n",
       " 'antiguo',\n",
       " 'orillero',\n",
       " 'nasal',\n",
       " 'tuvo',\n",
       " 'crepúsculo',\n",
       " 'pausada',\n",
       " 'italianos',\n",
       " 'su',\n",
       " 'muerto',\n",
       " 'claramente',\n",
       " 'lacustre',\n",
       " 'paisaje',\n",
       " 'silbidos',\n",
       " 'sólo',\n",
       " 'ahora',\n",
       " 'verbo',\n",
       " 'tengo',\n",
       " 'todos',\n",
       " 'proyecto',\n",
       " 'feliz',\n",
       " 'pronunciar',\n",
       " 'parece',\n",
       " 'sagrado',\n",
       " 'desde',\n",
       " '...',\n",
       " '1887',\n",
       " 'última',\n",
       " 'vi',\n",
       " 'veces',\n",
       " 'tres',\n",
       " 'vago',\n",
       " 'amarilla',\n",
       " 'estera',\n",
       " 'casa',\n",
       " 'trataron',\n",
       " 'nadie',\n",
       " 'remota',\n",
       " 'singularmente',\n",
       " 'aindiada',\n",
       " 'taciturna',\n",
       " 'cara',\n",
       " 'visto',\n",
       " 'entera',\n",
       " 'vida',\n",
       " 'toda',\n",
       " 'noche',\n",
       " 'aunque',\n",
       " 'mirara',\n",
       " 'hasta',\n",
       " 'detrás',\n",
       " 'cigarrillo',\n",
       " 'creo',\n",
       " 'pasionaria',\n",
       " 'ventana',\n",
       " 'oscura',\n",
       " 'oriental',\n",
       " 'banda',\n",
       " 'armas',\n",
       " 'las',\n",
       " 'mate',\n",
       " 'sus',\n",
       " 'mano',\n",
       " 'viéndola',\n",
       " 'cerca',\n",
       " 'trenzado',\n",
       " 'afiladas',\n",
       " 'como',\n",
       " 'aquellos',\n",
       " 'carrera',\n",
       " 'escriban',\n",
       " 'volvía',\n",
       " 'ésa',\n",
       " 'caballo',\n",
       " 'cantando',\n",
       " 'volvíamos',\n",
       " 'francisco',\n",
       " 'san',\n",
       " 'estancia',\n",
       " 'haedo',\n",
       " 'bernardo',\n",
       " 'primo',\n",
       " 'veranear',\n",
       " 'circunstancia',\n",
       " 'llevado',\n",
       " 'padre',\n",
       " '84.',\n",
       " 'febrero',\n",
       " 'o',\n",
       " 'marzo',\n",
       " 'atardecer',\n",
       " 'veo',\n",
       " 'perspicuo',\n",
       " 'primer',\n",
       " 'única',\n",
       " 'felicidad',\n",
       " 'incurables',\n",
       " 'enloquecían',\n",
       " 'corrimos',\n",
       " 'elemental',\n",
       " 'agua',\n",
       " 'descampado',\n",
       " 'sorprendiera',\n",
       " 'nos',\n",
       " 'esperanza',\n",
       " 'temor',\n",
       " 'tenía',\n",
       " 'árboles',\n",
       " 'se',\n",
       " 'después',\n",
       " 'ya',\n",
       " 'sur',\n",
       " 'viento',\n",
       " 'alentaba',\n",
       " 'cielo',\n",
       " 'escondido',\n",
       " 'pizarra',\n",
       " 'color',\n",
       " 'enorme',\n",
       " 'bochornoso',\n",
       " 'limitaciones',\n",
       " 'ciertas',\n",
       " 'sobre',\n",
       " 'deplorable',\n",
       " 'tema',\n",
       " 'cuando',\n",
       " 'uruguay',\n",
       " 'obligatorio',\n",
       " '-género',\n",
       " 'ditirambo',\n",
       " 'incurrir',\n",
       " 'impedirá',\n",
       " 'argentino',\n",
       " 'condición',\n",
       " 'ustedes',\n",
       " 'literato',\n",
       " 'editarán',\n",
       " 'volumen',\n",
       " 'imparcial',\n",
       " 'menos',\n",
       " 'pobre',\n",
       " 'duda',\n",
       " 'breve',\n",
       " 'especie',\n",
       " 'será',\n",
       " 'testimonio',\n",
       " 'uruguayo',\n",
       " 'cajetilla',\n",
       " 'compadrito',\n",
       " 'ipuche',\n",
       " 'también',\n",
       " 'olvidar',\n",
       " 'hay',\n",
       " 'discuto',\n",
       " 'vernáculo',\n",
       " 'cimarrón',\n",
       " 'zarathustra',\n",
       " 'superhombres',\n",
       " 'precursor',\n",
       " 'escrito',\n",
       " 'leandro',\n",
       " 'porteño',\n",
       " 'pedro',\n",
       " 'desventuras',\n",
       " 'para',\n",
       " 'representaba',\n",
       " 'consta',\n",
       " 'suficiente',\n",
       " 'modo',\n",
       " 'palabras',\n",
       " 'injuriosas',\n",
       " 'dijo',\n",
       " 'acaso']"
      ]
     },
     "execution_count": 5,
     "metadata": {},
     "output_type": "execute_result"
    }
   ],
   "source": [
    "model.wv.index_to_key"
   ]
  },
  {
   "cell_type": "code",
   "execution_count": 6,
   "metadata": {},
   "outputs": [
    {
     "data": {
      "text/plain": [
       "[('o', 0.9261194467544556),\n",
       " ('imparcial', 0.7661430835723877),\n",
       " ('-género', 0.6590105295181274)]"
      ]
     },
     "execution_count": 6,
     "metadata": {},
     "output_type": "execute_result"
    }
   ],
   "source": [
    "model.wv.most_similar(\"me\", topn=3)"
   ]
  },
  {
   "cell_type": "code",
   "execution_count": 7,
   "metadata": {},
   "outputs": [
    {
     "data": {
      "text/plain": [
       "[('ese', 0.7950955629348755),\n",
       " ('manos', 0.7739680409431458),\n",
       " ('pero', 0.7539514303207397)]"
      ]
     },
     "execution_count": 7,
     "metadata": {},
     "output_type": "execute_result"
    }
   ],
   "source": [
    "model.wv.most_similar(positive=[\"mi\",\"recuerdo\"], negative=[\"o\"], topn=3)"
   ]
  },
  {
   "cell_type": "code",
   "execution_count": 8,
   "metadata": {},
   "outputs": [
    {
     "data": {
      "text/plain": [
       "0.7061683535575867"
      ]
     },
     "execution_count": 8,
     "metadata": {},
     "output_type": "execute_result"
    }
   ],
   "source": [
    "model.wv.distance(\"mi\",\"recuerdo\")"
   ]
  },
  {
   "cell_type": "code",
   "execution_count": 9,
   "metadata": {},
   "outputs": [],
   "source": [
    "embedding1 = sum(model.wv[w] for w in token1) / len(token1)\n",
    "embedding2 = sum(model.wv[w] for w in token2) / len(token2)\n",
    "embedding3 = sum(model.wv[w] for w in token3) / len(token3)"
   ]
  },
  {
   "cell_type": "markdown",
   "metadata": {},
   "source": [
    "# Gráfico"
   ]
  },
  {
   "cell_type": "code",
   "execution_count": null,
   "metadata": {},
   "outputs": [],
   "source": [
    "from sklearn.decomposition import PCA\n",
    "import matplotlib.pyplot as plt\n",
    "import plotly.express as px\n",
    "import pandas as pd"
   ]
  },
  {
   "cell_type": "code",
   "execution_count": 10,
   "metadata": {},
   "outputs": [
    {
     "data": {
      "image/png": "[encoded data removed]",
      "text/plain": [
       "<Figure size 640x480 with 1 Axes>"
      ]
     },
     "metadata": {},
     "output_type": "display_data"
    }
   ],
   "source": [
    "X = model.wv.vectors\n",
    "\n",
    "pca = PCA(n_components=2)\n",
    "result = pca.fit_transform(X)\n",
    "\n",
    "plt.scatter(result[:,0], result[:,1])\n",
    "\n",
    "for i, word in enumerate(model.wv.index_to_key):\n",
    "    plt.annotate(word, (result[i,0], result[i, 1]))"
   ]
  },
  {
   "cell_type": "code",
   "execution_count": 11,
   "metadata": {},
   "outputs": [],
   "source": [
    "# %pip install plotly\n",
    "# %pip install nbformat"
   ]
  },
  {
   "cell_type": "code",
   "execution_count": 12,
   "metadata": {},
   "outputs": [
    {
     "data": {
      "application/vnd.plotly.v1+json": {
       "config": {
        "plotlyServerURL": "https://plot.ly"
       },
       "data": [
        {
         "hovertemplate": "x=%{x}<br>y=%{y}<br>z=%{marker.color}<br>name=%{text}<extra></extra>",
         "legendgroup": "",
         "marker": {
          "color": [
           -0.005087197292596102,
           0.08174411207437515,
           0.011211369186639786,
           0.035093095153570175,
           -0.06992226839065552,
           -0.03648129850625992,
           -0.0057648587971925735,
           0.04468454048037529,
           -0.05778789147734642,
           -0.02433769591152668,
           -0.01349577121436596,
           -0.0679454579949379,
           -0.03467509523034096,
           -0.09877748787403107,
           -0.011230317875742912,
           -0.10719874501228333,
           -0.07880763709545135,
           0.0587974451482296,
           0.057461462914943695,
           0.00958405714482069,
           -0.047229114919900894,
           -0.009705808013677597,
           -0.014003398828208447,
           0.05653423070907593,
           -0.02899707295000553,
           0.14599072933197021,
           -0.09183183312416077,
           -0.08329117298126221,
           0.08180322498083115,
           -0.059918906539678574,
           -0.021053770557045937,
           -0.013256951235234737,
           -0.06642834842205048,
           -0.05190090835094452,
           -0.010692840442061424,
           0.02851751260459423,
           0.02972341701388359,
           0.010352930054068565,
           -0.006457202136516571,
           0.035645533353090286,
           -0.0650915876030922,
           0.022395754233002663,
           -0.02208748646080494,
           0.03177212178707123,
           0.046444736421108246,
           0.1342710554599762,
           -0.07987906038761139,
           -0.05055578052997589,
           0.07433517277240753,
           -0.007364477496594191,
           0.06278297305107117,
           0.13764694333076477,
           -0.02150704339146614,
           -0.01808753050863743,
           0.04625599458813667,
           0.05359266698360443,
           0.05976387858390808,
           -0.07677816599607468,
           0.04828079789876938,
           0.04764751344919205,
           0.014391377568244934,
           -0.012884961441159248,
           0.012284800410270691,
           0.11130069941282272,
           0.06844469904899597,
           0.18866436183452606,
           0.053641583770513535,
           -0.06709431111812592,
           0.06743384897708893,
           -0.02453862875699997,
           0.04387587681412697,
           0.042345501482486725,
           -0.04592875391244888,
           0.04519912600517273,
           0.027915921062231064,
           -0.05935981497168541,
           -0.002343069761991501,
           0.03512682020664215,
           -0.05471274256706238,
           0.05511847510933876,
           -0.10221607983112335,
           0.051528964191675186,
           0.05725586786866188,
           -0.0174292903393507,
           0.018575388938188553,
           0.030564283952116966,
           0.00820485595613718,
           0.0877373069524765,
           -0.007083440199494362,
           -0.08283347636461258,
           0.054516855627298355,
           0.02782580628991127,
           0.030637532472610474,
           -0.08464217185974121,
           -0.062363844364881516,
           0.01559213362634182,
           0.07632258534431458,
           0.041868824511766434,
           -0.007580409292131662,
           -0.0757116749882698,
           0.11827576905488968,
           0.03200120851397514,
           -0.027762742713093758,
           -0.055162206292152405,
           0.0676601231098175,
           -0.013875105418264866,
           0.05236765369772911,
           -0.08266360312700272,
           -0.07758887112140656,
           0.035475920885801315,
           0.0222129188477993,
           0.12243926525115967,
           0.07169156521558762,
           0.05646255239844322,
           -0.08379807323217392,
           0.0018411868950352073,
           -0.06239261478185654,
           -0.05488866567611694,
           -0.0253479965031147,
           0.09398028254508972,
           -0.0403006374835968,
           0.06174737587571144,
           -0.11136089265346527,
           0.08547630161046982,
           0.03900831565260887,
           -0.0008626179187558591,
           -0.022857192903757095,
           0.04456407576799393,
           -0.03645305708050728,
           -0.09824904799461365,
           0.09800118207931519,
           -0.04326305538415909,
           -0.058682747185230255,
           0.010897476226091385,
           0.03874299302697182,
           -0.0460856594145298,
           -0.09421185404062271,
           -0.04525110498070717,
           -0.05156027525663376,
           -0.019529107958078384,
           0.007769977208226919,
           0.042608633637428284,
           0.013174747116863728,
           -0.03670875355601311,
           -0.050728850066661835,
           -0.02320946380496025,
           -0.016113556921482086,
           -0.009616158902645111,
           -0.009719514288008213,
           -0.06312007457017899,
           -0.038428641855716705,
           0.015978416427969933,
           0.03729238361120224,
           -0.07375431060791016,
           0.08164551109075546,
           -0.13512122631072998,
           -0.027034888043999672,
           -0.01670902967453003,
           -0.04077910631895065,
           -0.10661251097917557,
           -0.028781678527593613,
           0.06319750845432281,
           -0.02297581359744072,
           0.0755487009882927,
           -0.00516115827485919,
           0.055184341967105865,
           -0.08041159063577652,
           0.042581941932439804,
           0.1502612829208374,
           -0.016812274232506752,
           0.013247138820588589,
           0.05764548480510712,
           0.11115914583206177,
           -0.02306920289993286,
           0.04001334682106972,
           -0.07000177353620529,
           0.004637270700186491,
           -0.16840878129005432,
           -0.13430815935134888,
           0.005011724773794413,
           0.05512450635433197,
           -0.1335856169462204,
           0.039315152913331985,
           0.03908107429742813,
           -0.013347532600164413,
           -0.061466414481401443,
           -0.15127336978912354,
           0.04372675344347954,
           0.005430974066257477,
           -0.043601132929325104,
           -0.01708584651350975,
           0.005636653862893581,
           -0.01003881637006998,
           0.06605234742164612,
           -0.020865773782134056,
           -0.049863386899232864,
           0.06499102711677551,
           -0.002367937471717596,
           0.05499610677361488,
           -0.015417386777698994,
           -0.05083883926272392,
           0.021771835163235664,
           0.052658699452877045,
           -0.05497666820883751,
           0.050784025341272354,
           0.05786462500691414,
           0.025149604305624962,
           -0.04091368615627289,
           -0.054685257375240326,
           0.0017393326852470636,
           -0.07827164232730865,
           0.008747917599976063,
           -0.044767122715711594,
           0.1415444314479828,
           0.07748761773109436,
           0.11410575360059738,
           -0.084221750497818,
           -0.05766194313764572,
           -0.015382610261440277
          ],
          "coloraxis": "coloraxis",
          "symbol": "circle"
         },
         "mode": "markers+text",
         "name": "",
         "scene": "scene",
         "showlegend": false,
         "text": [
          ",",
          "de",
          ".",
          "la",
          "el",
          "un",
          "que",
          "en",
          "recuerdo",
          ";",
          "no",
          "y",
          "con",
          "del",
          "lo",
          "mi",
          "una",
          "me",
          "yo",
          "a",
          "más",
          ")",
          "esas",
          "era",
          "ha",
          "funes",
          "ese",
          "pero",
          "los",
          "bentos",
          "año",
          "había",
          "es",
          "manos",
          "``",
          "voz",
          "sin",
          "muy",
          "él",
          "día",
          "fray",
          "tormenta",
          "(",
          "hombre",
          "derecho",
          "resentida",
          "tierra",
          "antiguo",
          "orillero",
          "nasal",
          "tuvo",
          "crepúsculo",
          "pausada",
          "italianos",
          "su",
          "muerto",
          "claramente",
          "lacustre",
          "paisaje",
          "silbidos",
          "sólo",
          "ahora",
          "verbo",
          "tengo",
          "todos",
          "proyecto",
          "feliz",
          "pronunciar",
          "parece",
          "sagrado",
          "desde",
          "...",
          "1887",
          "última",
          "vi",
          "veces",
          "tres",
          "vago",
          "amarilla",
          "estera",
          "casa",
          "trataron",
          "nadie",
          "remota",
          "singularmente",
          "aindiada",
          "taciturna",
          "cara",
          "visto",
          "entera",
          "vida",
          "toda",
          "noche",
          "aunque",
          "mirara",
          "hasta",
          "detrás",
          "cigarrillo",
          "creo",
          "pasionaria",
          "ventana",
          "oscura",
          "oriental",
          "banda",
          "armas",
          "las",
          "mate",
          "sus",
          "mano",
          "viéndola",
          "cerca",
          "trenzado",
          "afiladas",
          "como",
          "aquellos",
          "carrera",
          "escriban",
          "volvía",
          "ésa",
          "caballo",
          "cantando",
          "volvíamos",
          "francisco",
          "san",
          "estancia",
          "haedo",
          "bernardo",
          "primo",
          "veranear",
          "circunstancia",
          "llevado",
          "padre",
          "84.",
          "febrero",
          "o",
          "marzo",
          "atardecer",
          "veo",
          "perspicuo",
          "primer",
          "única",
          "felicidad",
          "incurables",
          "enloquecían",
          "corrimos",
          "elemental",
          "agua",
          "descampado",
          "sorprendiera",
          "nos",
          "esperanza",
          "temor",
          "tenía",
          "árboles",
          "se",
          "después",
          "ya",
          "sur",
          "viento",
          "alentaba",
          "cielo",
          "escondido",
          "pizarra",
          "color",
          "enorme",
          "bochornoso",
          "limitaciones",
          "ciertas",
          "sobre",
          "deplorable",
          "tema",
          "cuando",
          "uruguay",
          "obligatorio",
          "-género",
          "ditirambo",
          "incurrir",
          "impedirá",
          "argentino",
          "condición",
          "ustedes",
          "literato",
          "editarán",
          "volumen",
          "imparcial",
          "menos",
          "pobre",
          "duda",
          "breve",
          "especie",
          "será",
          "testimonio",
          "uruguayo",
          "cajetilla",
          "compadrito",
          "ipuche",
          "también",
          "olvidar",
          "hay",
          "discuto",
          "vernáculo",
          "cimarrón",
          "zarathustra",
          "superhombres",
          "precursor",
          "escrito",
          "leandro",
          "porteño",
          "pedro",
          "desventuras",
          "para",
          "representaba",
          "consta",
          "suficiente",
          "modo",
          "palabras",
          "injuriosas",
          "dijo",
          "acaso"
         ],
         "type": "scatter3d",
         "x": [
          -0.08610226958990097,
          -0.047323133796453476,
          -0.009577995166182518,
          -0.0767291933298111,
          0.12386392056941986,
          -0.013011113740503788,
          0.03663845732808113,
          0.011638952419161797,
          -0.12514695525169373,
          0.02992767095565796,
          0.009779144078493118,
          0.009288325905799866,
          0.03830740973353386,
          0.08345741033554077,
          0.014135637320578098,
          -0.02418440766632557,
          0.02595127746462822,
          0.019919341430068016,
          -0.01802629977464676,
          -0.08162093162536621,
          0.0336899496614933,
          -0.021754011511802673,
          0.03087449260056019,
          0.03760894760489464,
          -0.03504590690135956,
          -0.015717806294560432,
          -0.11960151791572571,
          -0.07608257234096527,
          0.09422238171100616,
          0.030129127204418182,
          0.08049024641513824,
          -0.05885716527700424,
          -0.0968656912446022,
          -0.06058887764811516,
          -0.02160504274070263,
          0.10646773129701614,
          0.023829160258173943,
          -0.0009978251764550805,
          -0.04424918442964554,
          -0.0011036384385079145,
          0.02239660918712616,
          0.08160188794136047,
          -0.0853133574128151,
          0.08500323444604874,
          0.0881502702832222,
          -0.02522335760295391,
          -0.04808395728468895,
          0.10128214955329895,
          -0.08833418041467667,
          0.013691382482647896,
          -0.043713826686143875,
          0.04557475820183754,
          -0.12226314842700958,
          0.0720672681927681,
          0.07946083694696426,
          -0.1772605925798416,
          -0.023144597187638283,
          -0.014185227453708649,
          0.055284176021814346,
          0.08110234886407852,
          -0.024019308388233185,
          -0.021405592560768127,
          -0.040317028760910034,
          -0.05876576155424118,
          -0.03139399737119675,
          -0.036175817251205444,
          -0.07511884719133377,
          0.023309757933020592,
          -0.0508984737098217,
          -0.04641331732273102,
          -0.11751824617385864,
          -0.05369079113006592,
          -0.03298729285597801,
          -0.02060304395854473,
          0.11309672147035599,
          -0.01152431033551693,
          0.07838641852140427,
          -0.0534578338265419,
          0.10909315943717957,
          0.03915013000369072,
          -0.11005882173776627,
          -0.004716605879366398,
          -0.024972200393676758,
          0.02400442399084568,
          -0.003120653098449111,
          0.07205705344676971,
          -0.08906472474336624,
          -0.12314824014902115,
          -0.043916769325733185,
          0.08264584839344025,
          0.043147195130586624,
          -0.01767539046704769,
          0.12333516776561737,
          -0.061424653977155685,
          0.07279966026544571,
          0.04567408561706543,
          -0.061500973999500275,
          0.07201417535543442,
          0.07325223833322525,
          0.11048677563667297,
          -0.011348871514201164,
          0.002343132160604,
          -0.02859768643975258,
          -0.08083315193653107,
          -0.04222142696380615,
          0.09379593282938004,
          -0.030753187835216522,
          -0.08331947773694992,
          -0.03366664797067642,
          -0.04810215160250664,
          0.008016510866582394,
          0.026196004822850227,
          0.057027436792850494,
          -0.03447632119059563,
          -0.08256050944328308,
          -0.04700630530714989,
          -0.07133862376213074,
          0.01801459677517414,
          0.10466822981834412,
          0.0707559660077095,
          0.09784089028835297,
          0.07841527462005615,
          0.017168300226330757,
          -0.009797369129955769,
          -0.10550185292959213,
          0.09499410539865494,
          -0.142869234085083,
          -0.09059609472751617,
          -0.11587230861186981,
          0.03261001035571098,
          -0.004496436100453138,
          0.0840434730052948,
          -0.004973584786057472,
          0.09109031409025192,
          0.019429968670010567,
          -0.021027397364377975,
          0.014277298003435135,
          0.12127891182899475,
          -0.029700882732868195,
          -0.10425785928964615,
          0.11444251984357834,
          0.01576339453458786,
          0.010387965478003025,
          -0.010552480816841125,
          -0.004191222134977579,
          -0.02187814749777317,
          -0.01245887391269207,
          -0.040447354316711426,
          0.00906329695135355,
          -0.026604916900396347,
          -0.042363960295915604,
          0.057289451360702515,
          0.05375981703400612,
          -0.1707378327846527,
          0.04272586852312088,
          -0.06673531234264374,
          0.13567687571048737,
          0.008292336948215961,
          0.001645253854803741,
          0.06063728779554367,
          0.0672222226858139,
          0.005760477855801582,
          -0.1107439249753952,
          -0.0364607498049736,
          0.10140076279640198,
          -0.05157586559653282,
          0.06885474920272827,
          0.013155474327504635,
          0.02187395840883255,
          -0.1020888015627861,
          0.006595896556973457,
          0.05327533558011055,
          0.02950471080839634,
          0.14955000579357147,
          -0.007820315659046173,
          0.0004044334345962852,
          0.12173226475715637,
          0.024113083258271217,
          0.04020725563168526,
          0.03652931749820709,
          0.06574549525976181,
          0.06900422275066376,
          0.17968995869159698,
          0.08873169124126434,
          0.014693389646708965,
          0.09824331849813461,
          -0.09663532674312592,
          0.01098167896270752,
          0.03775031119585037,
          -0.022639362141489983,
          -0.09514808654785156,
          -0.10337428748607635,
          -0.007187471725046635,
          -0.056477464735507965,
          -0.04715157300233841,
          0.10850664973258972,
          -0.010122006759047508,
          -0.03195581212639809,
          0.007551294285804033,
          0.07012486457824707,
          0.04802437871694565,
          -0.005979809910058975,
          -0.03910095617175102,
          0.020825987681746483,
          0.05532374233007431,
          -0.07748884707689285,
          -0.023609571158885956,
          0.0424472950398922,
          -0.06929918378591537,
          -0.0525265596807003,
          -0.09023942053318024,
          -0.11709170788526535,
          0.08631674945354462,
          -0.00036551119410432875,
          -0.10161720216274261,
          -0.008121047168970108,
          -0.025971684604883194,
          0.05667674541473389,
          -0.10507242381572723
         ],
         "y": [
          0.01138546597212553,
          -0.005771685391664505,
          -0.10203778743743896,
          -0.06876843422651291,
          0.09313271939754486,
          0.0272896196693182,
          -0.003897855756804347,
          -0.15264591574668884,
          0.03846059367060661,
          0.015332495793700218,
          -0.02827558107674122,
          0.01691468432545662,
          -0.059278979897499084,
          -0.05729616805911064,
          0.018326513469219208,
          -0.005876331124454737,
          0.007779149804264307,
          0.07638735324144363,
          -0.022570351138710976,
          -0.04106329008936882,
          0.010252787731587887,
          -0.08729204535484314,
          -0.05050065368413925,
          0.048866745084524155,
          0.02822343446314335,
          0.031388282775878906,
          -0.022902589291334152,
          -0.06403247267007828,
          0.0823596939444542,
          -0.1180693581700325,
          -0.05117041990160942,
          -0.1300608068704605,
          0.025523437187075615,
          0.0029326200019568205,
          -0.10320086777210236,
          -0.024279030039906502,
          -0.09541196376085281,
          0.0705823227763176,
          -0.06426713615655899,
          -0.050176601856946945,
          0.040081728249788284,
          0.07344325631856918,
          0.03340303525328636,
          -0.08799932897090912,
          0.03355822712182999,
          -0.035379406064748764,
          -0.014393895864486694,
          -0.00005287181556923315,
          -0.0036872413475066423,
          -0.061716340482234955,
          -0.02004893310368061,
          0.050765469670295715,
          0.09832675755023956,
          -0.0571218766272068,
          -0.0035241954028606415,
          -0.0014714128337800503,
          -0.15227612853050232,
          0.032723568379879,
          -0.04308748245239258,
          -0.07367707788944244,
          -0.037428662180900574,
          -0.027798114344477654,
          -0.019587745890021324,
          0.009547366760671139,
          -0.05403396487236023,
          0.0927291065454483,
          0.022752655670046806,
          0.0000012448124380171066,
          0.003066275967285037,
          0.018653275445103645,
          -0.028838947415351868,
          -0.07568585872650146,
          0.008304501883685589,
          0.03655119985342026,
          0.010347375646233559,
          0.048258766531944275,
          0.035983603447675705,
          -0.06917503476142883,
          0.03790680691599846,
          0.07699186354875565,
          -0.007425307761877775,
          -0.0712284967303276,
          -0.10146767646074295,
          -0.006404054816812277,
          -0.016902875155210495,
          -0.05974622443318367,
          0.05103582516312599,
          0.10543689876794815,
          0.0006838139961473644,
          -0.07070401310920715,
          0.11247136443853378,
          0.004887078423053026,
          -0.024147767573595047,
          0.030870530754327774,
          0.0072029959410429,
          0.03147490322589874,
          0.0008048787130974233,
          -0.04496124014258385,
          0.09544168412685394,
          0.05547253414988518,
          -0.07251465320587158,
          -0.1181315928697586,
          0.03158380836248398,
          -0.019617151468992233,
          0.10964056849479675,
          0.09580033272504807,
          0.12173261493444443,
          0.026776833459734917,
          0.05701349675655365,
          -0.027351435273885727,
          -0.04873218014836311,
          -0.056697312742471695,
          0.06542005389928818,
          0.0023603923618793488,
          0.06207721680402756,
          0.013561446219682693,
          -0.03671871870756149,
          -0.005192673299461603,
          0.04399004206061363,
          0.04541511461138725,
          -0.08672602474689484,
          0.07191484421491623,
          0.10651548206806183,
          0.09417766332626343,
          0.020400136709213257,
          0.00461907172575593,
          0.008196304552257061,
          -0.08422055095434189,
          0.06596916913986206,
          -0.08130543678998947,
          0.09161202609539032,
          -0.0780516117811203,
          0.019283028319478035,
          -0.08834536373615265,
          0.05203701928257942,
          0.049974072724580765,
          -0.07528142631053925,
          0.01860264502465725,
          -0.07856559008359909,
          -0.029596103355288506,
          -0.16882723569869995,
          -0.04738941416144371,
          -0.03210938349366188,
          0.014570015482604504,
          -0.01110776700079441,
          -0.08956712484359741,
          0.04923960566520691,
          -0.006430070847272873,
          -0.10754174739122391,
          -0.0000675868068356067,
          0.11817239224910736,
          0.15270598232746124,
          0.011441010050475597,
          0.09176409244537354,
          0.041049301624298096,
          0.04599902406334877,
          0.008074864745140076,
          -0.054379139095544815,
          0.17121317982673645,
          0.0028147927951067686,
          -0.01577795296907425,
          0.150217667222023,
          -0.05762665718793869,
          -0.10567577183246613,
          0.10811328142881393,
          0.0749652087688446,
          0.05052941292524338,
          -0.08147074282169342,
          0.07164779305458069,
          0.04514973238110542,
          -0.14802855253219604,
          -0.07050035893917084,
          0.02358957938849926,
          0.018067801371216774,
          0.01999475806951523,
          -0.14218755066394806,
          0.018632663413882256,
          0.005667069461196661,
          -0.09174027293920517,
          -0.11278559267520905,
          -0.04340622201561928,
          0.05073897913098335,
          -0.009511807933449745,
          -0.055472154170274734,
          0.07062883675098419,
          0.0560859777033329,
          -0.020483704283833504,
          -0.08503860235214233,
          -0.00361391669139266,
          -0.00811639241874218,
          -0.0217693280428648,
          -0.08780729025602341,
          0.10845915973186493,
          0.0712043046951294,
          0.03421532362699509,
          0.02229309268295765,
          0.03217505291104317,
          -0.049493152648210526,
          -0.021129727363586426,
          0.1838725060224533,
          0.04279733821749687,
          -0.004730626940727234,
          0.04298461973667145,
          0.034660130739212036,
          0.13461115956306458,
          -0.03476928547024727,
          -0.0325758270919323,
          -0.03880705684423447,
          0.050352539867162704,
          0.005203562788665295,
          0.07274959981441498,
          -0.03392813727259636,
          0.06348130106925964,
          -0.0677458643913269,
          0.026145970448851585,
          0.020248709246516228,
          0.027671685442328453,
          -0.018863581120967865,
          0.059153005480766296
         ],
         "z": [
          -0.005087197292596102,
          0.08174411207437515,
          0.011211369186639786,
          0.035093095153570175,
          -0.06992226839065552,
          -0.03648129850625992,
          -0.0057648587971925735,
          0.04468454048037529,
          -0.05778789147734642,
          -0.02433769591152668,
          -0.01349577121436596,
          -0.0679454579949379,
          -0.03467509523034096,
          -0.09877748787403107,
          -0.011230317875742912,
          -0.10719874501228333,
          -0.07880763709545135,
          0.0587974451482296,
          0.057461462914943695,
          0.00958405714482069,
          -0.047229114919900894,
          -0.009705808013677597,
          -0.014003398828208447,
          0.05653423070907593,
          -0.02899707295000553,
          0.14599072933197021,
          -0.09183183312416077,
          -0.08329117298126221,
          0.08180322498083115,
          -0.059918906539678574,
          -0.021053770557045937,
          -0.013256951235234737,
          -0.06642834842205048,
          -0.05190090835094452,
          -0.010692840442061424,
          0.02851751260459423,
          0.02972341701388359,
          0.010352930054068565,
          -0.006457202136516571,
          0.035645533353090286,
          -0.0650915876030922,
          0.022395754233002663,
          -0.02208748646080494,
          0.03177212178707123,
          0.046444736421108246,
          0.1342710554599762,
          -0.07987906038761139,
          -0.05055578052997589,
          0.07433517277240753,
          -0.007364477496594191,
          0.06278297305107117,
          0.13764694333076477,
          -0.02150704339146614,
          -0.01808753050863743,
          0.04625599458813667,
          0.05359266698360443,
          0.05976387858390808,
          -0.07677816599607468,
          0.04828079789876938,
          0.04764751344919205,
          0.014391377568244934,
          -0.012884961441159248,
          0.012284800410270691,
          0.11130069941282272,
          0.06844469904899597,
          0.18866436183452606,
          0.053641583770513535,
          -0.06709431111812592,
          0.06743384897708893,
          -0.02453862875699997,
          0.04387587681412697,
          0.042345501482486725,
          -0.04592875391244888,
          0.04519912600517273,
          0.027915921062231064,
          -0.05935981497168541,
          -0.002343069761991501,
          0.03512682020664215,
          -0.05471274256706238,
          0.05511847510933876,
          -0.10221607983112335,
          0.051528964191675186,
          0.05725586786866188,
          -0.0174292903393507,
          0.018575388938188553,
          0.030564283952116966,
          0.00820485595613718,
          0.0877373069524765,
          -0.007083440199494362,
          -0.08283347636461258,
          0.054516855627298355,
          0.02782580628991127,
          0.030637532472610474,
          -0.08464217185974121,
          -0.062363844364881516,
          0.01559213362634182,
          0.07632258534431458,
          0.041868824511766434,
          -0.007580409292131662,
          -0.0757116749882698,
          0.11827576905488968,
          0.03200120851397514,
          -0.027762742713093758,
          -0.055162206292152405,
          0.0676601231098175,
          -0.013875105418264866,
          0.05236765369772911,
          -0.08266360312700272,
          -0.07758887112140656,
          0.035475920885801315,
          0.0222129188477993,
          0.12243926525115967,
          0.07169156521558762,
          0.05646255239844322,
          -0.08379807323217392,
          0.0018411868950352073,
          -0.06239261478185654,
          -0.05488866567611694,
          -0.0253479965031147,
          0.09398028254508972,
          -0.0403006374835968,
          0.06174737587571144,
          -0.11136089265346527,
          0.08547630161046982,
          0.03900831565260887,
          -0.0008626179187558591,
          -0.022857192903757095,
          0.04456407576799393,
          -0.03645305708050728,
          -0.09824904799461365,
          0.09800118207931519,
          -0.04326305538415909,
          -0.058682747185230255,
          0.010897476226091385,
          0.03874299302697182,
          -0.0460856594145298,
          -0.09421185404062271,
          -0.04525110498070717,
          -0.05156027525663376,
          -0.019529107958078384,
          0.007769977208226919,
          0.042608633637428284,
          0.013174747116863728,
          -0.03670875355601311,
          -0.050728850066661835,
          -0.02320946380496025,
          -0.016113556921482086,
          -0.009616158902645111,
          -0.009719514288008213,
          -0.06312007457017899,
          -0.038428641855716705,
          0.015978416427969933,
          0.03729238361120224,
          -0.07375431060791016,
          0.08164551109075546,
          -0.13512122631072998,
          -0.027034888043999672,
          -0.01670902967453003,
          -0.04077910631895065,
          -0.10661251097917557,
          -0.028781678527593613,
          0.06319750845432281,
          -0.02297581359744072,
          0.0755487009882927,
          -0.00516115827485919,
          0.055184341967105865,
          -0.08041159063577652,
          0.042581941932439804,
          0.1502612829208374,
          -0.016812274232506752,
          0.013247138820588589,
          0.05764548480510712,
          0.11115914583206177,
          -0.02306920289993286,
          0.04001334682106972,
          -0.07000177353620529,
          0.004637270700186491,
          -0.16840878129005432,
          -0.13430815935134888,
          0.005011724773794413,
          0.05512450635433197,
          -0.1335856169462204,
          0.039315152913331985,
          0.03908107429742813,
          -0.013347532600164413,
          -0.061466414481401443,
          -0.15127336978912354,
          0.04372675344347954,
          0.005430974066257477,
          -0.043601132929325104,
          -0.01708584651350975,
          0.005636653862893581,
          -0.01003881637006998,
          0.06605234742164612,
          -0.020865773782134056,
          -0.049863386899232864,
          0.06499102711677551,
          -0.002367937471717596,
          0.05499610677361488,
          -0.015417386777698994,
          -0.05083883926272392,
          0.021771835163235664,
          0.052658699452877045,
          -0.05497666820883751,
          0.050784025341272354,
          0.05786462500691414,
          0.025149604305624962,
          -0.04091368615627289,
          -0.054685257375240326,
          0.0017393326852470636,
          -0.07827164232730865,
          0.008747917599976063,
          -0.044767122715711594,
          0.1415444314479828,
          0.07748761773109436,
          0.11410575360059738,
          -0.084221750497818,
          -0.05766194313764572,
          -0.015382610261440277
         ]
        }
       ],
       "layout": {
        "coloraxis": {
         "colorbar": {
          "title": {
           "text": "z"
          }
         },
         "colorscale": [
          [
           0,
           "#0d0887"
          ],
          [
           0.1111111111111111,
           "#46039f"
          ],
          [
           0.2222222222222222,
           "#7201a8"
          ],
          [
           0.3333333333333333,
           "#9c179e"
          ],
          [
           0.4444444444444444,
           "#bd3786"
          ],
          [
           0.5555555555555556,
           "#d8576b"
          ],
          [
           0.6666666666666666,
           "#ed7953"
          ],
          [
           0.7777777777777778,
           "#fb9f3a"
          ],
          [
           0.8888888888888888,
           "#fdca26"
          ],
          [
           1,
           "#f0f921"
          ]
         ]
        },
        "legend": {
         "tracegroupgap": 0
        },
        "margin": {
         "t": 60
        },
        "scene": {
         "domain": {
          "x": [
           0,
           1
          ],
          "y": [
           0,
           1
          ]
         },
         "xaxis": {
          "title": {
           "text": "x"
          }
         },
         "yaxis": {
          "title": {
           "text": "y"
          }
         },
         "zaxis": {
          "title": {
           "text": "z"
          }
         }
        },
        "template": {
         "data": {
          "bar": [
           {
            "error_x": {
             "color": "#2a3f5f"
            },
            "error_y": {
             "color": "#2a3f5f"
            },
            "marker": {
             "line": {
              "color": "#E5ECF6",
              "width": 0.5
             },
             "pattern": {
              "fillmode": "overlay",
              "size": 10,
              "solidity": 0.2
             }
            },
            "type": "bar"
           }
          ],
          "barpolar": [
           {
            "marker": {
             "line": {
              "color": "#E5ECF6",
              "width": 0.5
             },
             "pattern": {
              "fillmode": "overlay",
              "size": 10,
              "solidity": 0.2
             }
            },
            "type": "barpolar"
           }
          ],
          "carpet": [
           {
            "aaxis": {
             "endlinecolor": "#2a3f5f",
             "gridcolor": "white",
             "linecolor": "white",
             "minorgridcolor": "white",
             "startlinecolor": "#2a3f5f"
            },
            "baxis": {
             "endlinecolor": "#2a3f5f",
             "gridcolor": "white",
             "linecolor": "white",
             "minorgridcolor": "white",
             "startlinecolor": "#2a3f5f"
            },
            "type": "carpet"
           }
          ],
          "choropleth": [
           {
            "colorbar": {
             "outlinewidth": 0,
             "ticks": ""
            },
            "type": "choropleth"
           }
          ],
          "contour": [
           {
            "colorbar": {
             "outlinewidth": 0,
             "ticks": ""
            },
            "colorscale": [
             [
              0,
              "#0d0887"
             ],
             [
              0.1111111111111111,
              "#46039f"
             ],
             [
              0.2222222222222222,
              "#7201a8"
             ],
             [
              0.3333333333333333,
              "#9c179e"
             ],
             [
              0.4444444444444444,
              "#bd3786"
             ],
             [
              0.5555555555555556,
              "#d8576b"
             ],
             [
              0.6666666666666666,
              "#ed7953"
             ],
             [
              0.7777777777777778,
              "#fb9f3a"
             ],
             [
              0.8888888888888888,
              "#fdca26"
             ],
             [
              1,
              "#f0f921"
             ]
            ],
            "type": "contour"
           }
          ],
          "contourcarpet": [
           {
            "colorbar": {
             "outlinewidth": 0,
             "ticks": ""
            },
            "type": "contourcarpet"
           }
          ],
          "heatmap": [
           {
            "colorbar": {
             "outlinewidth": 0,
             "ticks": ""
            },
            "colorscale": [
             [
              0,
              "#0d0887"
             ],
             [
              0.1111111111111111,
              "#46039f"
             ],
             [
              0.2222222222222222,
              "#7201a8"
             ],
             [
              0.3333333333333333,
              "#9c179e"
             ],
             [
              0.4444444444444444,
              "#bd3786"
             ],
             [
              0.5555555555555556,
              "#d8576b"
             ],
             [
              0.6666666666666666,
              "#ed7953"
             ],
             [
              0.7777777777777778,
              "#fb9f3a"
             ],
             [
              0.8888888888888888,
              "#fdca26"
             ],
             [
              1,
              "#f0f921"
             ]
            ],
            "type": "heatmap"
           }
          ],
          "heatmapgl": [
           {
            "colorbar": {
             "outlinewidth": 0,
             "ticks": ""
            },
            "colorscale": [
             [
              0,
              "#0d0887"
             ],
             [
              0.1111111111111111,
              "#46039f"
             ],
             [
              0.2222222222222222,
              "#7201a8"
             ],
             [
              0.3333333333333333,
              "#9c179e"
             ],
             [
              0.4444444444444444,
              "#bd3786"
             ],
             [
              0.5555555555555556,
              "#d8576b"
             ],
             [
              0.6666666666666666,
              "#ed7953"
             ],
             [
              0.7777777777777778,
              "#fb9f3a"
             ],
             [
              0.8888888888888888,
              "#fdca26"
             ],
             [
              1,
              "#f0f921"
             ]
            ],
            "type": "heatmapgl"
           }
          ],
          "histogram": [
           {
            "marker": {
             "pattern": {
              "fillmode": "overlay",
              "size": 10,
              "solidity": 0.2
             }
            },
            "type": "histogram"
           }
          ],
          "histogram2d": [
           {
            "colorbar": {
             "outlinewidth": 0,
             "ticks": ""
            },
            "colorscale": [
             [
              0,
              "#0d0887"
             ],
             [
              0.1111111111111111,
              "#46039f"
             ],
             [
              0.2222222222222222,
              "#7201a8"
             ],
             [
              0.3333333333333333,
              "#9c179e"
             ],
             [
              0.4444444444444444,
              "#bd3786"
             ],
             [
              0.5555555555555556,
              "#d8576b"
             ],
             [
              0.6666666666666666,
              "#ed7953"
             ],
             [
              0.7777777777777778,
              "#fb9f3a"
             ],
             [
              0.8888888888888888,
              "#fdca26"
             ],
             [
              1,
              "#f0f921"
             ]
            ],
            "type": "histogram2d"
           }
          ],
          "histogram2dcontour": [
           {
            "colorbar": {
             "outlinewidth": 0,
             "ticks": ""
            },
            "colorscale": [
             [
              0,
              "#0d0887"
             ],
             [
              0.1111111111111111,
              "#46039f"
             ],
             [
              0.2222222222222222,
              "#7201a8"
             ],
             [
              0.3333333333333333,
              "#9c179e"
             ],
             [
              0.4444444444444444,
              "#bd3786"
             ],
             [
              0.5555555555555556,
              "#d8576b"
             ],
             [
              0.6666666666666666,
              "#ed7953"
             ],
             [
              0.7777777777777778,
              "#fb9f3a"
             ],
             [
              0.8888888888888888,
              "#fdca26"
             ],
             [
              1,
              "#f0f921"
             ]
            ],
            "type": "histogram2dcontour"
           }
          ],
          "mesh3d": [
           {
            "colorbar": {
             "outlinewidth": 0,
             "ticks": ""
            },
            "type": "mesh3d"
           }
          ],
          "parcoords": [
           {
            "line": {
             "colorbar": {
              "outlinewidth": 0,
              "ticks": ""
             }
            },
            "type": "parcoords"
           }
          ],
          "pie": [
           {
            "automargin": true,
            "type": "pie"
           }
          ],
          "scatter": [
           {
            "fillpattern": {
             "fillmode": "overlay",
             "size": 10,
             "solidity": 0.2
            },
            "type": "scatter"
           }
          ],
          "scatter3d": [
           {
            "line": {
             "colorbar": {
              "outlinewidth": 0,
              "ticks": ""
             }
            },
            "marker": {
             "colorbar": {
              "outlinewidth": 0,
              "ticks": ""
             }
            },
            "type": "scatter3d"
           }
          ],
          "scattercarpet": [
           {
            "marker": {
             "colorbar": {
              "outlinewidth": 0,
              "ticks": ""
             }
            },
            "type": "scattercarpet"
           }
          ],
          "scattergeo": [
           {
            "marker": {
             "colorbar": {
              "outlinewidth": 0,
              "ticks": ""
             }
            },
            "type": "scattergeo"
           }
          ],
          "scattergl": [
           {
            "marker": {
             "colorbar": {
              "outlinewidth": 0,
              "ticks": ""
             }
            },
            "type": "scattergl"
           }
          ],
          "scattermapbox": [
           {
            "marker": {
             "colorbar": {
              "outlinewidth": 0,
              "ticks": ""
             }
            },
            "type": "scattermapbox"
           }
          ],
          "scatterpolar": [
           {
            "marker": {
             "colorbar": {
              "outlinewidth": 0,
              "ticks": ""
             }
            },
            "type": "scatterpolar"
           }
          ],
          "scatterpolargl": [
           {
            "marker": {
             "colorbar": {
              "outlinewidth": 0,
              "ticks": ""
             }
            },
            "type": "scatterpolargl"
           }
          ],
          "scatterternary": [
           {
            "marker": {
             "colorbar": {
              "outlinewidth": 0,
              "ticks": ""
             }
            },
            "type": "scatterternary"
           }
          ],
          "surface": [
           {
            "colorbar": {
             "outlinewidth": 0,
             "ticks": ""
            },
            "colorscale": [
             [
              0,
              "#0d0887"
             ],
             [
              0.1111111111111111,
              "#46039f"
             ],
             [
              0.2222222222222222,
              "#7201a8"
             ],
             [
              0.3333333333333333,
              "#9c179e"
             ],
             [
              0.4444444444444444,
              "#bd3786"
             ],
             [
              0.5555555555555556,
              "#d8576b"
             ],
             [
              0.6666666666666666,
              "#ed7953"
             ],
             [
              0.7777777777777778,
              "#fb9f3a"
             ],
             [
              0.8888888888888888,
              "#fdca26"
             ],
             [
              1,
              "#f0f921"
             ]
            ],
            "type": "surface"
           }
          ],
          "table": [
           {
            "cells": {
             "fill": {
              "color": "#EBF0F8"
             },
             "line": {
              "color": "white"
             }
            },
            "header": {
             "fill": {
              "color": "#C8D4E3"
             },
             "line": {
              "color": "white"
             }
            },
            "type": "table"
           }
          ]
         },
         "layout": {
          "annotationdefaults": {
           "arrowcolor": "#2a3f5f",
           "arrowhead": 0,
           "arrowwidth": 1
          },
          "autotypenumbers": "strict",
          "coloraxis": {
           "colorbar": {
            "outlinewidth": 0,
            "ticks": ""
           }
          },
          "colorscale": {
           "diverging": [
            [
             0,
             "#8e0152"
            ],
            [
             0.1,
             "#c51b7d"
            ],
            [
             0.2,
             "#de77ae"
            ],
            [
             0.3,
             "#f1b6da"
            ],
            [
             0.4,
             "#fde0ef"
            ],
            [
             0.5,
             "#f7f7f7"
            ],
            [
             0.6,
             "#e6f5d0"
            ],
            [
             0.7,
             "#b8e186"
            ],
            [
             0.8,
             "#7fbc41"
            ],
            [
             0.9,
             "#4d9221"
            ],
            [
             1,
             "#276419"
            ]
           ],
           "sequential": [
            [
             0,
             "#0d0887"
            ],
            [
             0.1111111111111111,
             "#46039f"
            ],
            [
             0.2222222222222222,
             "#7201a8"
            ],
            [
             0.3333333333333333,
             "#9c179e"
            ],
            [
             0.4444444444444444,
             "#bd3786"
            ],
            [
             0.5555555555555556,
             "#d8576b"
            ],
            [
             0.6666666666666666,
             "#ed7953"
            ],
            [
             0.7777777777777778,
             "#fb9f3a"
            ],
            [
             0.8888888888888888,
             "#fdca26"
            ],
            [
             1,
             "#f0f921"
            ]
           ],
           "sequentialminus": [
            [
             0,
             "#0d0887"
            ],
            [
             0.1111111111111111,
             "#46039f"
            ],
            [
             0.2222222222222222,
             "#7201a8"
            ],
            [
             0.3333333333333333,
             "#9c179e"
            ],
            [
             0.4444444444444444,
             "#bd3786"
            ],
            [
             0.5555555555555556,
             "#d8576b"
            ],
            [
             0.6666666666666666,
             "#ed7953"
            ],
            [
             0.7777777777777778,
             "#fb9f3a"
            ],
            [
             0.8888888888888888,
             "#fdca26"
            ],
            [
             1,
             "#f0f921"
            ]
           ]
          },
          "colorway": [
           "#636efa",
           "#EF553B",
           "#00cc96",
           "#ab63fa",
           "#FFA15A",
           "#19d3f3",
           "#FF6692",
           "#B6E880",
           "#FF97FF",
           "#FECB52"
          ],
          "font": {
           "color": "#2a3f5f"
          },
          "geo": {
           "bgcolor": "white",
           "lakecolor": "white",
           "landcolor": "#E5ECF6",
           "showlakes": true,
           "showland": true,
           "subunitcolor": "white"
          },
          "hoverlabel": {
           "align": "left"
          },
          "hovermode": "closest",
          "mapbox": {
           "style": "light"
          },
          "paper_bgcolor": "white",
          "plot_bgcolor": "#E5ECF6",
          "polar": {
           "angularaxis": {
            "gridcolor": "white",
            "linecolor": "white",
            "ticks": ""
           },
           "bgcolor": "#E5ECF6",
           "radialaxis": {
            "gridcolor": "white",
            "linecolor": "white",
            "ticks": ""
           }
          },
          "scene": {
           "xaxis": {
            "backgroundcolor": "#E5ECF6",
            "gridcolor": "white",
            "gridwidth": 2,
            "linecolor": "white",
            "showbackground": true,
            "ticks": "",
            "zerolinecolor": "white"
           },
           "yaxis": {
            "backgroundcolor": "#E5ECF6",
            "gridcolor": "white",
            "gridwidth": 2,
            "linecolor": "white",
            "showbackground": true,
            "ticks": "",
            "zerolinecolor": "white"
           },
           "zaxis": {
            "backgroundcolor": "#E5ECF6",
            "gridcolor": "white",
            "gridwidth": 2,
            "linecolor": "white",
            "showbackground": true,
            "ticks": "",
            "zerolinecolor": "white"
           }
          },
          "shapedefaults": {
           "line": {
            "color": "#2a3f5f"
           }
          },
          "ternary": {
           "aaxis": {
            "gridcolor": "white",
            "linecolor": "white",
            "ticks": ""
           },
           "baxis": {
            "gridcolor": "white",
            "linecolor": "white",
            "ticks": ""
           },
           "bgcolor": "#E5ECF6",
           "caxis": {
            "gridcolor": "white",
            "linecolor": "white",
            "ticks": ""
           }
          },
          "title": {
           "x": 0.05
          },
          "xaxis": {
           "automargin": true,
           "gridcolor": "white",
           "linecolor": "white",
           "ticks": "",
           "title": {
            "standoff": 15
           },
           "zerolinecolor": "white",
           "zerolinewidth": 2
          },
          "yaxis": {
           "automargin": true,
           "gridcolor": "white",
           "linecolor": "white",
           "ticks": "",
           "title": {
            "standoff": 15
           },
           "zerolinecolor": "white",
           "zerolinewidth": 2
          }
         }
        }
       }
      }
     },
     "metadata": {},
     "output_type": "display_data"
    }
   ],
   "source": [
    "pca = PCA(n_components=3)\n",
    "result = pca.fit_transform(X)\n",
    "\n",
    "df = pd.DataFrame(result, columns=[\"x\",\"y\",\"z\"])\n",
    "df[\"name\"] = model.wv.index_to_key\n",
    "\n",
    "px.scatter_3d(data_frame=df, \n",
    "              x=\"x\", y=\"y\", z=\"z\", text=\"name\",\n",
    "              color=\"z\")"
   ]
  }
 ],
 "metadata": {
  "kernelspec": {
   "display_name": "ia",
   "language": "python",
   "name": "python3"
  },
  "language_info": {
   "codemirror_mode": {
    "name": "ipython",
    "version": 3
   },
   "file_extension": ".py",
   "mimetype": "text/x-python",
   "name": "python",
   "nbconvert_exporter": "python",
   "pygments_lexer": "ipython3",
   "version": "3.8.12"
  }
 },
 "nbformat": 4,
 "nbformat_minor": 2
}
