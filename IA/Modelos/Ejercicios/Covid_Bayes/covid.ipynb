{
 "cells": [
  {
   "cell_type": "markdown",
   "metadata": {},
   "source": [
    "# Calcula la probabilidad de estar infectado si el test dió positivo, y la probabilidad de estar infectado si el test dió negativo. Dibuja la matriz de contingencia"
   ]
  },
  {
   "cell_type": "markdown",
   "metadata": {},
   "source": [
    "### Según los resultados resumidos del SD Biosensor STANDARD Q en una mayor población de 10 000 personas sin síntomas, en la que 50  personas tuvieran realmente covid-19:\n",
    "- 125 personas darían positivo en la prueba de covid-19. De estas, 90 personas no tendrían covid-19 (resultado falso positivo).\n",
    "- 9875 personas darían negativo en la prueba de covid-19. De estas, 15 personas  tendrían realmente covid-19 (resultado falso negativo)."
   ]
  },
  {
   "cell_type": "markdown",
   "metadata": {},
   "source": [
    "#### Resultado\n",
    "-------\n",
    "- Personas Infectadas (I) = 50\n",
    "- Personas no infectadas (Î) = 9950\n",
    "- Test Positivos (T+) = 125\n",
    "- Test Negativos (T-) = 9875\n",
    "-------\n",
    "- Test Positivos y No Infectados ((T+)Î) = 90\n",
    "- Test Positivos e Infectados ((T+)I) = Test Pos. (T+) - I = 125-90 = 35\n",
    "- Test Negativos e Infectados ((T-)I) = 15\n",
    "- Test Negativos y No Infectados ((T-)Î) = Test Negativos e Infectados ((T-)I) - Test Negativos (T-) = 15 - 9875 = 9860\n",
    "-------\n",
    "$$\\text{Probabilidad de Estar Infectado} = P(I) =\\frac{\\text{Numero de Infectados}}{\\text{Población}}=\\frac{50}{10000}=0.005$$\n",
    "$$\\text{Probabilidad de No Estar Infectado} = P(Î) = \\frac{\\text{Numero de No Infectados}}{Población}=\\frac{9950}{10000}=0.995$$\n",
    "$$\\text{Probabilidad de Test Positivo} = P(T+) = \\frac{\\text{Número de Test Positivos}}{Población}=\\frac{125}{10000}=0.0125$$\n",
    "$$\\text{Probabilidad de Test Negativo} = P(T-) = \\frac{\\text{Número de Test Negativos}}{Población}=\\frac{9875}{10000}=0.9875$$\n",
    "-------\n",
    "$$\\text{Probabilidad(Test Positivos y No Infectados)} = P((T+)Î) = \\frac{((T+)Î)}{Î} = \\frac{90}{9950}= 0.009045$$\n",
    "$$\\text{Probabilidad(No Infectados en Test Positivos)} = P((Î)T+) = \\frac{((T+)Î)}{T+} = \\frac{90}{125} = 0.72 $$\n",
    "\n",
    "$$\\text{Probabilidad(Test Positivos e Infectados)} = P((T+)I) = \\frac{((T+)I)}{I} = \\frac{35}{50} = 0.7$$\n",
    "$$\\text{Probabilidad(Infectados y Test Positivos)} = P((I)T+) = \\frac{((T+)I)}{T+} = \\frac{35}{125} = 0.28$$\n",
    "\n",
    "$$\\text{Probabilidad(Test Negativos e Infectados)} = P((T-)I) = \\frac{((T-)I)}{I} = \\frac{15}{50} = 0.3$$\n",
    "$$\\text{Probabilidad(Infectados y Test Negativos)} = P((I)T-) = \\frac{((T-)I)}{T-} = \\frac{15}{9875} = 0.001519$$\n",
    "\n",
    "$$\\text{Probabilidad{Test Negativos y No Infectados}} = P((T-)Î) = \\frac{((T-)Î)}{Î} = \\frac{9860}{9950} = 0.9909$$\n",
    "$$\\text{Probabilidad{No Infectados y Test Negativos}} = P((T-)Î) = \\frac{((T-)Î)}{T-} = \\frac{9860}{9875} = 0.9985$$\n",
    "-------\n",
    "| Infeccion         | Test +                    | Test -                        | Total     |\n",
    "| ----------------- | ------------------------- | ----------------------------- | --------- |\n",
    "| Esta Infectado    | 35(Verdaderos Positivos)  | 15(Falsos Negativos)          | 50        |\n",
    "| No Esta Infectado | 90(Falsos Positivos)      | 9860(Verdaderos Negativos)    | 9950      |\n",
    "| Total             | 125                       | 9875                          | 10000     |\n",
    "--------------------------------------------------------\n",
    "<center> <h4>Teorema de Bayes</h4></center>\n",
    "\n",
    "$$\\text{Probabilidad de Infectados y Test Positivos }= \\frac {\\text{Probabilidad de Test Positivos e Infectados Multiplicado(*) por la Probabilidad de Infectados}}{\\text{Probabilidad de Test Positivo}}$$\n",
    "\n",
    "$$P(I/T+) = \\frac {P((T+)I)*P(I)}{P(T+)} = \\frac{0.7*0.005}{0.0125} = 0.28$$\n",
    "\n",
    "<!-- \\begin{equation}\\text {P(I/T+)} = \\frac{\\text{P(T+/I)*P(I)}}{\\text{P(T+)}} \\end{equation}\n",
    "\n",
    "\\begin{equation}\\text {P(I/T+)} = \\frac{\\text{0.7*0.005}}{\\text{0.0125}} = 0.28 \\end{equation} -->"
   ]
  },
  {
   "cell_type": "markdown",
   "metadata": {},
   "source": [
    "### Calcula las probabilidades con los siguientes datos\n",
    "\n",
    "Según los resultados resumidos del SD Biosensor STANDARD Q, si 1000 personas con síntomas se sometieran a la prueba de antígeno, y 50 de ellas tuvieran realmente covid-19:\n",
    "- 53 personas darían positivo en la prueba de covid-19. De estas, nueve personas  no tendrían covid-19 (resultado falso positivo).\n",
    "- 947 personas darían negativo en la prueba de covid-19. De estas, seis personas tendrían realmente covid-19 (resultado falso negativo)."
   ]
  },
  {
   "cell_type": "markdown",
   "metadata": {},
   "source": [
    "#### Resultado\n",
    "\n",
    "-------\n",
    "- I = 50\n",
    "- Î = 950\n",
    "- T+ = 53\n",
    "- T- = 947\n",
    "-------\n",
    "- (T+)Î = 9\n",
    "- (T+)I = (T+) - (T+)Î = 53-9 = 44\n",
    "- (T-)I = 6\n",
    "- (T-)Î = (T-)I - (T-) = 6-947 = 941\n",
    "-------\n",
    "$$P(I) = \\frac{I}{Poblacion} = \\frac{50}{1000} = 0.05$$\n",
    "$$P(Î) = \\frac{Î}{Poblacion} = \\frac{950}{1000} = 0.95$$\n",
    "$$P(T+) = \\frac{T+}{Poblacion} = \\frac{53}{1000} = 0.053$$\n",
    "$$P(T-) = \\frac{T-}{Poblacion} = \\frac{947}{1000} = 0.947$$\n",
    "-------\n",
    "$$\\text{Probabilidad(Test Positivos y No Infectados)} = P((T+)Î) = \\frac{((T+)Î)}{Î} = \\frac{9}{950}= 0.0095$$\n",
    "$$\\text{Probabilidad(No Infectados en Test Positivos)} = P((Î)T+) = \\frac{((T+)Î)}{T+} = \\frac{9}{53} = 0.1698$$\n",
    "\n",
    "$$\\text{Probabilidad(Test Positivos e Infectados)} = P((T+)I) = \\frac{((T+)I)}{I} = \\frac{44}{50} = 0.88$$\n",
    "$$\\text{Probabilidad(Infectados y Test Positivos)} = P((I)T+) = \\frac{((T+)I)}{T+} = \\frac{44}{53} = 0.83$$\n",
    "\n",
    "$$\\text{Probabilidad(Test Negativos e Infectados)} = P((T-)I) = \\frac{((T-)I)}{I} = \\frac{6}{50} = 0.12$$\n",
    "$$\\text{Probabilidad(Infectados y Test Negativos)} = P((I)T-) = \\frac{((T-)I)}{T-} = \\frac{6}{974} = 0.0063358$$\n",
    "\n",
    "$$\\text{Probabilidad{Test Negativos y No Infectados}} = P((T-)Î) = \\frac{((T-)Î)}{Î} = \\frac{941}{950} = 0.988$$\n",
    "$$\\text{Probabilidad{No Infectados y Test Negativos}} = P((T-)Î) = \\frac{((T-)Î)}{T-} = \\frac{941}{947} = 0.993$$\n",
    "-------\n",
    "| Infeccion         | Test +                    | Test -                        | Total     |\n",
    "| ----------------- | ------------------------- | ----------------------------- | --------- |\n",
    "| Esta Infectado    | 44(Verdaderos Positivos ) | 6(Falsos Negativos)           | 50        |\n",
    "| No Esta Infectado | 9(Falsos Positivos)       | 941(Verdaderos Negativos)     | 950       |\n",
    "| Suma              | 53                        | 947                           | 1000      |\n",
    "--------------------------------------------------------\n",
    "<center> <h4>Teorema de Bayes</h4></center>\n",
    "\n",
    "$$\\text{Probabilidad de Infectados y Test Positivos }= \\frac {\\text{Probabilidad de Test Positivos e Infectados Multiplicado(*) por la Probabilidad de Infectados}}{\\text{Probabilidad de Test Positivo}}$$\n",
    "\n",
    "$$P(I/T+) = \\frac {P((T+)I)*P(I)}{P(T+)} = \\frac{0.88*0.05}{0.053} = 0.83$$"
   ]
  }
 ],
 "metadata": {
  "language_info": {
   "name": "python"
  }
 },
 "nbformat": 4,
 "nbformat_minor": 2
}
